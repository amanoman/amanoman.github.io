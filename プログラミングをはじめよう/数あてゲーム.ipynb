{
 "cells": [
  {
   "cell_type": "markdown",
   "metadata": {},
   "source": [
    "### ゲーム開始表示"
   ]
  },
  {
   "cell_type": "code",
   "execution_count": 8,
   "metadata": {},
   "outputs": [
    {
     "name": "stdout",
     "output_type": "stream",
     "text": [
      "「ゲーム開始！チャンスは5回」\n"
     ]
    }
   ],
   "source": [
    "print('「ゲーム開始！チャンスは5回」')"
   ]
  },
  {
   "cell_type": "markdown",
   "metadata": {},
   "source": [
    "### 数あての処理\n",
    "・１～３の整数をランダムに生成\n",
    "・プレイヤーが数値を入力\n",
    "・正解なら「あたり！」と表示\n",
    "・正解なら得点を1点加算\n",
    "・不正解なら「はずれ！正解は○です。」と表示"
   ]
  },
  {
   "cell_type": "code",
   "execution_count": 12,
   "metadata": {},
   "outputs": [
    {
     "name": "stdout",
     "output_type": "stream",
     "text": [
      "１～３の数を入力してください＞＞＞1\n",
      "「はずれ！正解は2です。」\n",
      "１～３の数を入力してください＞＞＞2\n",
      "「あたり！」\n",
      "１～３の数を入力してください＞＞＞3\n",
      "「はずれ！正解は1です。」\n",
      "１～３の数を入力してください＞＞＞1\n",
      "「はずれ！正解は2です。」\n",
      "１～３の数を入力してください＞＞＞2\n",
      "「はずれ！正解は3です。」\n"
     ]
    }
   ],
   "source": [
    "import random\n",
    "question = 0\n",
    "score = 0\n",
    "answer = 0\n",
    "num = 0\n",
    "#while num < 5:\n",
    "for i in range(5):\n",
    "    question = random.randint(1,3)\n",
    "    #print(question)\n",
    "    answer = input('１～３の数を入力してください＞＞＞')\n",
    "    if question == int(answer):\n",
    "        print('「あたり！」')\n",
    "        score += 1\n",
    "        #num += 1\n",
    "    else:\n",
    "        print('「はずれ！正解は'+ str(question) + 'です。」')\n",
    "        #num += 1"
   ]
  },
  {
   "cell_type": "markdown",
   "metadata": {},
   "source": [
    "# ゲーム終了表示"
   ]
  },
  {
   "cell_type": "code",
   "execution_count": 13,
   "metadata": {},
   "outputs": [
    {
     "name": "stdout",
     "output_type": "stream",
     "text": [
      "「ゲーム終了。あなたの得点は1点です！」\n"
     ]
    }
   ],
   "source": [
    "print('「ゲーム終了。あなたの得点は' + str(score) + '点です！」')"
   ]
  },
  {
   "cell_type": "code",
   "execution_count": null,
   "metadata": {},
   "outputs": [],
   "source": []
  }
 ],
 "metadata": {
  "kernelspec": {
   "display_name": "Python 3",
   "language": "python",
   "name": "python3"
  },
  "language_info": {
   "codemirror_mode": {
    "name": "ipython",
    "version": 3
   },
   "file_extension": ".py",
   "mimetype": "text/x-python",
   "name": "python",
   "nbconvert_exporter": "python",
   "pygments_lexer": "ipython3",
   "version": "3.7.3"
  }
 },
 "nbformat": 4,
 "nbformat_minor": 2
}
