{
 "cells": [
  {
   "cell_type": "code",
   "execution_count": 1,
   "metadata": {},
   "outputs": [],
   "source": [
    "import pandas as pd"
   ]
  },
  {
   "cell_type": "code",
   "execution_count": 3,
   "metadata": {},
   "outputs": [],
   "source": [
    "df = pd.read_csv('time-series.csv')"
   ]
  },
  {
   "cell_type": "code",
   "execution_count": 5,
   "metadata": {},
   "outputs": [
    {
     "data": {
      "text/html": [
       "<div>\n",
       "<style scoped>\n",
       "    .dataframe tbody tr th:only-of-type {\n",
       "        vertical-align: middle;\n",
       "    }\n",
       "\n",
       "    .dataframe tbody tr th {\n",
       "        vertical-align: top;\n",
       "    }\n",
       "\n",
       "    .dataframe thead th {\n",
       "        text-align: right;\n",
       "    }\n",
       "</style>\n",
       "<table border=\"1\" class=\"dataframe\">\n",
       "  <thead>\n",
       "    <tr style=\"text-align: right;\">\n",
       "      <th></th>\n",
       "      <th>date</th>\n",
       "      <th>AAPL</th>\n",
       "      <th>MSFT</th>\n",
       "    </tr>\n",
       "  </thead>\n",
       "  <tbody>\n",
       "    <tr>\n",
       "      <th>0</th>\n",
       "      <td>2015-01-02</td>\n",
       "      <td>101.9635</td>\n",
       "      <td>42.5999</td>\n",
       "    </tr>\n",
       "    <tr>\n",
       "      <th>1</th>\n",
       "      <td>2015-01-05</td>\n",
       "      <td>99.0910</td>\n",
       "      <td>42.2036</td>\n",
       "    </tr>\n",
       "    <tr>\n",
       "      <th>2</th>\n",
       "      <td>2015-01-06</td>\n",
       "      <td>99.1003</td>\n",
       "      <td>41.5886</td>\n",
       "    </tr>\n",
       "    <tr>\n",
       "      <th>3</th>\n",
       "      <td>2015-01-07</td>\n",
       "      <td>100.4899</td>\n",
       "      <td>42.1170</td>\n",
       "    </tr>\n",
       "    <tr>\n",
       "      <th>4</th>\n",
       "      <td>2015-01-08</td>\n",
       "      <td>104.3510</td>\n",
       "      <td>43.3560</td>\n",
       "    </tr>\n",
       "  </tbody>\n",
       "</table>\n",
       "</div>"
      ],
      "text/plain": [
       "         date      AAPL     MSFT\n",
       "0  2015-01-02  101.9635  42.5999\n",
       "1  2015-01-05   99.0910  42.2036\n",
       "2  2015-01-06   99.1003  41.5886\n",
       "3  2015-01-07  100.4899  42.1170\n",
       "4  2015-01-08  104.3510  43.3560"
      ]
     },
     "execution_count": 5,
     "metadata": {},
     "output_type": "execute_result"
    }
   ],
   "source": [
    "df.head() #アップルとマイクロソフトの日付ごとの株価データ"
   ]
  },
  {
   "cell_type": "code",
   "execution_count": 8,
   "metadata": {},
   "outputs": [
    {
     "data": {
      "text/plain": [
       "0        42.5999\n",
       "1        42.2036\n",
       "2        41.5886\n",
       "3        42.1170\n",
       "4        43.3560\n",
       "5        42.9916\n",
       "6        42.4541\n",
       "7        42.2309\n",
       "8        41.8665\n",
       "9        41.4338\n",
       "10       42.1261\n",
       "11       42.2628\n",
       "12       41.8346\n",
       "13       42.9370\n",
       "14       42.9825\n",
       "15       42.8276\n",
       "16       38.8646\n",
       "17       37.5254\n",
       "18       38.2725\n",
       "19       36.8057\n",
       "20       37.6074\n",
       "21       37.8989\n",
       "22       38.1176\n",
       "23       38.6733\n",
       "24       38.6369\n",
       "25       38.5913\n",
       "26       38.8100\n",
       "27       38.6096\n",
       "28       39.2564\n",
       "29       39.9670\n",
       "          ...   \n",
       "976     107.2800\n",
       "977     108.2900\n",
       "978     104.6200\n",
       "979     101.7100\n",
       "980     103.1100\n",
       "981     103.0700\n",
       "982     106.4700\n",
       "983     107.1400\n",
       "984     111.1200\n",
       "985     110.1900\n",
       "986     110.8900\n",
       "987     112.0900\n",
       "988     108.5200\n",
       "989     109.1900\n",
       "990     104.8200\n",
       "991     107.5900\n",
       "992     108.5900\n",
       "993     109.0800\n",
       "994     109.4500\n",
       "995     106.0300\n",
       "996     102.8900\n",
       "997     103.9700\n",
       "998     103.6900\n",
       "999     101.5100\n",
       "1000     98.2300\n",
       "1001     94.1300\n",
       "1002    100.5600\n",
       "1003    101.1800\n",
       "1004    100.3900\n",
       "1005    101.5700\n",
       "Name: MSFT, Length: 1006, dtype: float64"
      ]
     },
     "execution_count": 8,
     "metadata": {},
     "output_type": "execute_result"
    }
   ],
   "source": [
    "df['MSFT']"
   ]
  },
  {
   "cell_type": "code",
   "execution_count": null,
   "metadata": {},
   "outputs": [],
   "source": []
  }
 ],
 "metadata": {
  "kernelspec": {
   "display_name": "Python 3",
   "language": "python",
   "name": "python3"
  },
  "language_info": {
   "codemirror_mode": {
    "name": "ipython",
    "version": 3
   },
   "file_extension": ".py",
   "mimetype": "text/x-python",
   "name": "python",
   "nbconvert_exporter": "python",
   "pygments_lexer": "ipython3",
   "version": "3.7.3"
  }
 },
 "nbformat": 4,
 "nbformat_minor": 2
}
