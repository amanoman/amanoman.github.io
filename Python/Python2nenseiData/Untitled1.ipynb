{
 "cells": [
  {
   "cell_type": "code",
   "execution_count": 2,
   "metadata": {},
   "outputs": [
    {
     "name": "stdout",
     "output_type": "stream",
     "text": [
      "Requirement already satisfied: yfinance in c:\\users\\hks-s\\anaconda3\\lib\\site-packages (0.1.55)\n",
      "Requirement already satisfied: lxml>=4.5.1 in c:\\users\\hks-s\\anaconda3\\lib\\site-packages (from yfinance) (4.6.1)\n",
      "Requirement already satisfied: multitasking>=0.0.7 in c:\\users\\hks-s\\anaconda3\\lib\\site-packages (from yfinance) (0.0.9)\n",
      "Requirement already satisfied: requests>=2.20 in c:\\users\\hks-s\\anaconda3\\lib\\site-packages (from yfinance) (2.24.0)\n",
      "Requirement already satisfied: numpy>=1.15 in c:\\users\\hks-s\\anaconda3\\lib\\site-packages (from yfinance) (1.19.2)\n",
      "Requirement already satisfied: pandas>=0.24 in c:\\users\\hks-s\\anaconda3\\lib\\site-packages (from yfinance) (1.1.3)\n",
      "Requirement already satisfied: numpy>=1.15 in c:\\users\\hks-s\\anaconda3\\lib\\site-packages (from yfinance) (1.19.2)\n",
      "Requirement already satisfied: python-dateutil>=2.7.3 in c:\\users\\hks-s\\anaconda3\\lib\\site-packages (from pandas>=0.24->yfinance) (2.8.1)\n",
      "Requirement already satisfied: pytz>=2017.2 in c:\\users\\hks-s\\anaconda3\\lib\\site-packages (from pandas>=0.24->yfinance) (2020.1)\n",
      "Requirement already satisfied: six>=1.5 in c:\\users\\hks-s\\anaconda3\\lib\\site-packages (from python-dateutil>=2.7.3->pandas>=0.24->yfinance) (1.15.0)\n",
      "Requirement already satisfied: certifi>=2017.4.17 in c:\\users\\hks-s\\anaconda3\\lib\\site-packages (from requests>=2.20->yfinance) (2020.11.8)\n",
      "Requirement already satisfied: urllib3!=1.25.0,!=1.25.1,<1.26,>=1.21.1 in c:\\users\\hks-s\\anaconda3\\lib\\site-packages (from requests>=2.20->yfinance) (1.25.11)\n",
      "Note: you may need to restart the kernel to use updated packages.Requirement already satisfied: chardet<4,>=3.0.2 in c:\\users\\hks-s\\anaconda3\\lib\\site-packages (from requests>=2.20->yfinance) (3.0.4)\n",
      "\n",
      "Requirement already satisfied: idna<3,>=2.5 in c:\\users\\hks-s\\anaconda3\\lib\\site-packages (from requests>=2.20->yfinance) (2.10)\n"
     ]
    }
   ],
   "source": [
    "pip install yfinance"
   ]
  },
  {
   "cell_type": "code",
   "execution_count": 3,
   "metadata": {},
   "outputs": [
    {
     "ename": "TabError",
     "evalue": "inconsistent use of tabs and spaces in indentation (base.py, line 378)",
     "output_type": "error",
     "traceback": [
      "Traceback \u001b[1;36m(most recent call last)\u001b[0m:\n",
      "  File \u001b[0;32m\"C:\\Users\\hks-s\\Anaconda3\\lib\\site-packages\\IPython\\core\\interactiveshell.py\"\u001b[0m, line \u001b[0;32m3418\u001b[0m, in \u001b[0;35mrun_code\u001b[0m\n    exec(code_obj, self.user_global_ns, self.user_ns)\n",
      "  File \u001b[0;32m\"<ipython-input-3-18a8d430f78e>\"\u001b[0m, line \u001b[0;32m1\u001b[0m, in \u001b[0;35m<module>\u001b[0m\n    import yfinance as yf\n",
      "  File \u001b[0;32m\"C:\\Users\\hks-s\\Anaconda3\\lib\\site-packages\\yfinance\\__init__.py\"\u001b[0m, line \u001b[0;32m25\u001b[0m, in \u001b[0;35m<module>\u001b[0m\n    from .ticker import Ticker\n",
      "\u001b[1;36m  File \u001b[1;32m\"C:\\Users\\hks-s\\Anaconda3\\lib\\site-packages\\yfinance\\ticker.py\"\u001b[1;36m, line \u001b[1;32m34\u001b[1;36m, in \u001b[1;35m<module>\u001b[1;36m\u001b[0m\n\u001b[1;33m    from .base import TickerBase\u001b[0m\n",
      "\u001b[1;36m  File \u001b[1;32m\"C:\\Users\\hks-s\\Anaconda3\\lib\\site-packages\\yfinance\\base.py\"\u001b[1;36m, line \u001b[1;32m378\u001b[0m\n\u001b[1;33m    data = utils.get_json(url, proxy)                                # 追加\u001b[0m\n\u001b[1;37m                                                                         ^\u001b[0m\n\u001b[1;31mTabError\u001b[0m\u001b[1;31m:\u001b[0m inconsistent use of tabs and spaces in indentation\n"
     ]
    }
   ],
   "source": [
    "import yfinance as yf\n",
    "\n",
    "ticker = yf.Ticker(\"7203.T\")\n",
    "hist = ticker.history(period=\"max\")\n",
    "print(hist)\n"
   ]
  },
  {
   "cell_type": "code",
   "execution_count": null,
   "metadata": {},
   "outputs": [],
   "source": []
  }
 ],
 "metadata": {
  "kernelspec": {
   "display_name": "Python 3",
   "language": "python",
   "name": "python3"
  },
  "language_info": {
   "codemirror_mode": {
    "name": "ipython",
    "version": 3
   },
   "file_extension": ".py",
   "mimetype": "text/x-python",
   "name": "python",
   "nbconvert_exporter": "python",
   "pygments_lexer": "ipython3",
   "version": "3.8.5"
  }
 },
 "nbformat": 4,
 "nbformat_minor": 4
}
