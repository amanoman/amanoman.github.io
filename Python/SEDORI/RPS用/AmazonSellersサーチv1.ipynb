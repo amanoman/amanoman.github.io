{
 "cells": [
  {
   "cell_type": "code",
   "execution_count": 24,
   "metadata": {},
   "outputs": [],
   "source": [
    "import sys\n",
    "import time\n",
    "import datetime\n",
    "import pandas as pd\n",
    "from selenium import webdriver\n",
    "from bs4 import BeautifulSoup"
   ]
  },
  {
   "cell_type": "code",
   "execution_count": 25,
   "metadata": {},
   "outputs": [
    {
     "name": "stdout",
     "output_type": "stream",
     "text": [
      "0ページ目取得中\n",
      "※※取得完了※※\n"
     ]
    }
   ],
   "source": [
    "# エラーの場合→現在のChromeに対応したドライバをダウンロード、アナコンダ内のC:\\Users\\hks-s\\Anaconda3\\chromedriver_win32を上書き\n",
    "names = []\n",
    "browser = webdriver.Chrome(executable_path=\"chromedriver.exe\")\n",
    "\n",
    "for page in range(0,1):\n",
    "    \n",
    "    url_site = \"https://www.amazon.co.jp/s?me=A3T97Q67P7MVHW&marketplaceID=A1VC38T7YXB528&ref=sr_pg_\".format(page)\n",
    "    # .format(page)で何ページ目かを指定\n",
    "    \n",
    "    browser.get(url_site)\n",
    "    print(\"{}ページ目取得中\".format(page))\n",
    "    section = soup.find(class=\"a-section\")\n",
    "    elems = browser.find_elements_by_class_name(\"span\")\n",
    "    time.sleep(10)\n",
    "    \n",
    "    for elem in elems: #for文でelemsリストの中身をelemの中に一つずついれる\n",
    "        name = elem.text #テキストで表示できるようにする\n",
    "        #name = name_full.split(\"専用\")[0] #splitで専用で分割、1つ目を取得\n",
    "        names.append(name) #namesリストへひとつずつ追加\n",
    "        browser.implicitly_wait = 10\n",
    "\n",
    "browser.close();\n",
    "\n",
    "print(\"※※取得完了※※\")"
   ]
  },
  {
   "cell_type": "code",
   "execution_count": 30,
   "metadata": {},
   "outputs": [
    {
     "name": "stdout",
     "output_type": "stream",
     "text": [
      "[]\n"
     ]
    }
   ],
   "source": [
    "print(names)\n"
   ]
  },
  {
   "cell_type": "code",
   "execution_count": null,
   "metadata": {},
   "outputs": [],
   "source": []
  }
 ],
 "metadata": {
  "kernelspec": {
   "display_name": "Python 3",
   "language": "python",
   "name": "python3"
  },
  "language_info": {
   "codemirror_mode": {
    "name": "ipython",
    "version": 3
   },
   "file_extension": ".py",
   "mimetype": "text/x-python",
   "name": "python",
   "nbconvert_exporter": "python",
   "pygments_lexer": "ipython3",
   "version": "3.7.6"
  }
 },
 "nbformat": 4,
 "nbformat_minor": 4
}
