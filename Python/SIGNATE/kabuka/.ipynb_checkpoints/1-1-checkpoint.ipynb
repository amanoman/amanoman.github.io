{
 "cells": [
  {
   "cell_type": "code",
   "execution_count": 104,
   "metadata": {},
   "outputs": [],
   "source": [
    "import pandas as pd\n",
    "import numpy as np\n",
    "from matplotlib import pyplot as plt\n",
    "%matplotlib inline\n",
    "\n",
    "from sklearn.linear_model import LinearRegression as LR"
   ]
  },
  {
   "cell_type": "code",
   "execution_count": 105,
   "metadata": {},
   "outputs": [],
   "source": [
    "train = pd.read_csv(\"train.csv\")\n",
    "test = pd.read_csv(\"test.csv\")\n",
    "sample = pd.read_csv(\"sample_submission.csv\",header=None)"
   ]
  },
  {
   "cell_type": "code",
   "execution_count": 106,
   "metadata": {},
   "outputs": [
    {
     "data": {
      "text/html": [
       "<div>\n",
       "<style scoped>\n",
       "    .dataframe tbody tr th:only-of-type {\n",
       "        vertical-align: middle;\n",
       "    }\n",
       "\n",
       "    .dataframe tbody tr th {\n",
       "        vertical-align: top;\n",
       "    }\n",
       "\n",
       "    .dataframe thead th {\n",
       "        text-align: right;\n",
       "    }\n",
       "</style>\n",
       "<table border=\"1\" class=\"dataframe\">\n",
       "  <thead>\n",
       "    <tr style=\"text-align: right;\">\n",
       "      <th></th>\n",
       "      <th>Date</th>\n",
       "      <th>Open</th>\n",
       "      <th>High</th>\n",
       "      <th>Low</th>\n",
       "      <th>Close</th>\n",
       "      <th>Up</th>\n",
       "    </tr>\n",
       "  </thead>\n",
       "  <tbody>\n",
       "    <tr>\n",
       "      <th>0</th>\n",
       "      <td>2004-01-02</td>\n",
       "      <td>50.85</td>\n",
       "      <td>50.91</td>\n",
       "      <td>50.62</td>\n",
       "      <td>50.72</td>\n",
       "      <td>1</td>\n",
       "    </tr>\n",
       "    <tr>\n",
       "      <th>1</th>\n",
       "      <td>2004-01-05</td>\n",
       "      <td>50.75</td>\n",
       "      <td>50.84</td>\n",
       "      <td>50.61</td>\n",
       "      <td>50.79</td>\n",
       "      <td>1</td>\n",
       "    </tr>\n",
       "    <tr>\n",
       "      <th>2</th>\n",
       "      <td>2004-01-06</td>\n",
       "      <td>50.87</td>\n",
       "      <td>51.26</td>\n",
       "      <td>50.86</td>\n",
       "      <td>51.15</td>\n",
       "      <td>1</td>\n",
       "    </tr>\n",
       "    <tr>\n",
       "      <th>3</th>\n",
       "      <td>2004-01-07</td>\n",
       "      <td>51.45</td>\n",
       "      <td>51.54</td>\n",
       "      <td>51.29</td>\n",
       "      <td>51.51</td>\n",
       "      <td>0</td>\n",
       "    </tr>\n",
       "    <tr>\n",
       "      <th>4</th>\n",
       "      <td>2004-01-08</td>\n",
       "      <td>51.15</td>\n",
       "      <td>51.33</td>\n",
       "      <td>51.02</td>\n",
       "      <td>51.28</td>\n",
       "      <td>0</td>\n",
       "    </tr>\n",
       "  </tbody>\n",
       "</table>\n",
       "</div>"
      ],
      "text/plain": [
       "         Date   Open   High    Low  Close  Up\n",
       "0  2004-01-02  50.85  50.91  50.62  50.72   1\n",
       "1  2004-01-05  50.75  50.84  50.61  50.79   1\n",
       "2  2004-01-06  50.87  51.26  50.86  51.15   1\n",
       "3  2004-01-07  51.45  51.54  51.29  51.51   0\n",
       "4  2004-01-08  51.15  51.33  51.02  51.28   0"
      ]
     },
     "execution_count": 106,
     "metadata": {},
     "output_type": "execute_result"
    }
   ],
   "source": [
    "train.head()"
   ]
  },
  {
   "cell_type": "code",
   "execution_count": 107,
   "metadata": {},
   "outputs": [
    {
     "data": {
      "text/html": [
       "<div>\n",
       "<style scoped>\n",
       "    .dataframe tbody tr th:only-of-type {\n",
       "        vertical-align: middle;\n",
       "    }\n",
       "\n",
       "    .dataframe tbody tr th {\n",
       "        vertical-align: top;\n",
       "    }\n",
       "\n",
       "    .dataframe thead th {\n",
       "        text-align: right;\n",
       "    }\n",
       "</style>\n",
       "<table border=\"1\" class=\"dataframe\">\n",
       "  <thead>\n",
       "    <tr style=\"text-align: right;\">\n",
       "      <th></th>\n",
       "      <th>Date</th>\n",
       "      <th>Open</th>\n",
       "      <th>High</th>\n",
       "      <th>Low</th>\n",
       "      <th>Close</th>\n",
       "    </tr>\n",
       "  </thead>\n",
       "  <tbody>\n",
       "    <tr>\n",
       "      <th>0</th>\n",
       "      <td>2012-01-19</td>\n",
       "      <td>110.79</td>\n",
       "      <td>110.82</td>\n",
       "      <td>109.96</td>\n",
       "      <td>110.39</td>\n",
       "    </tr>\n",
       "    <tr>\n",
       "      <th>1</th>\n",
       "      <td>2012-01-20</td>\n",
       "      <td>110.45</td>\n",
       "      <td>111.10</td>\n",
       "      <td>110.36</td>\n",
       "      <td>110.73</td>\n",
       "    </tr>\n",
       "    <tr>\n",
       "      <th>2</th>\n",
       "      <td>2012-01-23</td>\n",
       "      <td>110.95</td>\n",
       "      <td>111.10</td>\n",
       "      <td>109.65</td>\n",
       "      <td>110.36</td>\n",
       "    </tr>\n",
       "    <tr>\n",
       "      <th>3</th>\n",
       "      <td>2012-01-24</td>\n",
       "      <td>110.16</td>\n",
       "      <td>110.16</td>\n",
       "      <td>108.13</td>\n",
       "      <td>108.39</td>\n",
       "    </tr>\n",
       "    <tr>\n",
       "      <th>4</th>\n",
       "      <td>2012-01-25</td>\n",
       "      <td>106.25</td>\n",
       "      <td>107.11</td>\n",
       "      <td>105.97</td>\n",
       "      <td>106.89</td>\n",
       "    </tr>\n",
       "  </tbody>\n",
       "</table>\n",
       "</div>"
      ],
      "text/plain": [
       "         Date    Open    High     Low   Close\n",
       "0  2012-01-19  110.79  110.82  109.96  110.39\n",
       "1  2012-01-20  110.45  111.10  110.36  110.73\n",
       "2  2012-01-23  110.95  111.10  109.65  110.36\n",
       "3  2012-01-24  110.16  110.16  108.13  108.39\n",
       "4  2012-01-25  106.25  107.11  105.97  106.89"
      ]
     },
     "execution_count": 107,
     "metadata": {},
     "output_type": "execute_result"
    }
   ],
   "source": [
    "test.head()"
   ]
  },
  {
   "cell_type": "code",
   "execution_count": 108,
   "metadata": {},
   "outputs": [
    {
     "data": {
      "text/html": [
       "<div>\n",
       "<style scoped>\n",
       "    .dataframe tbody tr th:only-of-type {\n",
       "        vertical-align: middle;\n",
       "    }\n",
       "\n",
       "    .dataframe tbody tr th {\n",
       "        vertical-align: top;\n",
       "    }\n",
       "\n",
       "    .dataframe thead th {\n",
       "        text-align: right;\n",
       "    }\n",
       "</style>\n",
       "<table border=\"1\" class=\"dataframe\">\n",
       "  <thead>\n",
       "    <tr style=\"text-align: right;\">\n",
       "      <th></th>\n",
       "      <th>0</th>\n",
       "      <th>1</th>\n",
       "    </tr>\n",
       "  </thead>\n",
       "  <tbody>\n",
       "    <tr>\n",
       "      <th>0</th>\n",
       "      <td>2012-01-26</td>\n",
       "      <td>0</td>\n",
       "    </tr>\n",
       "    <tr>\n",
       "      <th>1</th>\n",
       "      <td>2012-02-09</td>\n",
       "      <td>0</td>\n",
       "    </tr>\n",
       "    <tr>\n",
       "      <th>2</th>\n",
       "      <td>2012-02-24</td>\n",
       "      <td>0</td>\n",
       "    </tr>\n",
       "    <tr>\n",
       "      <th>3</th>\n",
       "      <td>2012-03-09</td>\n",
       "      <td>0</td>\n",
       "    </tr>\n",
       "    <tr>\n",
       "      <th>4</th>\n",
       "      <td>2012-03-23</td>\n",
       "      <td>0</td>\n",
       "    </tr>\n",
       "  </tbody>\n",
       "</table>\n",
       "</div>"
      ],
      "text/plain": [
       "            0  1\n",
       "0  2012-01-26  0\n",
       "1  2012-02-09  0\n",
       "2  2012-02-24  0\n",
       "3  2012-03-09  0\n",
       "4  2012-03-23  0"
      ]
     },
     "execution_count": 108,
     "metadata": {},
     "output_type": "execute_result"
    }
   ],
   "source": [
    "sample.head()"
   ]
  },
  {
   "cell_type": "code",
   "execution_count": 109,
   "metadata": {},
   "outputs": [
    {
     "data": {
      "text/plain": [
       "<bound method DataFrame.info of             Date    Open    High     Low   Close  Up\n",
       "0     2004-01-02   50.85   50.91   50.62   50.72   1\n",
       "1     2004-01-05   50.75   50.84   50.61   50.79   1\n",
       "2     2004-01-06   50.87   51.26   50.86   51.15   1\n",
       "3     2004-01-07   51.45   51.54   51.29   51.51   0\n",
       "4     2004-01-08   51.15   51.33   51.02   51.28   0\n",
       "...          ...     ...     ...     ...     ...  ..\n",
       "2021  2012-01-11  108.62  109.00  108.41  108.86   1\n",
       "2022  2012-01-12  109.68  109.90  109.44  109.83   0\n",
       "2023  2012-01-13  109.53  109.72  109.08  109.66   1\n",
       "2024  2012-01-17  109.99  110.47  109.57  109.96   1\n",
       "2025  2012-01-18  110.06  110.82  109.94  110.58   0\n",
       "\n",
       "[2026 rows x 6 columns]>"
      ]
     },
     "execution_count": 109,
     "metadata": {},
     "output_type": "execute_result"
    }
   ],
   "source": [
    "train.info"
   ]
  },
  {
   "cell_type": "code",
   "execution_count": 110,
   "metadata": {},
   "outputs": [],
   "source": [
    "y = train[\"Up\"]"
   ]
  },
  {
   "cell_type": "code",
   "execution_count": 111,
   "metadata": {},
   "outputs": [
    {
     "data": {
      "text/html": [
       "<div>\n",
       "<style scoped>\n",
       "    .dataframe tbody tr th:only-of-type {\n",
       "        vertical-align: middle;\n",
       "    }\n",
       "\n",
       "    .dataframe tbody tr th {\n",
       "        vertical-align: top;\n",
       "    }\n",
       "\n",
       "    .dataframe thead th {\n",
       "        text-align: right;\n",
       "    }\n",
       "</style>\n",
       "<table border=\"1\" class=\"dataframe\">\n",
       "  <thead>\n",
       "    <tr style=\"text-align: right;\">\n",
       "      <th></th>\n",
       "      <th>Open</th>\n",
       "      <th>High</th>\n",
       "      <th>Low</th>\n",
       "      <th>Close</th>\n",
       "      <th>Up</th>\n",
       "    </tr>\n",
       "  </thead>\n",
       "  <tbody>\n",
       "    <tr>\n",
       "      <th>count</th>\n",
       "      <td>2026.000000</td>\n",
       "      <td>2026.000000</td>\n",
       "      <td>2026.000000</td>\n",
       "      <td>2026.000000</td>\n",
       "      <td>2026.000000</td>\n",
       "    </tr>\n",
       "    <tr>\n",
       "      <th>mean</th>\n",
       "      <td>72.338425</td>\n",
       "      <td>72.714126</td>\n",
       "      <td>71.977957</td>\n",
       "      <td>72.353968</td>\n",
       "      <td>0.515795</td>\n",
       "    </tr>\n",
       "    <tr>\n",
       "      <th>std</th>\n",
       "      <td>14.876363</td>\n",
       "      <td>14.968429</td>\n",
       "      <td>14.778285</td>\n",
       "      <td>14.874404</td>\n",
       "      <td>0.499874</td>\n",
       "    </tr>\n",
       "    <tr>\n",
       "      <th>min</th>\n",
       "      <td>50.430000</td>\n",
       "      <td>50.650000</td>\n",
       "      <td>50.400000</td>\n",
       "      <td>50.610000</td>\n",
       "      <td>0.000000</td>\n",
       "    </tr>\n",
       "    <tr>\n",
       "      <th>25%</th>\n",
       "      <td>57.702500</td>\n",
       "      <td>57.942500</td>\n",
       "      <td>57.415000</td>\n",
       "      <td>57.702500</td>\n",
       "      <td>0.000000</td>\n",
       "    </tr>\n",
       "    <tr>\n",
       "      <th>50%</th>\n",
       "      <td>73.970000</td>\n",
       "      <td>74.430000</td>\n",
       "      <td>73.325000</td>\n",
       "      <td>73.835000</td>\n",
       "      <td>1.000000</td>\n",
       "    </tr>\n",
       "    <tr>\n",
       "      <th>75%</th>\n",
       "      <td>81.230000</td>\n",
       "      <td>81.645000</td>\n",
       "      <td>80.717500</td>\n",
       "      <td>81.060000</td>\n",
       "      <td>1.000000</td>\n",
       "    </tr>\n",
       "    <tr>\n",
       "      <th>max</th>\n",
       "      <td>110.510000</td>\n",
       "      <td>111.020000</td>\n",
       "      <td>110.380000</td>\n",
       "      <td>110.810000</td>\n",
       "      <td>1.000000</td>\n",
       "    </tr>\n",
       "  </tbody>\n",
       "</table>\n",
       "</div>"
      ],
      "text/plain": [
       "              Open         High          Low        Close           Up\n",
       "count  2026.000000  2026.000000  2026.000000  2026.000000  2026.000000\n",
       "mean     72.338425    72.714126    71.977957    72.353968     0.515795\n",
       "std      14.876363    14.968429    14.778285    14.874404     0.499874\n",
       "min      50.430000    50.650000    50.400000    50.610000     0.000000\n",
       "25%      57.702500    57.942500    57.415000    57.702500     0.000000\n",
       "50%      73.970000    74.430000    73.325000    73.835000     1.000000\n",
       "75%      81.230000    81.645000    80.717500    81.060000     1.000000\n",
       "max     110.510000   111.020000   110.380000   110.810000     1.000000"
      ]
     },
     "execution_count": 111,
     "metadata": {},
     "output_type": "execute_result"
    }
   ],
   "source": [
    "train.describe()"
   ]
  },
  {
   "cell_type": "code",
   "execution_count": 112,
   "metadata": {},
   "outputs": [],
   "source": [
    "trainX = train.iloc[:, 0:5]"
   ]
  },
  {
   "cell_type": "code",
   "execution_count": 113,
   "metadata": {},
   "outputs": [
    {
     "data": {
      "text/html": [
       "<div>\n",
       "<style scoped>\n",
       "    .dataframe tbody tr th:only-of-type {\n",
       "        vertical-align: middle;\n",
       "    }\n",
       "\n",
       "    .dataframe tbody tr th {\n",
       "        vertical-align: top;\n",
       "    }\n",
       "\n",
       "    .dataframe thead th {\n",
       "        text-align: right;\n",
       "    }\n",
       "</style>\n",
       "<table border=\"1\" class=\"dataframe\">\n",
       "  <thead>\n",
       "    <tr style=\"text-align: right;\">\n",
       "      <th></th>\n",
       "      <th>Date</th>\n",
       "      <th>Open</th>\n",
       "      <th>High</th>\n",
       "      <th>Low</th>\n",
       "      <th>Close</th>\n",
       "    </tr>\n",
       "  </thead>\n",
       "  <tbody>\n",
       "    <tr>\n",
       "      <th>0</th>\n",
       "      <td>2004-01-02</td>\n",
       "      <td>50.85</td>\n",
       "      <td>50.91</td>\n",
       "      <td>50.62</td>\n",
       "      <td>50.72</td>\n",
       "    </tr>\n",
       "    <tr>\n",
       "      <th>1</th>\n",
       "      <td>2004-01-05</td>\n",
       "      <td>50.75</td>\n",
       "      <td>50.84</td>\n",
       "      <td>50.61</td>\n",
       "      <td>50.79</td>\n",
       "    </tr>\n",
       "    <tr>\n",
       "      <th>2</th>\n",
       "      <td>2004-01-06</td>\n",
       "      <td>50.87</td>\n",
       "      <td>51.26</td>\n",
       "      <td>50.86</td>\n",
       "      <td>51.15</td>\n",
       "    </tr>\n",
       "    <tr>\n",
       "      <th>3</th>\n",
       "      <td>2004-01-07</td>\n",
       "      <td>51.45</td>\n",
       "      <td>51.54</td>\n",
       "      <td>51.29</td>\n",
       "      <td>51.51</td>\n",
       "    </tr>\n",
       "    <tr>\n",
       "      <th>4</th>\n",
       "      <td>2004-01-08</td>\n",
       "      <td>51.15</td>\n",
       "      <td>51.33</td>\n",
       "      <td>51.02</td>\n",
       "      <td>51.28</td>\n",
       "    </tr>\n",
       "    <tr>\n",
       "      <th>...</th>\n",
       "      <td>...</td>\n",
       "      <td>...</td>\n",
       "      <td>...</td>\n",
       "      <td>...</td>\n",
       "      <td>...</td>\n",
       "    </tr>\n",
       "    <tr>\n",
       "      <th>2021</th>\n",
       "      <td>2012-01-11</td>\n",
       "      <td>108.62</td>\n",
       "      <td>109.00</td>\n",
       "      <td>108.41</td>\n",
       "      <td>108.86</td>\n",
       "    </tr>\n",
       "    <tr>\n",
       "      <th>2022</th>\n",
       "      <td>2012-01-12</td>\n",
       "      <td>109.68</td>\n",
       "      <td>109.90</td>\n",
       "      <td>109.44</td>\n",
       "      <td>109.83</td>\n",
       "    </tr>\n",
       "    <tr>\n",
       "      <th>2023</th>\n",
       "      <td>2012-01-13</td>\n",
       "      <td>109.53</td>\n",
       "      <td>109.72</td>\n",
       "      <td>109.08</td>\n",
       "      <td>109.66</td>\n",
       "    </tr>\n",
       "    <tr>\n",
       "      <th>2024</th>\n",
       "      <td>2012-01-17</td>\n",
       "      <td>109.99</td>\n",
       "      <td>110.47</td>\n",
       "      <td>109.57</td>\n",
       "      <td>109.96</td>\n",
       "    </tr>\n",
       "    <tr>\n",
       "      <th>2025</th>\n",
       "      <td>2012-01-18</td>\n",
       "      <td>110.06</td>\n",
       "      <td>110.82</td>\n",
       "      <td>109.94</td>\n",
       "      <td>110.58</td>\n",
       "    </tr>\n",
       "  </tbody>\n",
       "</table>\n",
       "<p>2026 rows × 5 columns</p>\n",
       "</div>"
      ],
      "text/plain": [
       "            Date    Open    High     Low   Close\n",
       "0     2004-01-02   50.85   50.91   50.62   50.72\n",
       "1     2004-01-05   50.75   50.84   50.61   50.79\n",
       "2     2004-01-06   50.87   51.26   50.86   51.15\n",
       "3     2004-01-07   51.45   51.54   51.29   51.51\n",
       "4     2004-01-08   51.15   51.33   51.02   51.28\n",
       "...          ...     ...     ...     ...     ...\n",
       "2021  2012-01-11  108.62  109.00  108.41  108.86\n",
       "2022  2012-01-12  109.68  109.90  109.44  109.83\n",
       "2023  2012-01-13  109.53  109.72  109.08  109.66\n",
       "2024  2012-01-17  109.99  110.47  109.57  109.96\n",
       "2025  2012-01-18  110.06  110.82  109.94  110.58\n",
       "\n",
       "[2026 rows x 5 columns]"
      ]
     },
     "execution_count": 113,
     "metadata": {},
     "output_type": "execute_result"
    }
   ],
   "source": [
    "trainX"
   ]
  },
  {
   "cell_type": "code",
   "execution_count": 114,
   "metadata": {},
   "outputs": [
    {
     "data": {
      "text/plain": [
       "<AxesSubplot:>"
      ]
     },
     "execution_count": 114,
     "metadata": {},
     "output_type": "execute_result"
    },
    {
     "data": {
      "image/png": "[encoded data removed]",
      "text/plain": [
       "<Figure size 2160x288 with 1 Axes>"
      ]
     },
     "metadata": {
      "needs_background": "light"
     },
     "output_type": "display_data"
    }
   ],
   "source": [
    "trainX.plot(figsize=(30,4))\n",
    "y.plot()"
   ]
  },
  {
   "cell_type": "code",
   "execution_count": 115,
   "metadata": {},
   "outputs": [
    {
     "data": {
      "text/plain": [
       "(2026, 6)"
      ]
     },
     "execution_count": 115,
     "metadata": {},
     "output_type": "execute_result"
    }
   ],
   "source": [
    "train.shape"
   ]
  },
  {
   "cell_type": "code",
   "execution_count": 116,
   "metadata": {},
   "outputs": [
    {
     "data": {
      "text/plain": [
       "0       1\n",
       "1       1\n",
       "2       1\n",
       "3       0\n",
       "4       0\n",
       "       ..\n",
       "2021    1\n",
       "2022    0\n",
       "2023    1\n",
       "2024    1\n",
       "2025    0\n",
       "Name: Up, Length: 2026, dtype: int64"
      ]
     },
     "execution_count": 116,
     "metadata": {},
     "output_type": "execute_result"
    }
   ],
   "source": [
    "train[\"Up\"]"
   ]
  },
  {
   "cell_type": "code",
   "execution_count": 117,
   "metadata": {},
   "outputs": [],
   "source": [
    "up_trend = train[train[\"Up\"]>0]\n",
    "down_trend = train[train[\"Up\"] < 1]"
   ]
  },
  {
   "cell_type": "code",
   "execution_count": 118,
   "metadata": {},
   "outputs": [
    {
     "data": {
      "text/html": [
       "<div>\n",
       "<style scoped>\n",
       "    .dataframe tbody tr th:only-of-type {\n",
       "        vertical-align: middle;\n",
       "    }\n",
       "\n",
       "    .dataframe tbody tr th {\n",
       "        vertical-align: top;\n",
       "    }\n",
       "\n",
       "    .dataframe thead th {\n",
       "        text-align: right;\n",
       "    }\n",
       "</style>\n",
       "<table border=\"1\" class=\"dataframe\">\n",
       "  <thead>\n",
       "    <tr style=\"text-align: right;\">\n",
       "      <th></th>\n",
       "      <th>Date</th>\n",
       "      <th>Open</th>\n",
       "      <th>High</th>\n",
       "      <th>Low</th>\n",
       "      <th>Close</th>\n",
       "      <th>Up</th>\n",
       "    </tr>\n",
       "  </thead>\n",
       "  <tbody>\n",
       "    <tr>\n",
       "      <th>0</th>\n",
       "      <td>2004-01-02</td>\n",
       "      <td>50.85</td>\n",
       "      <td>50.91</td>\n",
       "      <td>50.62</td>\n",
       "      <td>50.72</td>\n",
       "      <td>1</td>\n",
       "    </tr>\n",
       "    <tr>\n",
       "      <th>1</th>\n",
       "      <td>2004-01-05</td>\n",
       "      <td>50.75</td>\n",
       "      <td>50.84</td>\n",
       "      <td>50.61</td>\n",
       "      <td>50.79</td>\n",
       "      <td>1</td>\n",
       "    </tr>\n",
       "    <tr>\n",
       "      <th>2</th>\n",
       "      <td>2004-01-06</td>\n",
       "      <td>50.87</td>\n",
       "      <td>51.26</td>\n",
       "      <td>50.86</td>\n",
       "      <td>51.15</td>\n",
       "      <td>1</td>\n",
       "    </tr>\n",
       "    <tr>\n",
       "      <th>7</th>\n",
       "      <td>2004-01-13</td>\n",
       "      <td>50.90</td>\n",
       "      <td>50.98</td>\n",
       "      <td>50.53</td>\n",
       "      <td>50.61</td>\n",
       "      <td>1</td>\n",
       "    </tr>\n",
       "    <tr>\n",
       "      <th>8</th>\n",
       "      <td>2004-01-14</td>\n",
       "      <td>50.43</td>\n",
       "      <td>50.65</td>\n",
       "      <td>50.40</td>\n",
       "      <td>50.64</td>\n",
       "      <td>1</td>\n",
       "    </tr>\n",
       "    <tr>\n",
       "      <th>...</th>\n",
       "      <td>...</td>\n",
       "      <td>...</td>\n",
       "      <td>...</td>\n",
       "      <td>...</td>\n",
       "      <td>...</td>\n",
       "      <td>...</td>\n",
       "    </tr>\n",
       "    <tr>\n",
       "      <th>2016</th>\n",
       "      <td>2012-01-04</td>\n",
       "      <td>106.97</td>\n",
       "      <td>107.90</td>\n",
       "      <td>106.70</td>\n",
       "      <td>107.19</td>\n",
       "      <td>1</td>\n",
       "    </tr>\n",
       "    <tr>\n",
       "      <th>2017</th>\n",
       "      <td>2012-01-05</td>\n",
       "      <td>108.98</td>\n",
       "      <td>109.70</td>\n",
       "      <td>108.36</td>\n",
       "      <td>109.26</td>\n",
       "      <td>1</td>\n",
       "    </tr>\n",
       "    <tr>\n",
       "      <th>2021</th>\n",
       "      <td>2012-01-11</td>\n",
       "      <td>108.62</td>\n",
       "      <td>109.00</td>\n",
       "      <td>108.41</td>\n",
       "      <td>108.86</td>\n",
       "      <td>1</td>\n",
       "    </tr>\n",
       "    <tr>\n",
       "      <th>2023</th>\n",
       "      <td>2012-01-13</td>\n",
       "      <td>109.53</td>\n",
       "      <td>109.72</td>\n",
       "      <td>109.08</td>\n",
       "      <td>109.66</td>\n",
       "      <td>1</td>\n",
       "    </tr>\n",
       "    <tr>\n",
       "      <th>2024</th>\n",
       "      <td>2012-01-17</td>\n",
       "      <td>109.99</td>\n",
       "      <td>110.47</td>\n",
       "      <td>109.57</td>\n",
       "      <td>109.96</td>\n",
       "      <td>1</td>\n",
       "    </tr>\n",
       "  </tbody>\n",
       "</table>\n",
       "<p>1045 rows × 6 columns</p>\n",
       "</div>"
      ],
      "text/plain": [
       "            Date    Open    High     Low   Close  Up\n",
       "0     2004-01-02   50.85   50.91   50.62   50.72   1\n",
       "1     2004-01-05   50.75   50.84   50.61   50.79   1\n",
       "2     2004-01-06   50.87   51.26   50.86   51.15   1\n",
       "7     2004-01-13   50.90   50.98   50.53   50.61   1\n",
       "8     2004-01-14   50.43   50.65   50.40   50.64   1\n",
       "...          ...     ...     ...     ...     ...  ..\n",
       "2016  2012-01-04  106.97  107.90  106.70  107.19   1\n",
       "2017  2012-01-05  108.98  109.70  108.36  109.26   1\n",
       "2021  2012-01-11  108.62  109.00  108.41  108.86   1\n",
       "2023  2012-01-13  109.53  109.72  109.08  109.66   1\n",
       "2024  2012-01-17  109.99  110.47  109.57  109.96   1\n",
       "\n",
       "[1045 rows x 6 columns]"
      ]
     },
     "execution_count": 118,
     "metadata": {},
     "output_type": "execute_result"
    }
   ],
   "source": [
    "up_trend"
   ]
  },
  {
   "cell_type": "code",
   "execution_count": 119,
   "metadata": {},
   "outputs": [
    {
     "data": {
      "text/plain": [
       "Date     0\n",
       "Open     0\n",
       "High     0\n",
       "Low      0\n",
       "Close    0\n",
       "Up       0\n",
       "dtype: int64"
      ]
     },
     "execution_count": 119,
     "metadata": {},
     "output_type": "execute_result"
    }
   ],
   "source": [
    "train.isnull().sum()"
   ]
  },
  {
   "cell_type": "code",
   "execution_count": 120,
   "metadata": {},
   "outputs": [
    {
     "data": {
      "text/html": [
       "<div>\n",
       "<style scoped>\n",
       "    .dataframe tbody tr th:only-of-type {\n",
       "        vertical-align: middle;\n",
       "    }\n",
       "\n",
       "    .dataframe tbody tr th {\n",
       "        vertical-align: top;\n",
       "    }\n",
       "\n",
       "    .dataframe thead th {\n",
       "        text-align: right;\n",
       "    }\n",
       "</style>\n",
       "<table border=\"1\" class=\"dataframe\">\n",
       "  <thead>\n",
       "    <tr style=\"text-align: right;\">\n",
       "      <th></th>\n",
       "      <th>Open</th>\n",
       "      <th>High</th>\n",
       "      <th>Low</th>\n",
       "      <th>Close</th>\n",
       "      <th>Up</th>\n",
       "    </tr>\n",
       "  </thead>\n",
       "  <tbody>\n",
       "    <tr>\n",
       "      <th>Open</th>\n",
       "      <td>1.000000</td>\n",
       "      <td>0.999679</td>\n",
       "      <td>0.999676</td>\n",
       "      <td>0.999432</td>\n",
       "      <td>-0.001868</td>\n",
       "    </tr>\n",
       "    <tr>\n",
       "      <th>High</th>\n",
       "      <td>0.999679</td>\n",
       "      <td>1.000000</td>\n",
       "      <td>0.999459</td>\n",
       "      <td>0.999689</td>\n",
       "      <td>0.002175</td>\n",
       "    </tr>\n",
       "    <tr>\n",
       "      <th>Low</th>\n",
       "      <td>0.999676</td>\n",
       "      <td>0.999459</td>\n",
       "      <td>1.000000</td>\n",
       "      <td>0.999665</td>\n",
       "      <td>0.001388</td>\n",
       "    </tr>\n",
       "    <tr>\n",
       "      <th>Close</th>\n",
       "      <td>0.999432</td>\n",
       "      <td>0.999689</td>\n",
       "      <td>0.999665</td>\n",
       "      <td>1.000000</td>\n",
       "      <td>0.004192</td>\n",
       "    </tr>\n",
       "    <tr>\n",
       "      <th>Up</th>\n",
       "      <td>-0.001868</td>\n",
       "      <td>0.002175</td>\n",
       "      <td>0.001388</td>\n",
       "      <td>0.004192</td>\n",
       "      <td>1.000000</td>\n",
       "    </tr>\n",
       "  </tbody>\n",
       "</table>\n",
       "</div>"
      ],
      "text/plain": [
       "           Open      High       Low     Close        Up\n",
       "Open   1.000000  0.999679  0.999676  0.999432 -0.001868\n",
       "High   0.999679  1.000000  0.999459  0.999689  0.002175\n",
       "Low    0.999676  0.999459  1.000000  0.999665  0.001388\n",
       "Close  0.999432  0.999689  0.999665  1.000000  0.004192\n",
       "Up    -0.001868  0.002175  0.001388  0.004192  1.000000"
      ]
     },
     "execution_count": 120,
     "metadata": {},
     "output_type": "execute_result"
    }
   ],
   "source": [
    "train.corr()"
   ]
  },
  {
   "cell_type": "code",
   "execution_count": 121,
   "metadata": {},
   "outputs": [
    {
     "data": {
      "text/plain": [
       "<AxesSubplot:xlabel='Close', ylabel='Up'>"
      ]
     },
     "execution_count": 121,
     "metadata": {},
     "output_type": "execute_result"
    },
    {
     "data": {
      "image/png": "[encoded data removed]",
      "text/plain": [
       "<Figure size 360x360 with 1 Axes>"
      ]
     },
     "metadata": {
      "needs_background": "light"
     },
     "output_type": "display_data"
    }
   ],
   "source": [
    "train.plot.scatter(x=\"Close\",y=\"Up\",figsize=(5,5))"
   ]
  },
  {
   "cell_type": "code",
   "execution_count": 122,
   "metadata": {},
   "outputs": [
    {
     "data": {
      "text/html": [
       "<div>\n",
       "<style scoped>\n",
       "    .dataframe tbody tr th:only-of-type {\n",
       "        vertical-align: middle;\n",
       "    }\n",
       "\n",
       "    .dataframe tbody tr th {\n",
       "        vertical-align: top;\n",
       "    }\n",
       "\n",
       "    .dataframe thead th {\n",
       "        text-align: right;\n",
       "    }\n",
       "</style>\n",
       "<table border=\"1\" class=\"dataframe\">\n",
       "  <thead>\n",
       "    <tr style=\"text-align: right;\">\n",
       "      <th></th>\n",
       "      <th>Date</th>\n",
       "      <th>Open</th>\n",
       "      <th>High</th>\n",
       "      <th>Low</th>\n",
       "      <th>Close</th>\n",
       "      <th>Up</th>\n",
       "    </tr>\n",
       "  </thead>\n",
       "  <tbody>\n",
       "    <tr>\n",
       "      <th>0</th>\n",
       "      <td>2004-01-02</td>\n",
       "      <td>50.85</td>\n",
       "      <td>50.91</td>\n",
       "      <td>50.62</td>\n",
       "      <td>50.72</td>\n",
       "      <td>1</td>\n",
       "    </tr>\n",
       "    <tr>\n",
       "      <th>1</th>\n",
       "      <td>2004-01-05</td>\n",
       "      <td>50.75</td>\n",
       "      <td>50.84</td>\n",
       "      <td>50.61</td>\n",
       "      <td>50.79</td>\n",
       "      <td>1</td>\n",
       "    </tr>\n",
       "    <tr>\n",
       "      <th>2</th>\n",
       "      <td>2004-01-06</td>\n",
       "      <td>50.87</td>\n",
       "      <td>51.26</td>\n",
       "      <td>50.86</td>\n",
       "      <td>51.15</td>\n",
       "      <td>1</td>\n",
       "    </tr>\n",
       "    <tr>\n",
       "      <th>3</th>\n",
       "      <td>2004-01-07</td>\n",
       "      <td>51.45</td>\n",
       "      <td>51.54</td>\n",
       "      <td>51.29</td>\n",
       "      <td>51.51</td>\n",
       "      <td>0</td>\n",
       "    </tr>\n",
       "    <tr>\n",
       "      <th>4</th>\n",
       "      <td>2004-01-08</td>\n",
       "      <td>51.15</td>\n",
       "      <td>51.33</td>\n",
       "      <td>51.02</td>\n",
       "      <td>51.28</td>\n",
       "      <td>0</td>\n",
       "    </tr>\n",
       "  </tbody>\n",
       "</table>\n",
       "</div>"
      ],
      "text/plain": [
       "         Date   Open   High    Low  Close  Up\n",
       "0  2004-01-02  50.85  50.91  50.62  50.72   1\n",
       "1  2004-01-05  50.75  50.84  50.61  50.79   1\n",
       "2  2004-01-06  50.87  51.26  50.86  51.15   1\n",
       "3  2004-01-07  51.45  51.54  51.29  51.51   0\n",
       "4  2004-01-08  51.15  51.33  51.02  51.28   0"
      ]
     },
     "execution_count": 122,
     "metadata": {},
     "output_type": "execute_result"
    }
   ],
   "source": [
    "train.head()"
   ]
  },
  {
   "cell_type": "code",
   "execution_count": 123,
   "metadata": {},
   "outputs": [
    {
     "data": {
      "text/plain": [
       "0       1\n",
       "1       1\n",
       "2       1\n",
       "3       0\n",
       "4       0\n",
       "       ..\n",
       "2021    1\n",
       "2022    0\n",
       "2023    1\n",
       "2024    1\n",
       "2025    0\n",
       "Name: Up, Length: 2026, dtype: int64"
      ]
     },
     "execution_count": 123,
     "metadata": {},
     "output_type": "execute_result"
    }
   ],
   "source": [
    "trainX =train[\"Close\"]\n",
    "y=train[\"Up\"]\n",
    "y"
   ]
  },
  {
   "cell_type": "code",
   "execution_count": 124,
   "metadata": {},
   "outputs": [
    {
     "data": {
      "text/plain": [
       "0       110.39\n",
       "6       108.30\n",
       "12      108.78\n",
       "18      109.00\n",
       "24      107.57\n",
       "         ...  \n",
       "1170    193.98\n",
       "1176    182.64\n",
       "1182    182.64\n",
       "1188    181.82\n",
       "1194    186.58\n",
       "Name: Close, Length: 200, dtype: float64"
      ]
     },
     "execution_count": 124,
     "metadata": {},
     "output_type": "execute_result"
    }
   ],
   "source": [
    "testX = test[\"Close\"].iloc[:: 6]\n",
    "\n",
    "testX.shape\n",
    "testX"
   ]
  },
  {
   "cell_type": "code",
   "execution_count": 125,
   "metadata": {},
   "outputs": [],
   "source": [
    "trainX = trainX.values.reshape(-1,1)\n",
    "testX  =testX.values.reshape(-1,1)"
   ]
  },
  {
   "cell_type": "code",
   "execution_count": 126,
   "metadata": {},
   "outputs": [],
   "source": [
    "model1 = LR()"
   ]
  },
  {
   "cell_type": "code",
   "execution_count": 127,
   "metadata": {},
   "outputs": [
    {
     "data": {
      "text/plain": [
       "LinearRegression()"
      ]
     },
     "execution_count": 127,
     "metadata": {},
     "output_type": "execute_result"
    }
   ],
   "source": [
    "model1.fit(trainX,y)"
   ]
  },
  {
   "cell_type": "code",
   "execution_count": 128,
   "metadata": {},
   "outputs": [
    {
     "data": {
      "text/plain": [
       "array([0.00014089])"
      ]
     },
     "execution_count": 128,
     "metadata": {},
     "output_type": "execute_result"
    }
   ],
   "source": [
    "model1.coef_"
   ]
  },
  {
   "cell_type": "code",
   "execution_count": 129,
   "metadata": {},
   "outputs": [],
   "source": [
    "pred = model1.predict(testX)"
   ]
  },
  {
   "cell_type": "code",
   "execution_count": 130,
   "metadata": {},
   "outputs": [
    {
     "data": {
      "text/plain": [
       "array([0.52115361, 0.52085914, 0.52092677, 0.52095777, 0.52075629,\n",
       "       0.52080701, 0.52057736, 0.52085351, 0.52003211, 0.51994476,\n",
       "       0.5196348 , 0.51981514, 0.51988418, 0.51959394, 0.51956154,\n",
       "       0.51978133, 0.51998703, 0.52025895, 0.52002366, 0.52022795,\n",
       "       0.51957281, 0.51936288, 0.51960521, 0.51997153, 0.5199828 ,\n",
       "       0.52010679, 0.5205675 , 0.52034067, 0.52047029, 0.52092959,\n",
       "       0.52104089, 0.5213424 , 0.521248  , 0.52114515, 0.52092536,\n",
       "       0.52073516, 0.52084506, 0.52109866, 0.52073516, 0.52079574,\n",
       "       0.52051255, 0.52060272, 0.52067035, 0.52042802, 0.52048578,\n",
       "       0.52071121, 0.52067176, 0.52064076, 0.52054073, 0.52068726,\n",
       "       0.52055764, 0.5203308 , 0.52051255, 0.52047874, 0.52074221,\n",
       "       0.5207098 , 0.52093804, 0.5211522 , 0.52144384, 0.52122123,\n",
       "       0.52110852, 0.52117333, 0.52116206, 0.52059145, 0.52022795,\n",
       "       0.52035898, 0.52024345, 0.52029558, 0.52036462, 0.5199039 ,\n",
       "       0.52028572, 0.52051678, 0.5206619 , 0.51998139, 0.52053087,\n",
       "       0.52022373, 0.51973624, 0.52045338, 0.520962  , 0.52059709,\n",
       "       0.52075066, 0.52076897, 0.52087323, 0.5208197 , 0.52089859,\n",
       "       0.52045338, 0.52063231, 0.5206464 , 0.52071684, 0.5209155 ,\n",
       "       0.52109866, 0.52029276, 0.52097468, 0.52085351, 0.52138608,\n",
       "       0.52236245, 0.52257802, 0.52263719, 0.52290347, 0.52305705,\n",
       "       0.52281612, 0.52325429, 0.52288657, 0.52283444, 0.52338391,\n",
       "       0.52367415, 0.52410528, 0.52384181, 0.52423771, 0.52378968,\n",
       "       0.52335996, 0.52346281, 0.52325711, 0.52354735, 0.52283303,\n",
       "       0.52304155, 0.52256956, 0.52263578, 0.52286684, 0.52251884,\n",
       "       0.52240754, 0.52256674, 0.52317399, 0.52319653, 0.52357834,\n",
       "       0.52329515, 0.52336137, 0.52380236, 0.52421376, 0.52409682,\n",
       "       0.52414613, 0.52423208, 0.52462939, 0.52572552, 0.5261961 ,\n",
       "       0.52677093, 0.52663709, 0.52685124, 0.52708653, 0.52715134,\n",
       "       0.52731759, 0.52747398, 0.52779521, 0.52719783, 0.52773604,\n",
       "       0.52786284, 0.52877581, 0.52827988, 0.52903083, 0.52907591,\n",
       "       0.52910973, 0.52937601, 0.52863774, 0.52736127, 0.52655678,\n",
       "       0.52755288, 0.52764728, 0.52788679, 0.52798682, 0.52793892,\n",
       "       0.52758528, 0.52831933, 0.5274289 , 0.52750779, 0.52718515,\n",
       "       0.52753175, 0.52749793, 0.52803755, 0.52818971, 0.5283306 ,\n",
       "       0.52842922, 0.52944505, 0.5306398 , 0.53041156, 0.52976628,\n",
       "       0.52924357, 0.52992549, 0.52944223, 0.52980996, 0.52991562,\n",
       "       0.53047355, 0.53068489, 0.53134989, 0.53173171, 0.53178525,\n",
       "       0.53139357, 0.53265173, 0.5325996 , 0.53339845, 0.53358443,\n",
       "       0.53398597, 0.53414799, 0.53419871, 0.53303495, 0.53329137,\n",
       "       0.53293069, 0.53133299, 0.53133299, 0.53121746, 0.5318881 ])"
      ]
     },
     "execution_count": 130,
     "metadata": {},
     "output_type": "execute_result"
    }
   ],
   "source": [
    "pred"
   ]
  },
  {
   "cell_type": "code",
   "execution_count": 131,
   "metadata": {},
   "outputs": [
    {
     "data": {
      "text/html": [
       "<div>\n",
       "<style scoped>\n",
       "    .dataframe tbody tr th:only-of-type {\n",
       "        vertical-align: middle;\n",
       "    }\n",
       "\n",
       "    .dataframe tbody tr th {\n",
       "        vertical-align: top;\n",
       "    }\n",
       "\n",
       "    .dataframe thead th {\n",
       "        text-align: right;\n",
       "    }\n",
       "</style>\n",
       "<table border=\"1\" class=\"dataframe\">\n",
       "  <thead>\n",
       "    <tr style=\"text-align: right;\">\n",
       "      <th></th>\n",
       "      <th>0</th>\n",
       "      <th>1</th>\n",
       "    </tr>\n",
       "  </thead>\n",
       "  <tbody>\n",
       "    <tr>\n",
       "      <th>0</th>\n",
       "      <td>2012-01-26</td>\n",
       "      <td>0</td>\n",
       "    </tr>\n",
       "    <tr>\n",
       "      <th>1</th>\n",
       "      <td>2012-02-09</td>\n",
       "      <td>0</td>\n",
       "    </tr>\n",
       "    <tr>\n",
       "      <th>2</th>\n",
       "      <td>2012-02-24</td>\n",
       "      <td>0</td>\n",
       "    </tr>\n",
       "    <tr>\n",
       "      <th>3</th>\n",
       "      <td>2012-03-09</td>\n",
       "      <td>0</td>\n",
       "    </tr>\n",
       "    <tr>\n",
       "      <th>4</th>\n",
       "      <td>2012-03-23</td>\n",
       "      <td>0</td>\n",
       "    </tr>\n",
       "    <tr>\n",
       "      <th>...</th>\n",
       "      <td>...</td>\n",
       "      <td>...</td>\n",
       "    </tr>\n",
       "    <tr>\n",
       "      <th>195</th>\n",
       "      <td>2019-10-25</td>\n",
       "      <td>0</td>\n",
       "    </tr>\n",
       "    <tr>\n",
       "      <th>196</th>\n",
       "      <td>2019-11-08</td>\n",
       "      <td>0</td>\n",
       "    </tr>\n",
       "    <tr>\n",
       "      <th>197</th>\n",
       "      <td>2019-11-22</td>\n",
       "      <td>0</td>\n",
       "    </tr>\n",
       "    <tr>\n",
       "      <th>198</th>\n",
       "      <td>2019-12-09</td>\n",
       "      <td>0</td>\n",
       "    </tr>\n",
       "    <tr>\n",
       "      <th>199</th>\n",
       "      <td>2019-12-23</td>\n",
       "      <td>0</td>\n",
       "    </tr>\n",
       "  </tbody>\n",
       "</table>\n",
       "<p>200 rows × 2 columns</p>\n",
       "</div>"
      ],
      "text/plain": [
       "              0  1\n",
       "0    2012-01-26  0\n",
       "1    2012-02-09  0\n",
       "2    2012-02-24  0\n",
       "3    2012-03-09  0\n",
       "4    2012-03-23  0\n",
       "..          ... ..\n",
       "195  2019-10-25  0\n",
       "196  2019-11-08  0\n",
       "197  2019-11-22  0\n",
       "198  2019-12-09  0\n",
       "199  2019-12-23  0\n",
       "\n",
       "[200 rows x 2 columns]"
      ]
     },
     "execution_count": 131,
     "metadata": {},
     "output_type": "execute_result"
    }
   ],
   "source": [
    "sample"
   ]
  },
  {
   "cell_type": "code",
   "execution_count": 132,
   "metadata": {},
   "outputs": [
    {
     "data": {
      "text/html": [
       "<div>\n",
       "<style scoped>\n",
       "    .dataframe tbody tr th:only-of-type {\n",
       "        vertical-align: middle;\n",
       "    }\n",
       "\n",
       "    .dataframe tbody tr th {\n",
       "        vertical-align: top;\n",
       "    }\n",
       "\n",
       "    .dataframe thead th {\n",
       "        text-align: right;\n",
       "    }\n",
       "</style>\n",
       "<table border=\"1\" class=\"dataframe\">\n",
       "  <thead>\n",
       "    <tr style=\"text-align: right;\">\n",
       "      <th></th>\n",
       "      <th>Date</th>\n",
       "      <th>Open</th>\n",
       "      <th>High</th>\n",
       "      <th>Low</th>\n",
       "      <th>Close</th>\n",
       "    </tr>\n",
       "  </thead>\n",
       "  <tbody>\n",
       "    <tr>\n",
       "      <th>0</th>\n",
       "      <td>2012-01-19</td>\n",
       "      <td>110.79</td>\n",
       "      <td>110.82</td>\n",
       "      <td>109.96</td>\n",
       "      <td>110.39</td>\n",
       "    </tr>\n",
       "    <tr>\n",
       "      <th>1</th>\n",
       "      <td>2012-01-20</td>\n",
       "      <td>110.45</td>\n",
       "      <td>111.10</td>\n",
       "      <td>110.36</td>\n",
       "      <td>110.73</td>\n",
       "    </tr>\n",
       "    <tr>\n",
       "      <th>2</th>\n",
       "      <td>2012-01-23</td>\n",
       "      <td>110.95</td>\n",
       "      <td>111.10</td>\n",
       "      <td>109.65</td>\n",
       "      <td>110.36</td>\n",
       "    </tr>\n",
       "    <tr>\n",
       "      <th>3</th>\n",
       "      <td>2012-01-24</td>\n",
       "      <td>110.16</td>\n",
       "      <td>110.16</td>\n",
       "      <td>108.13</td>\n",
       "      <td>108.39</td>\n",
       "    </tr>\n",
       "    <tr>\n",
       "      <th>4</th>\n",
       "      <td>2012-01-25</td>\n",
       "      <td>106.25</td>\n",
       "      <td>107.11</td>\n",
       "      <td>105.97</td>\n",
       "      <td>106.89</td>\n",
       "    </tr>\n",
       "    <tr>\n",
       "      <th>...</th>\n",
       "      <td>...</td>\n",
       "      <td>...</td>\n",
       "      <td>...</td>\n",
       "      <td>...</td>\n",
       "      <td>...</td>\n",
       "    </tr>\n",
       "    <tr>\n",
       "      <th>1195</th>\n",
       "      <td>2019-12-17</td>\n",
       "      <td>185.52</td>\n",
       "      <td>186.40</td>\n",
       "      <td>184.62</td>\n",
       "      <td>184.68</td>\n",
       "    </tr>\n",
       "    <tr>\n",
       "      <th>1196</th>\n",
       "      <td>2019-12-18</td>\n",
       "      <td>183.86</td>\n",
       "      <td>184.01</td>\n",
       "      <td>182.38</td>\n",
       "      <td>183.10</td>\n",
       "    </tr>\n",
       "    <tr>\n",
       "      <th>1197</th>\n",
       "      <td>2019-12-19</td>\n",
       "      <td>183.83</td>\n",
       "      <td>185.17</td>\n",
       "      <td>183.66</td>\n",
       "      <td>185.08</td>\n",
       "    </tr>\n",
       "    <tr>\n",
       "      <th>1198</th>\n",
       "      <td>2019-12-20</td>\n",
       "      <td>186.29</td>\n",
       "      <td>186.64</td>\n",
       "      <td>184.81</td>\n",
       "      <td>185.19</td>\n",
       "    </tr>\n",
       "    <tr>\n",
       "      <th>1199</th>\n",
       "      <td>2019-12-23</td>\n",
       "      <td>184.38</td>\n",
       "      <td>184.38</td>\n",
       "      <td>183.20</td>\n",
       "      <td>183.34</td>\n",
       "    </tr>\n",
       "  </tbody>\n",
       "</table>\n",
       "<p>1200 rows × 5 columns</p>\n",
       "</div>"
      ],
      "text/plain": [
       "            Date    Open    High     Low   Close\n",
       "0     2012-01-19  110.79  110.82  109.96  110.39\n",
       "1     2012-01-20  110.45  111.10  110.36  110.73\n",
       "2     2012-01-23  110.95  111.10  109.65  110.36\n",
       "3     2012-01-24  110.16  110.16  108.13  108.39\n",
       "4     2012-01-25  106.25  107.11  105.97  106.89\n",
       "...          ...     ...     ...     ...     ...\n",
       "1195  2019-12-17  185.52  186.40  184.62  184.68\n",
       "1196  2019-12-18  183.86  184.01  182.38  183.10\n",
       "1197  2019-12-19  183.83  185.17  183.66  185.08\n",
       "1198  2019-12-20  186.29  186.64  184.81  185.19\n",
       "1199  2019-12-23  184.38  184.38  183.20  183.34\n",
       "\n",
       "[1200 rows x 5 columns]"
      ]
     },
     "execution_count": 132,
     "metadata": {},
     "output_type": "execute_result"
    }
   ],
   "source": [
    "test"
   ]
  },
  {
   "cell_type": "code",
   "execution_count": 133,
   "metadata": {},
   "outputs": [],
   "source": [
    "sample[1]=pred"
   ]
  },
  {
   "cell_type": "code",
   "execution_count": 134,
   "metadata": {},
   "outputs": [
    {
     "data": {
      "text/html": [
       "<div>\n",
       "<style scoped>\n",
       "    .dataframe tbody tr th:only-of-type {\n",
       "        vertical-align: middle;\n",
       "    }\n",
       "\n",
       "    .dataframe tbody tr th {\n",
       "        vertical-align: top;\n",
       "    }\n",
       "\n",
       "    .dataframe thead th {\n",
       "        text-align: right;\n",
       "    }\n",
       "</style>\n",
       "<table border=\"1\" class=\"dataframe\">\n",
       "  <thead>\n",
       "    <tr style=\"text-align: right;\">\n",
       "      <th></th>\n",
       "      <th>0</th>\n",
       "      <th>1</th>\n",
       "    </tr>\n",
       "  </thead>\n",
       "  <tbody>\n",
       "    <tr>\n",
       "      <th>0</th>\n",
       "      <td>2012-01-26</td>\n",
       "      <td>0.521154</td>\n",
       "    </tr>\n",
       "    <tr>\n",
       "      <th>1</th>\n",
       "      <td>2012-02-09</td>\n",
       "      <td>0.520859</td>\n",
       "    </tr>\n",
       "    <tr>\n",
       "      <th>2</th>\n",
       "      <td>2012-02-24</td>\n",
       "      <td>0.520927</td>\n",
       "    </tr>\n",
       "    <tr>\n",
       "      <th>3</th>\n",
       "      <td>2012-03-09</td>\n",
       "      <td>0.520958</td>\n",
       "    </tr>\n",
       "    <tr>\n",
       "      <th>4</th>\n",
       "      <td>2012-03-23</td>\n",
       "      <td>0.520756</td>\n",
       "    </tr>\n",
       "    <tr>\n",
       "      <th>...</th>\n",
       "      <td>...</td>\n",
       "      <td>...</td>\n",
       "    </tr>\n",
       "    <tr>\n",
       "      <th>195</th>\n",
       "      <td>2019-10-25</td>\n",
       "      <td>0.532931</td>\n",
       "    </tr>\n",
       "    <tr>\n",
       "      <th>196</th>\n",
       "      <td>2019-11-08</td>\n",
       "      <td>0.531333</td>\n",
       "    </tr>\n",
       "    <tr>\n",
       "      <th>197</th>\n",
       "      <td>2019-11-22</td>\n",
       "      <td>0.531333</td>\n",
       "    </tr>\n",
       "    <tr>\n",
       "      <th>198</th>\n",
       "      <td>2019-12-09</td>\n",
       "      <td>0.531217</td>\n",
       "    </tr>\n",
       "    <tr>\n",
       "      <th>199</th>\n",
       "      <td>2019-12-23</td>\n",
       "      <td>0.531888</td>\n",
       "    </tr>\n",
       "  </tbody>\n",
       "</table>\n",
       "<p>200 rows × 2 columns</p>\n",
       "</div>"
      ],
      "text/plain": [
       "              0         1\n",
       "0    2012-01-26  0.521154\n",
       "1    2012-02-09  0.520859\n",
       "2    2012-02-24  0.520927\n",
       "3    2012-03-09  0.520958\n",
       "4    2012-03-23  0.520756\n",
       "..          ...       ...\n",
       "195  2019-10-25  0.532931\n",
       "196  2019-11-08  0.531333\n",
       "197  2019-11-22  0.531333\n",
       "198  2019-12-09  0.531217\n",
       "199  2019-12-23  0.531888\n",
       "\n",
       "[200 rows x 2 columns]"
      ]
     },
     "execution_count": 134,
     "metadata": {},
     "output_type": "execute_result"
    }
   ],
   "source": [
    "sample"
   ]
  },
  {
   "cell_type": "code",
   "execution_count": 136,
   "metadata": {},
   "outputs": [],
   "source": [
    "sample.to_csv(\"submit1.csv\",header=None,index=None)"
   ]
  },
  {
   "cell_type": "code",
   "execution_count": null,
   "metadata": {},
   "outputs": [],
   "source": []
  }
 ],
 "metadata": {
  "kernelspec": {
   "display_name": "Python 3",
   "language": "python",
   "name": "python3"
  },
  "language_info": {
   "codemirror_mode": {
    "name": "ipython",
    "version": 3
   },
   "file_extension": ".py",
   "mimetype": "text/x-python",
   "name": "python",
   "nbconvert_exporter": "python",
   "pygments_lexer": "ipython3",
   "version": "3.8.5"
  }
 },
 "nbformat": 4,
 "nbformat_minor": 4
}
