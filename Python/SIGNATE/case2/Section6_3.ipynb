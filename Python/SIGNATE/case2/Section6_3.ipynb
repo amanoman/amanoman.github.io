{
 "cells": [
  {
   "cell_type": "markdown",
   "metadata": {},
   "source": [
    "# PART3 パラメータをチューニングしてみよう"
   ]
  },
  {
   "cell_type": "markdown",
   "metadata": {},
   "source": [
    "## おまじない"
   ]
  },
  {
   "cell_type": "code",
   "execution_count": 1,
   "metadata": {},
   "outputs": [],
   "source": [
    "import pandas as pd\n",
    "import numpy as np\n",
    "from matplotlib import pyplot as plt\n",
    "%matplotlib inline\n",
    "\n",
    "from sklearn.tree import DecisionTreeClassifier as DT\n",
    "from sklearn.model_selection import cross_validate\n",
    "from sklearn.model_selection import GridSearchCV"
   ]
  },
  {
   "cell_type": "markdown",
   "metadata": {},
   "source": [
    "## データの読み込み\n",
    "- train.csvとtest.csvとsubmit_sample.csvの３つのファイルを読み込みましょう\n",
    "- それぞれを読み込んだものは変数はtrain, test, sampleに代入しましょう"
   ]
  },
  {
   "cell_type": "code",
   "execution_count": 2,
   "metadata": {},
   "outputs": [],
   "source": [
    "train = pd.read_csv(\"train.csv\")\n",
    "test = pd.read_csv(\"test.csv\")\n",
    "sample = pd.read_csv(\"submit_sample.csv\")"
   ]
  },
  {
   "cell_type": "code",
   "execution_count": 4,
   "metadata": {},
   "outputs": [
    {
     "data": {
      "text/html": [
       "<div>\n",
       "<style scoped>\n",
       "    .dataframe tbody tr th:only-of-type {\n",
       "        vertical-align: middle;\n",
       "    }\n",
       "\n",
       "    .dataframe tbody tr th {\n",
       "        vertical-align: top;\n",
       "    }\n",
       "\n",
       "    .dataframe thead th {\n",
       "        text-align: right;\n",
       "    }\n",
       "</style>\n",
       "<table border=\"1\" class=\"dataframe\">\n",
       "  <thead>\n",
       "    <tr style=\"text-align: right;\">\n",
       "      <th></th>\n",
       "      <th>id</th>\n",
       "      <th>age</th>\n",
       "      <th>job</th>\n",
       "      <th>marital</th>\n",
       "      <th>education</th>\n",
       "      <th>default</th>\n",
       "      <th>balance</th>\n",
       "      <th>housing</th>\n",
       "      <th>loan</th>\n",
       "      <th>contact</th>\n",
       "      <th>day</th>\n",
       "      <th>month</th>\n",
       "      <th>duration</th>\n",
       "      <th>campaign</th>\n",
       "      <th>pdays</th>\n",
       "      <th>previous</th>\n",
       "      <th>poutcome</th>\n",
       "      <th>y</th>\n",
       "    </tr>\n",
       "  </thead>\n",
       "  <tbody>\n",
       "    <tr>\n",
       "      <th>0</th>\n",
       "      <td>1</td>\n",
       "      <td>39</td>\n",
       "      <td>blue-collar</td>\n",
       "      <td>married</td>\n",
       "      <td>secondary</td>\n",
       "      <td>no</td>\n",
       "      <td>1756</td>\n",
       "      <td>yes</td>\n",
       "      <td>no</td>\n",
       "      <td>cellular</td>\n",
       "      <td>3</td>\n",
       "      <td>apr</td>\n",
       "      <td>939</td>\n",
       "      <td>1</td>\n",
       "      <td>-1</td>\n",
       "      <td>0</td>\n",
       "      <td>unknown</td>\n",
       "      <td>1</td>\n",
       "    </tr>\n",
       "    <tr>\n",
       "      <th>1</th>\n",
       "      <td>2</td>\n",
       "      <td>51</td>\n",
       "      <td>entrepreneur</td>\n",
       "      <td>married</td>\n",
       "      <td>primary</td>\n",
       "      <td>no</td>\n",
       "      <td>1443</td>\n",
       "      <td>no</td>\n",
       "      <td>no</td>\n",
       "      <td>cellular</td>\n",
       "      <td>18</td>\n",
       "      <td>feb</td>\n",
       "      <td>172</td>\n",
       "      <td>10</td>\n",
       "      <td>-1</td>\n",
       "      <td>0</td>\n",
       "      <td>unknown</td>\n",
       "      <td>1</td>\n",
       "    </tr>\n",
       "    <tr>\n",
       "      <th>2</th>\n",
       "      <td>3</td>\n",
       "      <td>36</td>\n",
       "      <td>management</td>\n",
       "      <td>single</td>\n",
       "      <td>tertiary</td>\n",
       "      <td>no</td>\n",
       "      <td>436</td>\n",
       "      <td>no</td>\n",
       "      <td>no</td>\n",
       "      <td>cellular</td>\n",
       "      <td>13</td>\n",
       "      <td>apr</td>\n",
       "      <td>567</td>\n",
       "      <td>1</td>\n",
       "      <td>595</td>\n",
       "      <td>2</td>\n",
       "      <td>failure</td>\n",
       "      <td>1</td>\n",
       "    </tr>\n",
       "    <tr>\n",
       "      <th>3</th>\n",
       "      <td>4</td>\n",
       "      <td>63</td>\n",
       "      <td>retired</td>\n",
       "      <td>married</td>\n",
       "      <td>secondary</td>\n",
       "      <td>no</td>\n",
       "      <td>474</td>\n",
       "      <td>no</td>\n",
       "      <td>no</td>\n",
       "      <td>cellular</td>\n",
       "      <td>25</td>\n",
       "      <td>jan</td>\n",
       "      <td>423</td>\n",
       "      <td>1</td>\n",
       "      <td>-1</td>\n",
       "      <td>0</td>\n",
       "      <td>unknown</td>\n",
       "      <td>1</td>\n",
       "    </tr>\n",
       "    <tr>\n",
       "      <th>4</th>\n",
       "      <td>5</td>\n",
       "      <td>31</td>\n",
       "      <td>management</td>\n",
       "      <td>single</td>\n",
       "      <td>tertiary</td>\n",
       "      <td>no</td>\n",
       "      <td>354</td>\n",
       "      <td>no</td>\n",
       "      <td>no</td>\n",
       "      <td>cellular</td>\n",
       "      <td>30</td>\n",
       "      <td>apr</td>\n",
       "      <td>502</td>\n",
       "      <td>1</td>\n",
       "      <td>9</td>\n",
       "      <td>2</td>\n",
       "      <td>success</td>\n",
       "      <td>1</td>\n",
       "    </tr>\n",
       "  </tbody>\n",
       "</table>\n",
       "</div>"
      ],
      "text/plain": [
       "   id  age           job  marital  education default  balance housing loan  \\\n",
       "0   1   39   blue-collar  married  secondary      no     1756     yes   no   \n",
       "1   2   51  entrepreneur  married    primary      no     1443      no   no   \n",
       "2   3   36    management   single   tertiary      no      436      no   no   \n",
       "3   4   63       retired  married  secondary      no      474      no   no   \n",
       "4   5   31    management   single   tertiary      no      354      no   no   \n",
       "\n",
       "    contact  day month  duration  campaign  pdays  previous poutcome  y  \n",
       "0  cellular    3   apr       939         1     -1         0  unknown  1  \n",
       "1  cellular   18   feb       172        10     -1         0  unknown  1  \n",
       "2  cellular   13   apr       567         1    595         2  failure  1  \n",
       "3  cellular   25   jan       423         1     -1         0  unknown  1  \n",
       "4  cellular   30   apr       502         1      9         2  success  1  "
      ]
     },
     "execution_count": 4,
     "metadata": {},
     "output_type": "execute_result"
    }
   ],
   "source": [
    "train.head()"
   ]
  },
  {
   "cell_type": "raw",
   "metadata": {},
   "source": []
  },
  {
   "cell_type": "markdown",
   "metadata": {},
   "source": [
    "## trainから説明変数となるデータを取り出しましょう\n",
    "- iloc[]を使います\n",
    "- y以外を説明変数として取り出し、変数trainXに代入しましょう"
   ]
  },
  {
   "cell_type": "code",
   "execution_count": 6,
   "metadata": {},
   "outputs": [],
   "source": [
    "trainX = train.iloc[:,0:17]"
   ]
  },
  {
   "cell_type": "markdown",
   "metadata": {},
   "source": [
    "## trainから目的変数となるデータを取り出しましょう\n",
    "- yを選択し、変数yに代入しましょう"
   ]
  },
  {
   "cell_type": "code",
   "execution_count": 7,
   "metadata": {},
   "outputs": [],
   "source": [
    "y=train[\"y\"]"
   ]
  },
  {
   "cell_type": "markdown",
   "metadata": {},
   "source": [
    "## testから説明変数となるデータを取り出しましょう\n",
    "- testの全てのカラムが説明変数となりますので、copy関数を使って変数testXに代入します"
   ]
  },
  {
   "cell_type": "code",
   "execution_count": 11,
   "metadata": {},
   "outputs": [
    {
     "data": {
      "text/html": [
       "<div>\n",
       "<style scoped>\n",
       "    .dataframe tbody tr th:only-of-type {\n",
       "        vertical-align: middle;\n",
       "    }\n",
       "\n",
       "    .dataframe tbody tr th {\n",
       "        vertical-align: top;\n",
       "    }\n",
       "\n",
       "    .dataframe thead th {\n",
       "        text-align: right;\n",
       "    }\n",
       "</style>\n",
       "<table border=\"1\" class=\"dataframe\">\n",
       "  <thead>\n",
       "    <tr style=\"text-align: right;\">\n",
       "      <th></th>\n",
       "      <th>id</th>\n",
       "      <th>age</th>\n",
       "      <th>job</th>\n",
       "      <th>marital</th>\n",
       "      <th>education</th>\n",
       "      <th>default</th>\n",
       "      <th>balance</th>\n",
       "      <th>housing</th>\n",
       "      <th>loan</th>\n",
       "      <th>contact</th>\n",
       "      <th>day</th>\n",
       "      <th>month</th>\n",
       "      <th>duration</th>\n",
       "      <th>campaign</th>\n",
       "      <th>pdays</th>\n",
       "      <th>previous</th>\n",
       "      <th>poutcome</th>\n",
       "    </tr>\n",
       "  </thead>\n",
       "  <tbody>\n",
       "    <tr>\n",
       "      <th>0</th>\n",
       "      <td>1</td>\n",
       "      <td>30</td>\n",
       "      <td>management</td>\n",
       "      <td>single</td>\n",
       "      <td>tertiary</td>\n",
       "      <td>no</td>\n",
       "      <td>1028</td>\n",
       "      <td>no</td>\n",
       "      <td>no</td>\n",
       "      <td>cellular</td>\n",
       "      <td>4</td>\n",
       "      <td>feb</td>\n",
       "      <td>1294</td>\n",
       "      <td>2</td>\n",
       "      <td>-1</td>\n",
       "      <td>0</td>\n",
       "      <td>unknown</td>\n",
       "    </tr>\n",
       "    <tr>\n",
       "      <th>1</th>\n",
       "      <td>2</td>\n",
       "      <td>39</td>\n",
       "      <td>self-employed</td>\n",
       "      <td>single</td>\n",
       "      <td>tertiary</td>\n",
       "      <td>no</td>\n",
       "      <td>426</td>\n",
       "      <td>no</td>\n",
       "      <td>no</td>\n",
       "      <td>unknown</td>\n",
       "      <td>18</td>\n",
       "      <td>jun</td>\n",
       "      <td>1029</td>\n",
       "      <td>1</td>\n",
       "      <td>-1</td>\n",
       "      <td>0</td>\n",
       "      <td>unknown</td>\n",
       "    </tr>\n",
       "    <tr>\n",
       "      <th>2</th>\n",
       "      <td>3</td>\n",
       "      <td>38</td>\n",
       "      <td>technician</td>\n",
       "      <td>single</td>\n",
       "      <td>tertiary</td>\n",
       "      <td>no</td>\n",
       "      <td>-572</td>\n",
       "      <td>yes</td>\n",
       "      <td>yes</td>\n",
       "      <td>unknown</td>\n",
       "      <td>5</td>\n",
       "      <td>jun</td>\n",
       "      <td>26</td>\n",
       "      <td>24</td>\n",
       "      <td>-1</td>\n",
       "      <td>0</td>\n",
       "      <td>unknown</td>\n",
       "    </tr>\n",
       "    <tr>\n",
       "      <th>3</th>\n",
       "      <td>4</td>\n",
       "      <td>34</td>\n",
       "      <td>technician</td>\n",
       "      <td>single</td>\n",
       "      <td>secondary</td>\n",
       "      <td>no</td>\n",
       "      <td>-476</td>\n",
       "      <td>yes</td>\n",
       "      <td>no</td>\n",
       "      <td>unknown</td>\n",
       "      <td>27</td>\n",
       "      <td>may</td>\n",
       "      <td>92</td>\n",
       "      <td>4</td>\n",
       "      <td>-1</td>\n",
       "      <td>0</td>\n",
       "      <td>unknown</td>\n",
       "    </tr>\n",
       "    <tr>\n",
       "      <th>4</th>\n",
       "      <td>5</td>\n",
       "      <td>37</td>\n",
       "      <td>entrepreneur</td>\n",
       "      <td>married</td>\n",
       "      <td>primary</td>\n",
       "      <td>no</td>\n",
       "      <td>62</td>\n",
       "      <td>no</td>\n",
       "      <td>no</td>\n",
       "      <td>cellular</td>\n",
       "      <td>31</td>\n",
       "      <td>jul</td>\n",
       "      <td>404</td>\n",
       "      <td>2</td>\n",
       "      <td>-1</td>\n",
       "      <td>0</td>\n",
       "      <td>unknown</td>\n",
       "    </tr>\n",
       "    <tr>\n",
       "      <th>...</th>\n",
       "      <td>...</td>\n",
       "      <td>...</td>\n",
       "      <td>...</td>\n",
       "      <td>...</td>\n",
       "      <td>...</td>\n",
       "      <td>...</td>\n",
       "      <td>...</td>\n",
       "      <td>...</td>\n",
       "      <td>...</td>\n",
       "      <td>...</td>\n",
       "      <td>...</td>\n",
       "      <td>...</td>\n",
       "      <td>...</td>\n",
       "      <td>...</td>\n",
       "      <td>...</td>\n",
       "      <td>...</td>\n",
       "      <td>...</td>\n",
       "    </tr>\n",
       "    <tr>\n",
       "      <th>18078</th>\n",
       "      <td>18079</td>\n",
       "      <td>30</td>\n",
       "      <td>management</td>\n",
       "      <td>married</td>\n",
       "      <td>tertiary</td>\n",
       "      <td>no</td>\n",
       "      <td>32</td>\n",
       "      <td>yes</td>\n",
       "      <td>no</td>\n",
       "      <td>unknown</td>\n",
       "      <td>6</td>\n",
       "      <td>may</td>\n",
       "      <td>122</td>\n",
       "      <td>3</td>\n",
       "      <td>-1</td>\n",
       "      <td>0</td>\n",
       "      <td>unknown</td>\n",
       "    </tr>\n",
       "    <tr>\n",
       "      <th>18079</th>\n",
       "      <td>18080</td>\n",
       "      <td>35</td>\n",
       "      <td>management</td>\n",
       "      <td>married</td>\n",
       "      <td>tertiary</td>\n",
       "      <td>no</td>\n",
       "      <td>1557</td>\n",
       "      <td>yes</td>\n",
       "      <td>yes</td>\n",
       "      <td>cellular</td>\n",
       "      <td>5</td>\n",
       "      <td>feb</td>\n",
       "      <td>225</td>\n",
       "      <td>1</td>\n",
       "      <td>268</td>\n",
       "      <td>1</td>\n",
       "      <td>failure</td>\n",
       "    </tr>\n",
       "    <tr>\n",
       "      <th>18080</th>\n",
       "      <td>18081</td>\n",
       "      <td>33</td>\n",
       "      <td>housemaid</td>\n",
       "      <td>married</td>\n",
       "      <td>primary</td>\n",
       "      <td>no</td>\n",
       "      <td>1713</td>\n",
       "      <td>yes</td>\n",
       "      <td>no</td>\n",
       "      <td>unknown</td>\n",
       "      <td>8</td>\n",
       "      <td>may</td>\n",
       "      <td>22</td>\n",
       "      <td>1</td>\n",
       "      <td>-1</td>\n",
       "      <td>0</td>\n",
       "      <td>unknown</td>\n",
       "    </tr>\n",
       "    <tr>\n",
       "      <th>18081</th>\n",
       "      <td>18082</td>\n",
       "      <td>37</td>\n",
       "      <td>blue-collar</td>\n",
       "      <td>married</td>\n",
       "      <td>secondary</td>\n",
       "      <td>no</td>\n",
       "      <td>-251</td>\n",
       "      <td>yes</td>\n",
       "      <td>no</td>\n",
       "      <td>cellular</td>\n",
       "      <td>12</td>\n",
       "      <td>may</td>\n",
       "      <td>146</td>\n",
       "      <td>3</td>\n",
       "      <td>370</td>\n",
       "      <td>1</td>\n",
       "      <td>failure</td>\n",
       "    </tr>\n",
       "    <tr>\n",
       "      <th>18082</th>\n",
       "      <td>18083</td>\n",
       "      <td>34</td>\n",
       "      <td>technician</td>\n",
       "      <td>married</td>\n",
       "      <td>secondary</td>\n",
       "      <td>no</td>\n",
       "      <td>56</td>\n",
       "      <td>no</td>\n",
       "      <td>no</td>\n",
       "      <td>cellular</td>\n",
       "      <td>19</td>\n",
       "      <td>aug</td>\n",
       "      <td>91</td>\n",
       "      <td>2</td>\n",
       "      <td>-1</td>\n",
       "      <td>0</td>\n",
       "      <td>unknown</td>\n",
       "    </tr>\n",
       "  </tbody>\n",
       "</table>\n",
       "<p>18083 rows × 17 columns</p>\n",
       "</div>"
      ],
      "text/plain": [
       "          id  age            job  marital  education default  balance housing  \\\n",
       "0          1   30     management   single   tertiary      no     1028      no   \n",
       "1          2   39  self-employed   single   tertiary      no      426      no   \n",
       "2          3   38     technician   single   tertiary      no     -572     yes   \n",
       "3          4   34     technician   single  secondary      no     -476     yes   \n",
       "4          5   37   entrepreneur  married    primary      no       62      no   \n",
       "...      ...  ...            ...      ...        ...     ...      ...     ...   \n",
       "18078  18079   30     management  married   tertiary      no       32     yes   \n",
       "18079  18080   35     management  married   tertiary      no     1557     yes   \n",
       "18080  18081   33      housemaid  married    primary      no     1713     yes   \n",
       "18081  18082   37    blue-collar  married  secondary      no     -251     yes   \n",
       "18082  18083   34     technician  married  secondary      no       56      no   \n",
       "\n",
       "      loan   contact  day month  duration  campaign  pdays  previous poutcome  \n",
       "0       no  cellular    4   feb      1294         2     -1         0  unknown  \n",
       "1       no   unknown   18   jun      1029         1     -1         0  unknown  \n",
       "2      yes   unknown    5   jun        26        24     -1         0  unknown  \n",
       "3       no   unknown   27   may        92         4     -1         0  unknown  \n",
       "4       no  cellular   31   jul       404         2     -1         0  unknown  \n",
       "...    ...       ...  ...   ...       ...       ...    ...       ...      ...  \n",
       "18078   no   unknown    6   may       122         3     -1         0  unknown  \n",
       "18079  yes  cellular    5   feb       225         1    268         1  failure  \n",
       "18080   no   unknown    8   may        22         1     -1         0  unknown  \n",
       "18081   no  cellular   12   may       146         3    370         1  failure  \n",
       "18082   no  cellular   19   aug        91         2     -1         0  unknown  \n",
       "\n",
       "[18083 rows x 17 columns]"
      ]
     },
     "execution_count": 11,
     "metadata": {},
     "output_type": "execute_result"
    }
   ],
   "source": [
    "testX = test.copy()\n",
    "testX"
   ]
  },
  {
   "cell_type": "markdown",
   "metadata": {},
   "source": [
    "## trainXとtestXをダミー変数化しましょう"
   ]
  },
  {
   "cell_type": "code",
   "execution_count": 12,
   "metadata": {},
   "outputs": [],
   "source": [
    "trainX = pd.get_dummies(trainX)\n",
    "testX = pd.get_dummies(testX)"
   ]
  },
  {
   "cell_type": "markdown",
   "metadata": {},
   "source": [
    "## 決定木モデルの箱を用意しましょう\n",
    "- 変数名をclf1とし、DT()を代入しましょう\n",
    "- パラメータは一旦、max_depth=2, min_samples_leaf=500としましょう"
   ]
  },
  {
   "cell_type": "code",
   "execution_count": 14,
   "metadata": {},
   "outputs": [],
   "source": [
    "clf1 = DT(max_depth=2,min_samples_leaf=500)"
   ]
  },
  {
   "cell_type": "markdown",
   "metadata": {},
   "source": [
    "## クロスバリデーションをしてclf1の精度を確かめてみましょう\n",
    "- cross_validate関数を使います\n",
    "- オプションには、clf1, trainX, y, cv=5, scoring=\"roc_auc\",n_jobs=-1と書きます"
   ]
  },
  {
   "cell_type": "code",
   "execution_count": 16,
   "metadata": {},
   "outputs": [
    {
     "data": {
      "text/plain": [
       "{'fit_time': array([0.16655469, 0.18661141, 0.18551326, 0.16655469, 0.15662551]),\n",
       " 'score_time': array([0.03068471, 0.02287698, 0.02620649, 0.03068471, 0.01200056]),\n",
       " 'test_score': array([0.74657601, 0.76182968, 0.73117591, 0.73707281, 0.75910043])}"
      ]
     },
     "execution_count": 16,
     "metadata": {},
     "output_type": "execute_result"
    }
   ],
   "source": [
    "cross_validate(clf1,trainX,y,cv=5,scoring=\"roc_auc\",n_jobs=-1)"
   ]
  },
  {
   "cell_type": "markdown",
   "metadata": {},
   "source": [
    "## 異なるパラメータでもう一度決定木の箱を準備しましょう\n",
    "- 変数はclf2としましょう\n",
    "- パラメータはmax_depth=10, min_samples_leaf=500としましょう"
   ]
  },
  {
   "cell_type": "code",
   "execution_count": 17,
   "metadata": {},
   "outputs": [],
   "source": [
    "clf2 =DT(max_depth=10,min_samples_leaf=500)"
   ]
  },
  {
   "cell_type": "markdown",
   "metadata": {},
   "source": [
    "## クロスバリデーションをしてclf2の精度を確かめてみましょう"
   ]
  },
  {
   "cell_type": "code",
   "execution_count": 18,
   "metadata": {},
   "outputs": [
    {
     "data": {
      "text/plain": [
       "{'fit_time': array([0.49949169, 0.48042583, 0.46999884, 0.46845889, 0.30994892]),\n",
       " 'score_time': array([0.02381945, 0.03191185, 0.0239346 , 0.0310328 , 0.02091193]),\n",
       " 'test_score': array([0.88264002, 0.88482571, 0.86778474, 0.8924153 , 0.88343681])}"
      ]
     },
     "execution_count": 18,
     "metadata": {},
     "output_type": "execute_result"
    }
   ],
   "source": [
    "cross_validate(clf2,trainX,y,cv=5,scoring=\"roc_auc\",n_jobs=-1)"
   ]
  },
  {
   "cell_type": "markdown",
   "metadata": {},
   "source": [
    "## 新たな決定木モデルの箱を準備しましょう\n",
    "- 変数clf3とし、今回は特にパラメータはセットしません"
   ]
  },
  {
   "cell_type": "code",
   "execution_count": 19,
   "metadata": {},
   "outputs": [],
   "source": [
    "clf3 = DT()"
   ]
  },
  {
   "cell_type": "markdown",
   "metadata": {},
   "source": [
    "## グリッドサーチを試してみましょう\n",
    "- パラメータの範囲を指定し、その範囲をしらみつぶしに調べることで、最適なパラメータを探索することをグリッドサーチといいます\n",
    "- グリッドサーチ＋クロスバリデーションの組み合わせは良くパラメータ探索の方法として利用されます\n",
    "- まず探索するパラメータの範囲を表す変数parametersを作ります\n",
    "- この変数を作る時、\"カギ\"括弧ではなく、\"波\"括弧であることに注意して下さい\n",
    "- {\"パラメータの名前①\":[範囲], \"パラメータの名前②\":[範囲]...}のように書きます\n",
    "- 今回はmax_depthを2から10まで探索してみます"
   ]
  },
  {
   "cell_type": "code",
   "execution_count": null,
   "metadata": {
    "collapsed": true
   },
   "outputs": [],
   "source": [
    "parameters ={\"max_depth\":[2,3,4,5,6,7,8,9,10]}"
   ]
  },
  {
   "cell_type": "code",
   "execution_count": 22,
   "metadata": {},
   "outputs": [],
   "source": [
    "parameters ={\"max_depth\":list(range(2,11))}"
   ]
  },
  {
   "cell_type": "code",
   "execution_count": 23,
   "metadata": {},
   "outputs": [
    {
     "data": {
      "text/plain": [
       "{'max_depth': [2, 3, 4, 5, 6, 7, 8, 9, 10]}"
      ]
     },
     "execution_count": 23,
     "metadata": {},
     "output_type": "execute_result"
    }
   ],
   "source": [
    "parameters"
   ]
  },
  {
   "cell_type": "markdown",
   "metadata": {},
   "source": [
    "## グリッドサーチ+クロスバリデーションで最適なパラメータを探してみましょう"
   ]
  },
  {
   "cell_type": "markdown",
   "metadata": {},
   "source": [
    "- GridSearchCV関数を使います\n",
    "- オプションとして、clf3, parameters, cv=5, scoring=\"roc_auc\",n_jobs=-1と書きます\n",
    "- グリッドサーチの結果は、変数gcvに代入しましょう\n",
    "- その後、fit関数を使って、探索をしましょう"
   ]
  },
  {
   "cell_type": "code",
   "execution_count": 35,
   "metadata": {},
   "outputs": [
    {
     "data": {
      "text/plain": [
       "GridSearchCV(cv=5, estimator=DecisionTreeClassifier(), n_jobs=-1,\n",
       "             param_grid={'max_depth': [2, 3, 4, 5, 6, 7, 8, 9, 10]},\n",
       "             return_train_score=True, scoring='roc_auc')"
      ]
     },
     "execution_count": 35,
     "metadata": {},
     "output_type": "execute_result"
    }
   ],
   "source": [
    "gcv = GridSearchCV(clf3,parameters,cv=5,scoring=\"roc_auc\",n_jobs=-1,return_train_score=True)\n",
    "gcv.fit(trainX,y)"
   ]
  },
  {
   "cell_type": "markdown",
   "metadata": {},
   "source": [
    "## グリッドサーチの結果を見てみましょう\n",
    "- cv_____results_で結果を見る事が出来ます"
   ]
  },
  {
   "cell_type": "code",
   "execution_count": 37,
   "metadata": {},
   "outputs": [
    {
     "data": {
      "text/plain": [
       "{'mean_fit_time': array([0.17651815, 0.26242223, 0.29473467, 0.36482577, 0.40684872,\n",
       "        0.48802757, 0.6547092 , 0.77622619, 0.79409833]),\n",
       " 'std_fit_time': array([0.01685433, 0.01573722, 0.00667046, 0.02281242, 0.01615448,\n",
       "        0.01908676, 0.05513595, 0.02947722, 0.10438239]),\n",
       " 'mean_score_time': array([0.02281065, 0.02691054, 0.02406139, 0.02480578, 0.02417583,\n",
       "        0.02260871, 0.03089566, 0.03232203, 0.02771649]),\n",
       " 'std_score_time': array([0.00261323, 0.00577686, 0.00363156, 0.00600242, 0.00491398,\n",
       "        0.0026706 , 0.00755568, 0.00779488, 0.00882383]),\n",
       " 'param_max_depth': masked_array(data=[2, 3, 4, 5, 6, 7, 8, 9, 10],\n",
       "              mask=[False, False, False, False, False, False, False, False,\n",
       "                    False],\n",
       "        fill_value='?',\n",
       "             dtype=object),\n",
       " 'params': [{'max_depth': 2},\n",
       "  {'max_depth': 3},\n",
       "  {'max_depth': 4},\n",
       "  {'max_depth': 5},\n",
       "  {'max_depth': 6},\n",
       "  {'max_depth': 7},\n",
       "  {'max_depth': 8},\n",
       "  {'max_depth': 9},\n",
       "  {'max_depth': 10}],\n",
       " 'split0_test_score': array([0.74657601, 0.82360265, 0.73033016, 0.74058989, 0.74368476,\n",
       "        0.73390626, 0.73025621, 0.71326322, 0.69626235]),\n",
       " 'split1_test_score': array([0.76182968, 0.82214585, 0.843183  , 0.85330188, 0.85661633,\n",
       "        0.85990136, 0.85979042, 0.85413119, 0.83538738]),\n",
       " 'split2_test_score': array([0.73117591, 0.8075016 , 0.83351987, 0.84181298, 0.84404206,\n",
       "        0.84195481, 0.83557474, 0.82336665, 0.81208253]),\n",
       " 'split3_test_score': array([0.73707281, 0.75196604, 0.80556935, 0.81563658, 0.82971726,\n",
       "        0.85192346, 0.84534874, 0.83884109, 0.81845758]),\n",
       " 'split4_test_score': array([0.75910043, 0.83206798, 0.85796137, 0.86203561, 0.86213026,\n",
       "        0.84647426, 0.82760822, 0.72782909, 0.72214661]),\n",
       " 'mean_test_score': array([0.74715097, 0.80745683, 0.81411275, 0.82267539, 0.82723813,\n",
       "        0.82683203, 0.81971567, 0.79148625, 0.77686729]),\n",
       " 'std_test_score': array([0.01196124, 0.02884924, 0.04524805, 0.04391134, 0.04324401,\n",
       "        0.04684629, 0.04599965, 0.05891401, 0.05636661]),\n",
       " 'rank_test_score': array([9, 6, 5, 3, 1, 2, 4, 7, 8]),\n",
       " 'split0_train_score': array([0.74534692, 0.82168836, 0.84726425, 0.85815618, 0.86983919,\n",
       "        0.88432329, 0.90048061, 0.91372037, 0.92613508]),\n",
       " 'split1_train_score': array([0.74543889, 0.82283293, 0.84962306, 0.86363422, 0.87428944,\n",
       "        0.88432372, 0.89732707, 0.90808259, 0.92263441]),\n",
       " 'split2_train_score': array([0.75305367, 0.82675277, 0.85308818, 0.86695599, 0.87724756,\n",
       "        0.89234865, 0.90374865, 0.91421271, 0.92657744]),\n",
       " 'split3_train_score': array([0.75162494, 0.77022786, 0.82376143, 0.83735619, 0.8541277 ,\n",
       "        0.88438751, 0.89808944, 0.90766487, 0.92080347]),\n",
       " 'split4_train_score': array([0.746135  , 0.8207291 , 0.84693949, 0.86020065, 0.87072476,\n",
       "        0.88435379, 0.89537661, 0.90746821, 0.92484368]),\n",
       " 'mean_train_score': array([0.74831988, 0.8124462 , 0.84413528, 0.85726064, 0.86924573,\n",
       "        0.88594739, 0.89900448, 0.91022975, 0.92419882]),\n",
       " 'std_train_score': array([0.00332399, 0.02120837, 0.01042131, 0.01039476, 0.00800703,\n",
       "        0.00320072, 0.00288092, 0.00306148, 0.00218168])}"
      ]
     },
     "execution_count": 37,
     "metadata": {},
     "output_type": "execute_result"
    }
   ],
   "source": [
    "gcv.cv_results_"
   ]
  },
  {
   "cell_type": "markdown",
   "metadata": {},
   "source": [
    "## cv_____results_の中で重要な２つをみてみましょう\n",
    "- cv_____results_[\"mean_train_score\"]とcv_____results_[\"mean_test_score\"]です\n",
    "- それぞれ変数train_scoreとtest_scoreに代入しましょう"
   ]
  },
  {
   "cell_type": "code",
   "execution_count": null,
   "metadata": {},
   "outputs": [],
   "source": []
  },
  {
   "cell_type": "code",
   "execution_count": 38,
   "metadata": {},
   "outputs": [],
   "source": [
    "train_score = gcv.cv_results_[\"mean_train_score\"]"
   ]
  },
  {
   "cell_type": "code",
   "execution_count": 39,
   "metadata": {},
   "outputs": [],
   "source": [
    "test_score = gcv.cv_results_[\"mean_test_score\"]"
   ]
  },
  {
   "cell_type": "code",
   "execution_count": 41,
   "metadata": {},
   "outputs": [
    {
     "data": {
      "text/plain": [
       "array([0.74831988, 0.8124462 , 0.84413528, 0.85726064, 0.86924573,\n",
       "       0.88594739, 0.89900448, 0.91022975, 0.92419882])"
      ]
     },
     "execution_count": 41,
     "metadata": {},
     "output_type": "execute_result"
    }
   ],
   "source": [
    "train_score"
   ]
  },
  {
   "cell_type": "markdown",
   "metadata": {},
   "source": [
    "## train_scoreとtest_scoreを可視化しましょう\n",
    "- x軸をmax_depth、y軸をaucとしてグラフを描きます\n",
    "- 何も設定しないとx軸は0からスタートとなり、実際の値とずれてしまうので、調整が必要です\n",
    "- 調整をする為には、plt.xticks([0,1],[2,3])のように書きます\n",
    "- 上記のオプションの意味は何もしない時に0のものを2とし、1のものを3とする、という意味になります\n",
    "- 今回はmax_depthを2～10まで調べたので9点あります"
   ]
  },
  {
   "cell_type": "code",
   "execution_count": 43,
   "metadata": {},
   "outputs": [
    {
     "data": {
      "text/plain": [
       "([<matplotlib.axis.XTick at 0x146a5f7f700>,\n",
       "  <matplotlib.axis.XTick at 0x146a5f7f6d0>,\n",
       "  <matplotlib.axis.XTick at 0x146a5f7b2b0>,\n",
       "  <matplotlib.axis.XTick at 0x146a5f9c520>,\n",
       "  <matplotlib.axis.XTick at 0x146a5f9ca30>,\n",
       "  <matplotlib.axis.XTick at 0x146a5f9cf40>,\n",
       "  <matplotlib.axis.XTick at 0x146a5f9c130>,\n",
       "  <matplotlib.axis.XTick at 0x146a5fa0490>,\n",
       "  <matplotlib.axis.XTick at 0x146a5fa09a0>],\n",
       " [Text(0, 0, '2'),\n",
       "  Text(1, 0, '3'),\n",
       "  Text(2, 0, '4'),\n",
       "  Text(3, 0, '5'),\n",
       "  Text(4, 0, '6'),\n",
       "  Text(5, 0, '7'),\n",
       "  Text(6, 0, '8'),\n",
       "  Text(7, 0, '9'),\n",
       "  Text(8, 0, '10')])"
      ]
     },
     "execution_count": 43,
     "metadata": {},
     "output_type": "execute_result"
    },
    {
     "data": {
      "image/png": "[encoded data removed]",
      "text/plain": [
       "<Figure size 432x288 with 1 Axes>"
      ]
     },
     "metadata": {
      "needs_background": "light"
     },
     "output_type": "display_data"
    }
   ],
   "source": [
    "plt.plot(train_score)\n",
    "plt.plot(test_score)\n",
    "plt.xticks([0,1,2,3,4,5,6,7,8,],[2,3,4,5,6,7,8,9,10])"
   ]
  },
  {
   "cell_type": "markdown",
   "metadata": {},
   "source": [
    "## グリッドサーチで選ばれたパラメータを確認しましょう\n",
    "- best_____params_で結果を見ることができます"
   ]
  },
  {
   "cell_type": "code",
   "execution_count": 45,
   "metadata": {},
   "outputs": [
    {
     "data": {
      "text/plain": [
       "{'max_depth': 6}"
      ]
     },
     "execution_count": 45,
     "metadata": {},
     "output_type": "execute_result"
    }
   ],
   "source": [
    "gcv.best_params_"
   ]
  },
  {
   "cell_type": "markdown",
   "metadata": {},
   "source": [
    "## testの予測しましょう\n",
    "- gcvもpredict_proba関数を持っており、自動的に最適なパラメータを使ったモデルで予測がされます\n",
    "- 予測結果はpredに代入しましょう。その後、1の確率のみを取り出して、再びpredに代入しましょう"
   ]
  },
  {
   "cell_type": "code",
   "execution_count": 61,
   "metadata": {},
   "outputs": [],
   "source": [
    "pred = gcv.predict_proba(testX)"
   ]
  },
  {
   "cell_type": "code",
   "execution_count": 62,
   "metadata": {},
   "outputs": [],
   "source": [
    "pred = pred[:,1]"
   ]
  },
  {
   "cell_type": "markdown",
   "metadata": {},
   "source": [
    "## predをsample[1]に代入してファイル出力し、DeepAnalyticsへ投稿しましょう\n",
    "- ファイル名は「submit3_bank.csv」としましょう\n",
    "- index=None,header=Noneのオプションを忘れないように書きだしましょう"
   ]
  },
  {
   "cell_type": "code",
   "execution_count": 63,
   "metadata": {},
   "outputs": [
    {
     "data": {
      "text/plain": [
       "array([0.6609589 , 0.45248869, 0.01968037, ..., 0.01968037, 0.01968037,\n",
       "       0.01968037])"
      ]
     },
     "execution_count": 63,
     "metadata": {},
     "output_type": "execute_result"
    }
   ],
   "source": [
    "pred"
   ]
  },
  {
   "cell_type": "code",
   "execution_count": 64,
   "metadata": {},
   "outputs": [
    {
     "data": {
      "text/html": [
       "<div>\n",
       "<style scoped>\n",
       "    .dataframe tbody tr th:only-of-type {\n",
       "        vertical-align: middle;\n",
       "    }\n",
       "\n",
       "    .dataframe tbody tr th {\n",
       "        vertical-align: top;\n",
       "    }\n",
       "\n",
       "    .dataframe thead th {\n",
       "        text-align: right;\n",
       "    }\n",
       "</style>\n",
       "<table border=\"1\" class=\"dataframe\">\n",
       "  <thead>\n",
       "    <tr style=\"text-align: right;\">\n",
       "      <th></th>\n",
       "      <th>1</th>\n",
       "      <th>0.236</th>\n",
       "    </tr>\n",
       "  </thead>\n",
       "  <tbody>\n",
       "    <tr>\n",
       "      <th>0</th>\n",
       "      <td>2</td>\n",
       "      <td>0.128</td>\n",
       "    </tr>\n",
       "    <tr>\n",
       "      <th>1</th>\n",
       "      <td>3</td>\n",
       "      <td>0.903</td>\n",
       "    </tr>\n",
       "    <tr>\n",
       "      <th>2</th>\n",
       "      <td>4</td>\n",
       "      <td>0.782</td>\n",
       "    </tr>\n",
       "    <tr>\n",
       "      <th>3</th>\n",
       "      <td>5</td>\n",
       "      <td>0.597</td>\n",
       "    </tr>\n",
       "    <tr>\n",
       "      <th>4</th>\n",
       "      <td>6</td>\n",
       "      <td>0.555</td>\n",
       "    </tr>\n",
       "    <tr>\n",
       "      <th>...</th>\n",
       "      <td>...</td>\n",
       "      <td>...</td>\n",
       "    </tr>\n",
       "    <tr>\n",
       "      <th>18077</th>\n",
       "      <td>18079</td>\n",
       "      <td>0.981</td>\n",
       "    </tr>\n",
       "    <tr>\n",
       "      <th>18078</th>\n",
       "      <td>18080</td>\n",
       "      <td>0.461</td>\n",
       "    </tr>\n",
       "    <tr>\n",
       "      <th>18079</th>\n",
       "      <td>18081</td>\n",
       "      <td>0.010</td>\n",
       "    </tr>\n",
       "    <tr>\n",
       "      <th>18080</th>\n",
       "      <td>18082</td>\n",
       "      <td>0.472</td>\n",
       "    </tr>\n",
       "    <tr>\n",
       "      <th>18081</th>\n",
       "      <td>18083</td>\n",
       "      <td>0.227</td>\n",
       "    </tr>\n",
       "  </tbody>\n",
       "</table>\n",
       "<p>18082 rows × 2 columns</p>\n",
       "</div>"
      ],
      "text/plain": [
       "           1  0.236\n",
       "0          2  0.128\n",
       "1          3  0.903\n",
       "2          4  0.782\n",
       "3          5  0.597\n",
       "4          6  0.555\n",
       "...      ...    ...\n",
       "18077  18079  0.981\n",
       "18078  18080  0.461\n",
       "18079  18081  0.010\n",
       "18080  18082  0.472\n",
       "18081  18083  0.227\n",
       "\n",
       "[18082 rows x 2 columns]"
      ]
     },
     "execution_count": 64,
     "metadata": {},
     "output_type": "execute_result"
    }
   ],
   "source": [
    "sample"
   ]
  },
  {
   "cell_type": "code",
   "execution_count": 77,
   "metadata": {},
   "outputs": [
    {
     "data": {
      "text/html": [
       "<div>\n",
       "<style scoped>\n",
       "    .dataframe tbody tr th:only-of-type {\n",
       "        vertical-align: middle;\n",
       "    }\n",
       "\n",
       "    .dataframe tbody tr th {\n",
       "        vertical-align: top;\n",
       "    }\n",
       "\n",
       "    .dataframe thead th {\n",
       "        text-align: right;\n",
       "    }\n",
       "</style>\n",
       "<table border=\"1\" class=\"dataframe\">\n",
       "  <thead>\n",
       "    <tr style=\"text-align: right;\">\n",
       "      <th></th>\n",
       "      <th>0</th>\n",
       "      <th>1</th>\n",
       "    </tr>\n",
       "  </thead>\n",
       "  <tbody>\n",
       "    <tr>\n",
       "      <th>0</th>\n",
       "      <td>1</td>\n",
       "      <td>0.236</td>\n",
       "    </tr>\n",
       "    <tr>\n",
       "      <th>1</th>\n",
       "      <td>2</td>\n",
       "      <td>0.128</td>\n",
       "    </tr>\n",
       "    <tr>\n",
       "      <th>2</th>\n",
       "      <td>3</td>\n",
       "      <td>0.903</td>\n",
       "    </tr>\n",
       "    <tr>\n",
       "      <th>3</th>\n",
       "      <td>4</td>\n",
       "      <td>0.782</td>\n",
       "    </tr>\n",
       "    <tr>\n",
       "      <th>4</th>\n",
       "      <td>5</td>\n",
       "      <td>0.597</td>\n",
       "    </tr>\n",
       "    <tr>\n",
       "      <th>...</th>\n",
       "      <td>...</td>\n",
       "      <td>...</td>\n",
       "    </tr>\n",
       "    <tr>\n",
       "      <th>18078</th>\n",
       "      <td>18079</td>\n",
       "      <td>0.981</td>\n",
       "    </tr>\n",
       "    <tr>\n",
       "      <th>18079</th>\n",
       "      <td>18080</td>\n",
       "      <td>0.461</td>\n",
       "    </tr>\n",
       "    <tr>\n",
       "      <th>18080</th>\n",
       "      <td>18081</td>\n",
       "      <td>0.010</td>\n",
       "    </tr>\n",
       "    <tr>\n",
       "      <th>18081</th>\n",
       "      <td>18082</td>\n",
       "      <td>0.472</td>\n",
       "    </tr>\n",
       "    <tr>\n",
       "      <th>18082</th>\n",
       "      <td>18083</td>\n",
       "      <td>0.227</td>\n",
       "    </tr>\n",
       "  </tbody>\n",
       "</table>\n",
       "<p>18083 rows × 2 columns</p>\n",
       "</div>"
      ],
      "text/plain": [
       "           0      1\n",
       "0          1  0.236\n",
       "1          2  0.128\n",
       "2          3  0.903\n",
       "3          4  0.782\n",
       "4          5  0.597\n",
       "...      ...    ...\n",
       "18078  18079  0.981\n",
       "18079  18080  0.461\n",
       "18080  18081  0.010\n",
       "18081  18082  0.472\n",
       "18082  18083  0.227\n",
       "\n",
       "[18083 rows x 2 columns]"
      ]
     },
     "execution_count": 77,
     "metadata": {},
     "output_type": "execute_result"
    }
   ],
   "source": [
    "sample = pd.read_csv(\"submit_sample.csv\",header=None)\n",
    "sample\n"
   ]
  },
  {
   "cell_type": "code",
   "execution_count": 78,
   "metadata": {},
   "outputs": [],
   "source": [
    "sample[1] = pred"
   ]
  },
  {
   "cell_type": "markdown",
   "metadata": {},
   "source": [
    "# 実習"
   ]
  },
  {
   "cell_type": "markdown",
   "metadata": {},
   "source": [
    "1.新たな決定木モデルの箱を変数clf4として準備してみよう。パラメータの設定は不要です"
   ]
  },
  {
   "cell_type": "code",
   "execution_count": 79,
   "metadata": {},
   "outputs": [],
   "source": [
    "clf4 = DT()"
   ]
  },
  {
   "cell_type": "markdown",
   "metadata": {},
   "source": [
    "2.max_depthとmin_samples_leafの値の範囲を指定した変数parameters2を作ろう\n",
    "- max_depthは2～10まで、min_samples_leafは[5,10,20,50,100,500]にしましょう"
   ]
  },
  {
   "cell_type": "code",
   "execution_count": 116,
   "metadata": {},
   "outputs": [],
   "source": [
    "parameters2 = {\"max_depth\":list(range(2,11)),\"min_samples_leaf\":[5,10,20,50,100,500]}"
   ]
  },
  {
   "cell_type": "markdown",
   "metadata": {},
   "source": [
    "3.グリッドサーチ+クロスバリデーションで最適なパラメータを探そう。グリッドサーチの結果は変数gcv2に代入しよう"
   ]
  },
  {
   "cell_type": "code",
   "execution_count": 117,
   "metadata": {},
   "outputs": [
    {
     "data": {
      "text/plain": [
       "GridSearchCV(cv=5, estimator=DecisionTreeClassifier(), n_jobs=-1,\n",
       "             param_grid={'max_depth': [2, 3, 4, 5, 6, 7, 8, 9, 10],\n",
       "                         'min_samples_leaf': [5, 10, 20, 50, 100, 500]},\n",
       "             return_train_score=True, scoring='roc_auc')"
      ]
     },
     "execution_count": 117,
     "metadata": {},
     "output_type": "execute_result"
    }
   ],
   "source": [
    "gcv2 = GridSearchCV(clf4,parameters2,cv=5,scoring=\"roc_auc\",n_jobs=-1,return_train_score=True)\n",
    "gcv2.fit(trainX,y)"
   ]
  },
  {
   "cell_type": "markdown",
   "metadata": {},
   "source": [
    "4.最適なパラメータはなんだったか確かめてみよう"
   ]
  },
  {
   "cell_type": "code",
   "execution_count": 118,
   "metadata": {},
   "outputs": [
    {
     "data": {
      "text/plain": [
       "{'mean_fit_time': array([0.26467986, 0.22706676, 0.27050681, 0.25716953, 0.2309175 ,\n",
       "        0.26120057, 0.29085469, 0.23915243, 0.26046414, 0.24383082,\n",
       "        0.26957488, 0.29173074, 0.29676533, 0.31454287, 0.29887376,\n",
       "        0.33689871, 0.32866235, 0.3701252 , 0.48049774, 0.48328624,\n",
       "        0.49304814, 0.38905916, 0.36927586, 0.32454219, 0.42556496,\n",
       "        0.39839396, 0.41244535, 0.41291542, 0.40935221, 0.47589459,\n",
       "        0.60941763, 0.61011376, 0.5034143 , 0.45143709, 0.43534474,\n",
       "        0.46871824, 0.51930723, 0.52726188, 0.52611661, 0.66277061,\n",
       "        0.64908223, 0.5471241 , 0.58981886, 0.57980566, 0.54985929,\n",
       "        0.55726185, 0.53650603, 0.48958011, 0.78635983, 0.84248123,\n",
       "        0.72523355, 0.60706649, 0.55785079, 0.42273459]),\n",
       " 'std_fit_time': array([0.01714927, 0.02290254, 0.02830347, 0.01471525, 0.02565719,\n",
       "        0.02014322, 0.03120007, 0.01606385, 0.01312205, 0.0140517 ,\n",
       "        0.05180264, 0.01586268, 0.01504871, 0.02346185, 0.01788124,\n",
       "        0.00561467, 0.01251141, 0.03098067, 0.01996231, 0.01549426,\n",
       "        0.0229249 , 0.03597279, 0.01767923, 0.00719123, 0.02388452,\n",
       "        0.01870649, 0.01601494, 0.01637421, 0.0336036 , 0.03475332,\n",
       "        0.00838294, 0.01879852, 0.04571931, 0.01134628, 0.00938787,\n",
       "        0.02172926, 0.01457693, 0.02323992, 0.02633721, 0.05171179,\n",
       "        0.03074904, 0.03025184, 0.03661097, 0.01877556, 0.03159888,\n",
       "        0.02241779, 0.01961669, 0.03125587, 0.03994278, 0.03419957,\n",
       "        0.06320885, 0.01995153, 0.03119664, 0.04827453]),\n",
       " 'mean_score_time': array([0.0427753 , 0.03286033, 0.03115845, 0.03853335, 0.02545705,\n",
       "        0.03874288, 0.03018966, 0.02152271, 0.02099996, 0.02299099,\n",
       "        0.02774692, 0.02418318, 0.02793283, 0.02425218, 0.02588396,\n",
       "        0.02831445, 0.02112341, 0.03227077, 0.02899828, 0.02606916,\n",
       "        0.03175359, 0.02194877, 0.02380023, 0.02309217, 0.02052522,\n",
       "        0.02297153, 0.02334046, 0.02566609, 0.02343016, 0.03900294,\n",
       "        0.03179364, 0.02716532, 0.02315626, 0.02777839, 0.02694998,\n",
       "        0.02189794, 0.02681127, 0.02520213, 0.02502327, 0.02917738,\n",
       "        0.03309536, 0.02771373, 0.02099528, 0.02359715, 0.02156048,\n",
       "        0.02190423, 0.02288303, 0.03180871, 0.02796407, 0.02484288,\n",
       "        0.02721066, 0.0240602 , 0.02327099, 0.02173581]),\n",
       " 'std_score_time': array([0.0113216 , 0.0093087 , 0.01085795, 0.01123707, 0.00435781,\n",
       "        0.00943852, 0.01311642, 0.00134422, 0.00492016, 0.00524926,\n",
       "        0.00761899, 0.00304788, 0.00454991, 0.00397243, 0.00748093,\n",
       "        0.00844877, 0.00082776, 0.01082125, 0.00753872, 0.0057241 ,\n",
       "        0.00637067, 0.00232269, 0.00648366, 0.00161147, 0.00347972,\n",
       "        0.00353191, 0.00292758, 0.00949393, 0.00134726, 0.01209276,\n",
       "        0.00967342, 0.00250722, 0.00254229, 0.01026531, 0.00760037,\n",
       "        0.00297804, 0.00989815, 0.00440743, 0.00612559, 0.00435368,\n",
       "        0.00796724, 0.00445015, 0.00160202, 0.00370881, 0.00158423,\n",
       "        0.00387029, 0.00317396, 0.01247391, 0.00615151, 0.00792586,\n",
       "        0.0028073 , 0.00573273, 0.00291655, 0.00444631]),\n",
       " 'param_max_depth': masked_array(data=[2, 2, 2, 2, 2, 2, 3, 3, 3, 3, 3, 3, 4, 4, 4, 4, 4, 4,\n",
       "                    5, 5, 5, 5, 5, 5, 6, 6, 6, 6, 6, 6, 7, 7, 7, 7, 7, 7,\n",
       "                    8, 8, 8, 8, 8, 8, 9, 9, 9, 9, 9, 9, 10, 10, 10, 10, 10,\n",
       "                    10],\n",
       "              mask=[False, False, False, False, False, False, False, False,\n",
       "                    False, False, False, False, False, False, False, False,\n",
       "                    False, False, False, False, False, False, False, False,\n",
       "                    False, False, False, False, False, False, False, False,\n",
       "                    False, False, False, False, False, False, False, False,\n",
       "                    False, False, False, False, False, False, False, False,\n",
       "                    False, False, False, False, False, False],\n",
       "        fill_value='?',\n",
       "             dtype=object),\n",
       " 'param_min_samples_leaf': masked_array(data=[5, 10, 20, 50, 100, 500, 5, 10, 20, 50, 100, 500, 5,\n",
       "                    10, 20, 50, 100, 500, 5, 10, 20, 50, 100, 500, 5, 10,\n",
       "                    20, 50, 100, 500, 5, 10, 20, 50, 100, 500, 5, 10, 20,\n",
       "                    50, 100, 500, 5, 10, 20, 50, 100, 500, 5, 10, 20, 50,\n",
       "                    100, 500],\n",
       "              mask=[False, False, False, False, False, False, False, False,\n",
       "                    False, False, False, False, False, False, False, False,\n",
       "                    False, False, False, False, False, False, False, False,\n",
       "                    False, False, False, False, False, False, False, False,\n",
       "                    False, False, False, False, False, False, False, False,\n",
       "                    False, False, False, False, False, False, False, False,\n",
       "                    False, False, False, False, False, False],\n",
       "        fill_value='?',\n",
       "             dtype=object),\n",
       " 'params': [{'max_depth': 2, 'min_samples_leaf': 5},\n",
       "  {'max_depth': 2, 'min_samples_leaf': 10},\n",
       "  {'max_depth': 2, 'min_samples_leaf': 20},\n",
       "  {'max_depth': 2, 'min_samples_leaf': 50},\n",
       "  {'max_depth': 2, 'min_samples_leaf': 100},\n",
       "  {'max_depth': 2, 'min_samples_leaf': 500},\n",
       "  {'max_depth': 3, 'min_samples_leaf': 5},\n",
       "  {'max_depth': 3, 'min_samples_leaf': 10},\n",
       "  {'max_depth': 3, 'min_samples_leaf': 20},\n",
       "  {'max_depth': 3, 'min_samples_leaf': 50},\n",
       "  {'max_depth': 3, 'min_samples_leaf': 100},\n",
       "  {'max_depth': 3, 'min_samples_leaf': 500},\n",
       "  {'max_depth': 4, 'min_samples_leaf': 5},\n",
       "  {'max_depth': 4, 'min_samples_leaf': 10},\n",
       "  {'max_depth': 4, 'min_samples_leaf': 20},\n",
       "  {'max_depth': 4, 'min_samples_leaf': 50},\n",
       "  {'max_depth': 4, 'min_samples_leaf': 100},\n",
       "  {'max_depth': 4, 'min_samples_leaf': 500},\n",
       "  {'max_depth': 5, 'min_samples_leaf': 5},\n",
       "  {'max_depth': 5, 'min_samples_leaf': 10},\n",
       "  {'max_depth': 5, 'min_samples_leaf': 20},\n",
       "  {'max_depth': 5, 'min_samples_leaf': 50},\n",
       "  {'max_depth': 5, 'min_samples_leaf': 100},\n",
       "  {'max_depth': 5, 'min_samples_leaf': 500},\n",
       "  {'max_depth': 6, 'min_samples_leaf': 5},\n",
       "  {'max_depth': 6, 'min_samples_leaf': 10},\n",
       "  {'max_depth': 6, 'min_samples_leaf': 20},\n",
       "  {'max_depth': 6, 'min_samples_leaf': 50},\n",
       "  {'max_depth': 6, 'min_samples_leaf': 100},\n",
       "  {'max_depth': 6, 'min_samples_leaf': 500},\n",
       "  {'max_depth': 7, 'min_samples_leaf': 5},\n",
       "  {'max_depth': 7, 'min_samples_leaf': 10},\n",
       "  {'max_depth': 7, 'min_samples_leaf': 20},\n",
       "  {'max_depth': 7, 'min_samples_leaf': 50},\n",
       "  {'max_depth': 7, 'min_samples_leaf': 100},\n",
       "  {'max_depth': 7, 'min_samples_leaf': 500},\n",
       "  {'max_depth': 8, 'min_samples_leaf': 5},\n",
       "  {'max_depth': 8, 'min_samples_leaf': 10},\n",
       "  {'max_depth': 8, 'min_samples_leaf': 20},\n",
       "  {'max_depth': 8, 'min_samples_leaf': 50},\n",
       "  {'max_depth': 8, 'min_samples_leaf': 100},\n",
       "  {'max_depth': 8, 'min_samples_leaf': 500},\n",
       "  {'max_depth': 9, 'min_samples_leaf': 5},\n",
       "  {'max_depth': 9, 'min_samples_leaf': 10},\n",
       "  {'max_depth': 9, 'min_samples_leaf': 20},\n",
       "  {'max_depth': 9, 'min_samples_leaf': 50},\n",
       "  {'max_depth': 9, 'min_samples_leaf': 100},\n",
       "  {'max_depth': 9, 'min_samples_leaf': 500},\n",
       "  {'max_depth': 10, 'min_samples_leaf': 5},\n",
       "  {'max_depth': 10, 'min_samples_leaf': 10},\n",
       "  {'max_depth': 10, 'min_samples_leaf': 20},\n",
       "  {'max_depth': 10, 'min_samples_leaf': 50},\n",
       "  {'max_depth': 10, 'min_samples_leaf': 100},\n",
       "  {'max_depth': 10, 'min_samples_leaf': 500}],\n",
       " 'split0_test_score': array([0.74657601, 0.74657601, 0.74657601, 0.74657601, 0.74657601,\n",
       "        0.74657601, 0.82360265, 0.82360265, 0.82360265, 0.82360265,\n",
       "        0.82393974, 0.82274935, 0.7315217 , 0.85193037, 0.8519312 ,\n",
       "        0.85153413, 0.8521654 , 0.84930028, 0.74304643, 0.85876718,\n",
       "        0.86842784, 0.86897447, 0.86846334, 0.86439305, 0.74644552,\n",
       "        0.86400288, 0.87526349, 0.87808194, 0.87685687, 0.87938079,\n",
       "        0.74275257, 0.86804704, 0.87911438, 0.8833584 , 0.88125061,\n",
       "        0.8833418 , 0.75239236, 0.87689944, 0.88998401, 0.89422572,\n",
       "        0.89218647, 0.88234123, 0.75068345, 0.87865437, 0.89174831,\n",
       "        0.89890773, 0.89834236, 0.88264002, 0.74197684, 0.87176941,\n",
       "        0.89421126, 0.89989876, 0.89861256, 0.88264002]),\n",
       " 'split1_test_score': array([0.76182968, 0.76182968, 0.76182968, 0.76182968, 0.76182968,\n",
       "        0.76182968, 0.82214585, 0.82214585, 0.82214585, 0.82214585,\n",
       "        0.82278978, 0.82227684, 0.84320683, 0.84320683, 0.84320305,\n",
       "        0.84319911, 0.84521174, 0.84928434, 0.85359031, 0.85407284,\n",
       "        0.85401466, 0.8616788 , 0.86047067, 0.87491557, 0.86018798,\n",
       "        0.86074842, 0.86781531, 0.86810144, 0.86930054, 0.88131832,\n",
       "        0.86390361, 0.86457317, 0.87266397, 0.8726214 , 0.87092597,\n",
       "        0.88478972, 0.86613614, 0.87033776, 0.87906409, 0.87840784,\n",
       "        0.87473264, 0.88482571, 0.8555893 , 0.87509536, 0.88135957,\n",
       "        0.88098272, 0.88359785, 0.88482571, 0.84069096, 0.87317806,\n",
       "        0.88443456, 0.88721191, 0.88689423, 0.88482571]),\n",
       " 'split2_test_score': array([0.73117591, 0.73117591, 0.73117591, 0.73117591, 0.73117591,\n",
       "        0.73117591, 0.8075016 , 0.8075016 , 0.8075016 , 0.8075016 ,\n",
       "        0.80747925, 0.80520694, 0.83351987, 0.83351987, 0.83349308,\n",
       "        0.83347582, 0.83194178, 0.83469136, 0.84182761, 0.84170204,\n",
       "        0.84023078, 0.85154086, 0.85082808, 0.85719977, 0.85215323,\n",
       "        0.853222  , 0.85271235, 0.85632608, 0.85765633, 0.86433026,\n",
       "        0.84565023, 0.85547459, 0.85631507, 0.86161011, 0.86105329,\n",
       "        0.86719768, 0.84938738, 0.86146466, 0.86491206, 0.86850706,\n",
       "        0.86930777, 0.86778474, 0.84106782, 0.86151117, 0.87023487,\n",
       "        0.87526251, 0.87248992, 0.86778474, 0.83555831, 0.85913779,\n",
       "        0.86904054, 0.88264742, 0.88218313, 0.86778474]),\n",
       " 'split3_test_score': array([0.73707281, 0.73707281, 0.73707281, 0.73707281, 0.73707281,\n",
       "        0.73707281, 0.75196604, 0.75196604, 0.75196604, 0.75196604,\n",
       "        0.75226094, 0.82068367, 0.80542288, 0.80542288, 0.80542567,\n",
       "        0.80584058, 0.80612546, 0.85300561, 0.81539937, 0.81562803,\n",
       "        0.81598359, 0.81667598, 0.81641034, 0.87670952, 0.8290086 ,\n",
       "        0.82999096, 0.8320313 , 0.83263229, 0.83136094, 0.8876179 ,\n",
       "        0.85205908, 0.85815922, 0.86098548, 0.86242253, 0.86117107,\n",
       "        0.89176828, 0.84552644, 0.85970624, 0.86593477, 0.87102839,\n",
       "        0.87154472, 0.8924153 , 0.83478572, 0.86560765, 0.87622014,\n",
       "        0.87999145, 0.88264889, 0.8924153 , 0.82828909, 0.87024773,\n",
       "        0.88402709, 0.89043282, 0.89074006, 0.8924153 ]),\n",
       " 'split4_test_score': array([0.75910043, 0.75910043, 0.75910043, 0.75910043, 0.75910043,\n",
       "        0.75910043, 0.83206798, 0.83206798, 0.83206798, 0.83206798,\n",
       "        0.83206798, 0.83037086, 0.85796137, 0.85796137, 0.85813124,\n",
       "        0.85813124, 0.85632795, 0.85794704, 0.86059479, 0.86379002,\n",
       "        0.86659381, 0.87248995, 0.87162855, 0.87509243, 0.86311101,\n",
       "        0.8643222 , 0.87300255, 0.87839943, 0.87863992, 0.88281063,\n",
       "        0.86209783, 0.86836846, 0.88207615, 0.88085985, 0.88102511,\n",
       "        0.88386397, 0.85892762, 0.87125242, 0.88231302, 0.88506693,\n",
       "        0.89009723, 0.88343681, 0.85414967, 0.8624636 , 0.88835023,\n",
       "        0.89126464, 0.89099732, 0.88343681, 0.84740875, 0.86372599,\n",
       "        0.88855484, 0.89473987, 0.89247353, 0.88343681]),\n",
       " 'mean_test_score': array([0.74715097, 0.74715097, 0.74715097, 0.74715097, 0.74715097,\n",
       "        0.74715097, 0.80745683, 0.80745683, 0.80745683, 0.80745683,\n",
       "        0.80770754, 0.82025753, 0.81432653, 0.83840826, 0.83843685,\n",
       "        0.83843618, 0.83835446, 0.84884573, 0.8228917 , 0.84679202,\n",
       "        0.84905014, 0.85427202, 0.8535602 , 0.86966207, 0.83018127,\n",
       "        0.85445729, 0.860165  , 0.86270824, 0.86276292, 0.87909158,\n",
       "        0.83329266, 0.8629245 , 0.87023101, 0.87217446, 0.87108521,\n",
       "        0.88219229, 0.83447399, 0.8679321 , 0.87644159, 0.87944719,\n",
       "        0.87957377, 0.88216076, 0.82725519, 0.86866643, 0.88158263,\n",
       "        0.88528181, 0.88561527, 0.88222052, 0.81878479, 0.86761179,\n",
       "        0.88405366, 0.89098616, 0.8901807 , 0.88222052]),\n",
       " 'std_test_score': array([0.01196124, 0.01196124, 0.01196124, 0.01196124, 0.01196124,\n",
       "        0.01196124, 0.02884924, 0.02884924, 0.02884924, 0.02884924,\n",
       "        0.02884013, 0.00823733, 0.044816  , 0.01843979, 0.01847626,\n",
       "        0.01827137, 0.01811431, 0.00775737, 0.04278761, 0.01721888,\n",
       "        0.01938608, 0.02011883, 0.01991934, 0.00761349, 0.04354443,\n",
       "        0.01286966, 0.01611423, 0.01707012, 0.01735293, 0.00786725,\n",
       "        0.04575842, 0.00523076, 0.01004265, 0.00902687, 0.00895647,\n",
       "        0.00809198, 0.04167117, 0.00642989, 0.00967545, 0.00939819,\n",
       "        0.0096241 , 0.00800735, 0.03908162, 0.00692992, 0.00783223,\n",
       "        0.00858273, 0.00867283, 0.00800959, 0.03891107, 0.00533152,\n",
       "        0.00835436, 0.00596004, 0.00550324, 0.00800959]),\n",
       " 'rank_test_score': array([49, 49, 49, 49, 49, 49, 45, 45, 45, 45, 44, 41, 43, 34, 32, 33, 35,\n",
       "        30, 40, 31, 29, 27, 28, 18, 38, 26, 25, 24, 23, 13, 37, 22, 17, 15,\n",
       "        16,  8, 36, 20, 14, 12, 11,  9, 39, 19, 10,  4,  3,  6, 42, 21,  5,\n",
       "         1,  2,  6]),\n",
       " 'split0_train_score': array([0.74534692, 0.74534692, 0.74534692, 0.74534692, 0.74534692,\n",
       "        0.74534692, 0.82168836, 0.82168836, 0.82168836, 0.82168836,\n",
       "        0.82179431, 0.81970937, 0.84738424, 0.84724423, 0.8471986 ,\n",
       "        0.84719703, 0.84755998, 0.85035361, 0.85807814, 0.85822497,\n",
       "        0.86320908, 0.86242134, 0.86201472, 0.87193187, 0.86953844,\n",
       "        0.86977754, 0.87634162, 0.87491   , 0.87312697, 0.88252463,\n",
       "        0.88315725, 0.8816512 , 0.88775819, 0.88410192, 0.88107676,\n",
       "        0.88736078, 0.89933414, 0.89809321, 0.90232164, 0.89644171,\n",
       "        0.89304221, 0.88829609, 0.91225853, 0.91147309, 0.91006414,\n",
       "        0.9058329 , 0.90148974, 0.88842017, 0.92685315, 0.92235334,\n",
       "        0.91845393, 0.91150466, 0.90644647, 0.88842017]),\n",
       " 'split1_train_score': array([0.74543889, 0.74543889, 0.74543889, 0.74543889, 0.74543889,\n",
       "        0.74543889, 0.82283293, 0.82283293, 0.82283293, 0.82283293,\n",
       "        0.82310336, 0.82103985, 0.84961032, 0.84960952, 0.84960069,\n",
       "        0.84956033, 0.84967322, 0.85121209, 0.86358667, 0.86351496,\n",
       "        0.86339206, 0.86794131, 0.86692356, 0.87233015, 0.87363866,\n",
       "        0.87309177, 0.87685137, 0.87746501, 0.8755917 , 0.88391595,\n",
       "        0.88353771, 0.88289415, 0.88691553, 0.88495503, 0.88323449,\n",
       "        0.88919966, 0.89650476, 0.89635863, 0.8981433 , 0.89396958,\n",
       "        0.8905887 , 0.89038512, 0.90975232, 0.90903072, 0.90707166,\n",
       "        0.9011578 , 0.9000927 , 0.89038512, 0.92648582, 0.92269507,\n",
       "        0.91873423, 0.91085951, 0.9055588 , 0.89038512]),\n",
       " 'split2_train_score': array([0.75305367, 0.75305367, 0.75305367, 0.75305367, 0.75305367,\n",
       "        0.75305367, 0.82675277, 0.82675277, 0.82675277, 0.82675277,\n",
       "        0.8267154 , 0.82513221, 0.85301562, 0.85301562, 0.85300671,\n",
       "        0.85298554, 0.85288768, 0.85429016, 0.8669616 , 0.86695902,\n",
       "        0.86626382, 0.87031831, 0.86940071, 0.87541007, 0.88043536,\n",
       "        0.88045027, 0.87939986, 0.88046611, 0.88038414, 0.88657364,\n",
       "        0.89384442, 0.89327293, 0.8912837 , 0.88996567, 0.88886482,\n",
       "        0.8916799 , 0.90608243, 0.90481156, 0.90114072, 0.8967967 ,\n",
       "        0.89673818, 0.89288003, 0.91755517, 0.91529564, 0.91012167,\n",
       "        0.90500314, 0.90328274, 0.89288003, 0.9297536 , 0.92579747,\n",
       "        0.91977847, 0.91286496, 0.9106636 , 0.89288003]),\n",
       " 'split3_train_score': array([0.75162494, 0.75162494, 0.75162494, 0.75162494, 0.75162494,\n",
       "        0.75162494, 0.77022786, 0.77022786, 0.77022786, 0.77022786,\n",
       "        0.77022411, 0.82135754, 0.82357165, 0.82357165, 0.8235571 ,\n",
       "        0.8232334 , 0.82240238, 0.84990082, 0.83732274, 0.8372443 ,\n",
       "        0.83714144, 0.83633224, 0.83553433, 0.87203167, 0.85403902,\n",
       "        0.85373955, 0.85294881, 0.85188751, 0.85007743, 0.88126258,\n",
       "        0.88469286, 0.88371022, 0.88245959, 0.88065624, 0.87759239,\n",
       "        0.8869967 , 0.89956509, 0.89837299, 0.89588012, 0.89233377,\n",
       "        0.88946613, 0.8876343 , 0.91117298, 0.90903439, 0.90607834,\n",
       "        0.90112799, 0.897267  , 0.8876343 , 0.9238422 , 0.91956608,\n",
       "        0.91751722, 0.91059782, 0.90555041, 0.8876343 ]),\n",
       " 'split4_train_score': array([0.746135  , 0.746135  , 0.746135  , 0.746135  , 0.746135  ,\n",
       "        0.746135  , 0.8207291 , 0.8207291 , 0.8207291 , 0.8207291 ,\n",
       "        0.8207291 , 0.81895822, 0.84693949, 0.84693949, 0.84692943,\n",
       "        0.84692943, 0.84659491, 0.84900642, 0.86001139, 0.85971327,\n",
       "        0.85938558, 0.8650472 , 0.86413578, 0.86907819, 0.87000611,\n",
       "        0.86982963, 0.87056355, 0.87594516, 0.87455216, 0.88031044,\n",
       "        0.88390707, 0.88493937, 0.88764716, 0.8864253 , 0.88383104,\n",
       "        0.88446087, 0.89539342, 0.89780435, 0.89553011, 0.89137856,\n",
       "        0.89490255, 0.885615  , 0.90852126, 0.91055185, 0.90660484,\n",
       "        0.9003836 , 0.90225759, 0.885615  , 0.92516865, 0.92170297,\n",
       "        0.91671983, 0.90802671, 0.90804155, 0.885615  ]),\n",
       " 'mean_train_score': array([0.74831988, 0.74831988, 0.74831988, 0.74831988, 0.74831988,\n",
       "        0.74831988, 0.8124462 , 0.8124462 , 0.8124462 , 0.8124462 ,\n",
       "        0.81251326, 0.82123944, 0.84410426, 0.8440761 , 0.8440585 ,\n",
       "        0.84398115, 0.84382363, 0.85095262, 0.85719211, 0.8571313 ,\n",
       "        0.8578784 , 0.86041208, 0.85960182, 0.87215639, 0.86953152,\n",
       "        0.86937775, 0.87122104, 0.87213476, 0.87074648, 0.88291745,\n",
       "        0.88582786, 0.88529357, 0.88721283, 0.88522083, 0.8829199 ,\n",
       "        0.88793958, 0.89937597, 0.89908815, 0.89860318, 0.89418406,\n",
       "        0.89294755, 0.8889621 , 0.91185205, 0.91107714, 0.90798813,\n",
       "        0.90270109, 0.90087795, 0.88898692, 0.92642069, 0.92242299,\n",
       "        0.91824074, 0.91077073, 0.90725217, 0.88898692]),\n",
       " 'std_train_score': array([0.00332399, 0.00332399, 0.00332399, 0.00332399, 0.00332399,\n",
       "        0.00332399, 0.02120837, 0.02120837, 0.02120837, 0.02120837,\n",
       "        0.02124082, 0.00213319, 0.01048917, 0.01048048, 0.01048042,\n",
       "        0.01059915, 0.01092598, 0.00181435, 0.01039094, 0.01039895,\n",
       "        0.01059646, 0.01233031, 0.01229023, 0.00200788, 0.00867185,\n",
       "        0.00873283, 0.00958249, 0.01029558, 0.0106181 , 0.00219336,\n",
       "        0.00404029, 0.00413102, 0.00281921, 0.00303718, 0.00368919,\n",
       "        0.0024043 , 0.00371803, 0.00294473, 0.00273263, 0.002157  ,\n",
       "        0.00267897, 0.00248132, 0.00311945, 0.00230604, 0.00174714,\n",
       "        0.00225099, 0.00208405, 0.00247515, 0.00197564, 0.0020073 ,\n",
       "        0.00104788, 0.00158063, 0.00193254, 0.00247515])}"
      ]
     },
     "execution_count": 118,
     "metadata": {},
     "output_type": "execute_result"
    }
   ],
   "source": [
    "gcv2.cv_results_"
   ]
  },
  {
   "cell_type": "code",
   "execution_count": 119,
   "metadata": {},
   "outputs": [
    {
     "data": {
      "text/plain": [
       "{'max_depth': 10, 'min_samples_leaf': 50}"
      ]
     },
     "execution_count": 119,
     "metadata": {},
     "output_type": "execute_result"
    }
   ],
   "source": [
    "gcv2.best_params_"
   ]
  },
  {
   "cell_type": "markdown",
   "metadata": {},
   "source": [
    "5.testの予測をし、予測結果のうち、１となる確率のみを変数pred2に代入しよう"
   ]
  },
  {
   "cell_type": "code",
   "execution_count": 120,
   "metadata": {},
   "outputs": [],
   "source": [
    "pred2 = gcv.predict_proba(testX)"
   ]
  },
  {
   "cell_type": "code",
   "execution_count": 121,
   "metadata": {},
   "outputs": [],
   "source": [
    "pred2 = pred2[:,1]"
   ]
  },
  {
   "cell_type": "code",
   "execution_count": null,
   "metadata": {},
   "outputs": [],
   "source": []
  },
  {
   "cell_type": "code",
   "execution_count": 122,
   "metadata": {},
   "outputs": [],
   "source": [
    "sample[1] = pred2"
   ]
  },
  {
   "cell_type": "markdown",
   "metadata": {},
   "source": [
    "6.pred2をsample[1]に代入して\"submit4_bank.csv\"としてファイル出力し、DeepAnalyticsへ投稿しよう"
   ]
  },
  {
   "cell_type": "code",
   "execution_count": 123,
   "metadata": {},
   "outputs": [],
   "source": [
    "sample.to_csv(\"submit4_bank.csv\",header=None,index=None)"
   ]
  },
  {
   "cell_type": "code",
   "execution_count": null,
   "metadata": {},
   "outputs": [],
   "source": []
  }
 ],
 "metadata": {
  "kernelspec": {
   "display_name": "Python 3",
   "language": "python",
   "name": "python3"
  },
  "language_info": {
   "codemirror_mode": {
    "name": "ipython",
    "version": 3
   },
   "file_extension": ".py",
   "mimetype": "text/x-python",
   "name": "python",
   "nbconvert_exporter": "python",
   "pygments_lexer": "ipython3",
   "version": "3.8.5"
  }
 },
 "nbformat": 4,
 "nbformat_minor": 2
}
