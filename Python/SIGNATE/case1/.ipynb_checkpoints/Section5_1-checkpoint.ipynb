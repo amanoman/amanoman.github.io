{
 "cells": [
  {
   "cell_type": "markdown",
   "metadata": {},
   "source": [
    "# PART1 簡単な予測モデルを作ってみよう"
   ]
  },
  {
   "cell_type": "markdown",
   "metadata": {},
   "source": [
    "## おまじない"
   ]
  },
  {
   "cell_type": "code",
   "execution_count": 6,
   "metadata": {},
   "outputs": [],
   "source": [
    "import pandas as pd\n",
    "import numpy as np\n",
    "from matplotlib import pyplot as plt\n",
    "%matplotlib inline\n",
    "from sklearn.linear_model import LinearRegression as LR"
   ]
  },
  {
   "cell_type": "markdown",
   "metadata": {},
   "source": [
    "## データの読み込み\n",
    "- train.csvとtest.csvとsample.csvの３つのファイルを読み込みましょう\n",
    "- それぞれを読み込んだものは変数はtrain, test, sampleに代入しましょう\n",
    "- sampleを読み込む時は、header=Noneというオプションを忘れないようにしましょう"
   ]
  },
  {
   "cell_type": "code",
   "execution_count": 2,
   "metadata": {},
   "outputs": [],
   "source": [
    "train = pd.read_csv(\"train.csv\")\n",
    "test = pd.read_csv(\"test.csv\")\n",
    "sample = pd.read_csv(\"sample.csv\",header=None)"
   ]
  },
  {
   "cell_type": "markdown",
   "metadata": {},
   "source": [
    "## trainの先頭行を見てみましょう"
   ]
  },
  {
   "cell_type": "code",
   "execution_count": 3,
   "metadata": {},
   "outputs": [
    {
     "data": {
      "text/html": [
       "<div>\n",
       "<style scoped>\n",
       "    .dataframe tbody tr th:only-of-type {\n",
       "        vertical-align: middle;\n",
       "    }\n",
       "\n",
       "    .dataframe tbody tr th {\n",
       "        vertical-align: top;\n",
       "    }\n",
       "\n",
       "    .dataframe thead th {\n",
       "        text-align: right;\n",
       "    }\n",
       "</style>\n",
       "<table border=\"1\" class=\"dataframe\">\n",
       "  <thead>\n",
       "    <tr style=\"text-align: right;\">\n",
       "      <th></th>\n",
       "      <th>datetime</th>\n",
       "      <th>y</th>\n",
       "      <th>week</th>\n",
       "      <th>soldout</th>\n",
       "      <th>name</th>\n",
       "      <th>kcal</th>\n",
       "      <th>remarks</th>\n",
       "      <th>event</th>\n",
       "      <th>payday</th>\n",
       "      <th>weather</th>\n",
       "      <th>precipitation</th>\n",
       "      <th>temperature</th>\n",
       "    </tr>\n",
       "  </thead>\n",
       "  <tbody>\n",
       "    <tr>\n",
       "      <th>0</th>\n",
       "      <td>2013-11-18</td>\n",
       "      <td>90</td>\n",
       "      <td>月</td>\n",
       "      <td>0</td>\n",
       "      <td>厚切りイカフライ</td>\n",
       "      <td>NaN</td>\n",
       "      <td>NaN</td>\n",
       "      <td>NaN</td>\n",
       "      <td>NaN</td>\n",
       "      <td>快晴</td>\n",
       "      <td>--</td>\n",
       "      <td>19.8</td>\n",
       "    </tr>\n",
       "    <tr>\n",
       "      <th>1</th>\n",
       "      <td>2013-11-19</td>\n",
       "      <td>101</td>\n",
       "      <td>火</td>\n",
       "      <td>1</td>\n",
       "      <td>手作りヒレカツ</td>\n",
       "      <td>NaN</td>\n",
       "      <td>NaN</td>\n",
       "      <td>NaN</td>\n",
       "      <td>NaN</td>\n",
       "      <td>快晴</td>\n",
       "      <td>--</td>\n",
       "      <td>17.0</td>\n",
       "    </tr>\n",
       "    <tr>\n",
       "      <th>2</th>\n",
       "      <td>2013-11-20</td>\n",
       "      <td>118</td>\n",
       "      <td>水</td>\n",
       "      <td>0</td>\n",
       "      <td>白身魚唐揚げ野菜あん</td>\n",
       "      <td>NaN</td>\n",
       "      <td>NaN</td>\n",
       "      <td>NaN</td>\n",
       "      <td>NaN</td>\n",
       "      <td>快晴</td>\n",
       "      <td>--</td>\n",
       "      <td>15.5</td>\n",
       "    </tr>\n",
       "    <tr>\n",
       "      <th>3</th>\n",
       "      <td>2013-11-21</td>\n",
       "      <td>120</td>\n",
       "      <td>木</td>\n",
       "      <td>1</td>\n",
       "      <td>若鶏ピリ辛焼</td>\n",
       "      <td>NaN</td>\n",
       "      <td>NaN</td>\n",
       "      <td>NaN</td>\n",
       "      <td>NaN</td>\n",
       "      <td>快晴</td>\n",
       "      <td>--</td>\n",
       "      <td>15.2</td>\n",
       "    </tr>\n",
       "    <tr>\n",
       "      <th>4</th>\n",
       "      <td>2013-11-22</td>\n",
       "      <td>130</td>\n",
       "      <td>金</td>\n",
       "      <td>1</td>\n",
       "      <td>ビッグメンチカツ</td>\n",
       "      <td>NaN</td>\n",
       "      <td>NaN</td>\n",
       "      <td>NaN</td>\n",
       "      <td>NaN</td>\n",
       "      <td>快晴</td>\n",
       "      <td>--</td>\n",
       "      <td>16.1</td>\n",
       "    </tr>\n",
       "  </tbody>\n",
       "</table>\n",
       "</div>"
      ],
      "text/plain": [
       "     datetime    y week  soldout        name  kcal remarks event  payday  \\\n",
       "0  2013-11-18   90    月        0    厚切りイカフライ   NaN     NaN   NaN     NaN   \n",
       "1  2013-11-19  101    火        1     手作りヒレカツ   NaN     NaN   NaN     NaN   \n",
       "2  2013-11-20  118    水        0  白身魚唐揚げ野菜あん   NaN     NaN   NaN     NaN   \n",
       "3  2013-11-21  120    木        1      若鶏ピリ辛焼   NaN     NaN   NaN     NaN   \n",
       "4  2013-11-22  130    金        1    ビッグメンチカツ   NaN     NaN   NaN     NaN   \n",
       "\n",
       "  weather precipitation  temperature  \n",
       "0      快晴            --         19.8  \n",
       "1      快晴            --         17.0  \n",
       "2      快晴            --         15.5  \n",
       "3      快晴            --         15.2  \n",
       "4      快晴            --         16.1  "
      ]
     },
     "execution_count": 3,
     "metadata": {},
     "output_type": "execute_result"
    }
   ],
   "source": [
    "train.head()"
   ]
  },
  {
   "cell_type": "markdown",
   "metadata": {},
   "source": [
    "## trainから説明変数と目的変数となるデータを取り出しましょう\n",
    "- 説明変数はtrainからtemperatureを選択し、変数名をtrainXとして代入しましょう\n",
    "- 目的変数はtrainからyを選択し、変数名をyとして代入しましょう"
   ]
  },
  {
   "cell_type": "code",
   "execution_count": 4,
   "metadata": {},
   "outputs": [],
   "source": [
    "trainX = train[\"temperature\"]\n",
    "y = train[\"y\"]"
   ]
  },
  {
   "cell_type": "markdown",
   "metadata": {},
   "source": [
    "## testから説明変数となるデータを取り出しましょう\n",
    "- 説明変数はtrainと同じtemperatureを選択し、変数名をtestXとして代入しましょう"
   ]
  },
  {
   "cell_type": "code",
   "execution_count": 5,
   "metadata": {},
   "outputs": [],
   "source": [
    "testX = test[\"temperature\"]"
   ]
  },
  {
   "cell_type": "markdown",
   "metadata": {},
   "source": [
    "## 単回帰の場合のみ、説明変数に対しておまじないが必要となります\n",
    "- 単回帰の場合はややこしいですが、train,testの説明変数ともに、データの形を整える必要があります\n",
    "- 具体的にはvalues.reshape(-1,1)というおまじないをします\n",
    "- 整えた後、再び変数Xに代入します"
   ]
  },
  {
   "cell_type": "code",
   "execution_count": 7,
   "metadata": {},
   "outputs": [],
   "source": [
    "trainX = trainX.values.reshape(-1,1)\n",
    "testX = testX.values.reshape(-1,1)"
   ]
  },
  {
   "cell_type": "markdown",
   "metadata": {},
   "source": [
    "## 回帰のモデルの箱を用意しましょう\n",
    "- モデルを作る為にはまず、モデルを表す箱が必ず必要になります\n",
    "- 変数名をmodel1として、LR()を代入しましょう"
   ]
  },
  {
   "cell_type": "code",
   "execution_count": 8,
   "metadata": {},
   "outputs": [],
   "source": [
    "model1 = LR()"
   ]
  },
  {
   "cell_type": "markdown",
   "metadata": {},
   "source": [
    "## 単回帰モデルを作りましょう\n",
    "- fit関数を使います\n",
    "- カッコの中に、説明変数、目的変数の順番に書きます"
   ]
  },
  {
   "cell_type": "code",
   "execution_count": 9,
   "metadata": {},
   "outputs": [
    {
     "data": {
      "text/plain": [
       "LinearRegression()"
      ]
     },
     "execution_count": 9,
     "metadata": {},
     "output_type": "execute_result"
    }
   ],
   "source": [
    "model1.fit(trainX,y)"
   ]
  },
  {
   "cell_type": "markdown",
   "metadata": {},
   "source": [
    "## 作ったモデルの傾きや切片を確かめてみましょう\n",
    "- 傾きはcoef_を使います\n",
    "- 切片はintercept_を使います"
   ]
  },
  {
   "cell_type": "code",
   "execution_count": 10,
   "metadata": {},
   "outputs": [
    {
     "data": {
      "text/plain": [
       "array([-2.5023821])"
      ]
     },
     "execution_count": 10,
     "metadata": {},
     "output_type": "execute_result"
    }
   ],
   "source": [
    "model1.coef_"
   ]
  },
  {
   "cell_type": "code",
   "execution_count": 12,
   "metadata": {},
   "outputs": [
    {
     "data": {
      "text/plain": [
       "134.79948383749928"
      ]
     },
     "execution_count": 12,
     "metadata": {},
     "output_type": "execute_result"
    }
   ],
   "source": [
    "model1.intercept_"
   ]
  },
  {
   "cell_type": "markdown",
   "metadata": {},
   "source": [
    "## 予測をしましょう\n",
    "- predict関数を使います\n",
    "- 予測結果は変数predに代入しましょう"
   ]
  },
  {
   "cell_type": "code",
   "execution_count": 13,
   "metadata": {},
   "outputs": [],
   "source": [
    "pred = model1.predict(testX)"
   ]
  },
  {
   "cell_type": "code",
   "execution_count": 14,
   "metadata": {},
   "outputs": [
    {
     "data": {
      "text/plain": [
       "array([ 84.25136537,  74.99255159,  62.9811175 ,  80.99826864,\n",
       "        79.49683938,  76.49398085,  78.49588653,  69.48731097,\n",
       "        67.73564349,  95.76232304,  88.25517673,  77.24469548,\n",
       "        74.99255159,  84.25136537,  96.01256125,  98.01446693,\n",
       "        88.00493852,  77.99541011,  87.00398568,  85.75279463,\n",
       "        85.75279463,  87.75470031,  87.5044621 ,  94.7613702 ,\n",
       "        86.75374747,  84.50160358,  81.74898327,  98.01446693,\n",
       "        98.76518156,  86.00303284,  95.26184662,  99.01541977,\n",
       "        94.51113199,  97.51399051, 108.52447176,  97.51399051,\n",
       "       106.27232787, 111.7775685 ,  97.01351409,  96.51303767])"
      ]
     },
     "execution_count": 14,
     "metadata": {},
     "output_type": "execute_result"
    }
   ],
   "source": [
    "pred"
   ]
  },
  {
   "cell_type": "markdown",
   "metadata": {},
   "source": [
    "## sampleの中身を確認してみましょう"
   ]
  },
  {
   "cell_type": "code",
   "execution_count": 16,
   "metadata": {},
   "outputs": [
    {
     "data": {
      "text/html": [
       "<div>\n",
       "<style scoped>\n",
       "    .dataframe tbody tr th:only-of-type {\n",
       "        vertical-align: middle;\n",
       "    }\n",
       "\n",
       "    .dataframe tbody tr th {\n",
       "        vertical-align: top;\n",
       "    }\n",
       "\n",
       "    .dataframe thead th {\n",
       "        text-align: right;\n",
       "    }\n",
       "</style>\n",
       "<table border=\"1\" class=\"dataframe\">\n",
       "  <thead>\n",
       "    <tr style=\"text-align: right;\">\n",
       "      <th></th>\n",
       "      <th>0</th>\n",
       "      <th>1</th>\n",
       "    </tr>\n",
       "  </thead>\n",
       "  <tbody>\n",
       "    <tr>\n",
       "      <th>0</th>\n",
       "      <td>2014-10-1</td>\n",
       "      <td>24</td>\n",
       "    </tr>\n",
       "    <tr>\n",
       "      <th>1</th>\n",
       "      <td>2014-10-2</td>\n",
       "      <td>71</td>\n",
       "    </tr>\n",
       "    <tr>\n",
       "      <th>2</th>\n",
       "      <td>2014-10-3</td>\n",
       "      <td>25</td>\n",
       "    </tr>\n",
       "    <tr>\n",
       "      <th>3</th>\n",
       "      <td>2014-10-6</td>\n",
       "      <td>32</td>\n",
       "    </tr>\n",
       "    <tr>\n",
       "      <th>4</th>\n",
       "      <td>2014-10-7</td>\n",
       "      <td>60</td>\n",
       "    </tr>\n",
       "  </tbody>\n",
       "</table>\n",
       "</div>"
      ],
      "text/plain": [
       "           0   1\n",
       "0  2014-10-1  24\n",
       "1  2014-10-2  71\n",
       "2  2014-10-3  25\n",
       "3  2014-10-6  32\n",
       "4  2014-10-7  60"
      ]
     },
     "execution_count": 16,
     "metadata": {},
     "output_type": "execute_result"
    }
   ],
   "source": [
    "sample.head()"
   ]
  },
  {
   "cell_type": "markdown",
   "metadata": {},
   "source": [
    "## sample[1]に予測結果を代入しましょう"
   ]
  },
  {
   "cell_type": "code",
   "execution_count": 17,
   "metadata": {},
   "outputs": [],
   "source": [
    "sample[1] = pred"
   ]
  },
  {
   "cell_type": "code",
   "execution_count": 18,
   "metadata": {},
   "outputs": [
    {
     "data": {
      "text/html": [
       "<div>\n",
       "<style scoped>\n",
       "    .dataframe tbody tr th:only-of-type {\n",
       "        vertical-align: middle;\n",
       "    }\n",
       "\n",
       "    .dataframe tbody tr th {\n",
       "        vertical-align: top;\n",
       "    }\n",
       "\n",
       "    .dataframe thead th {\n",
       "        text-align: right;\n",
       "    }\n",
       "</style>\n",
       "<table border=\"1\" class=\"dataframe\">\n",
       "  <thead>\n",
       "    <tr style=\"text-align: right;\">\n",
       "      <th></th>\n",
       "      <th>0</th>\n",
       "      <th>1</th>\n",
       "    </tr>\n",
       "  </thead>\n",
       "  <tbody>\n",
       "    <tr>\n",
       "      <th>0</th>\n",
       "      <td>2014-10-1</td>\n",
       "      <td>84.251365</td>\n",
       "    </tr>\n",
       "    <tr>\n",
       "      <th>1</th>\n",
       "      <td>2014-10-2</td>\n",
       "      <td>74.992552</td>\n",
       "    </tr>\n",
       "    <tr>\n",
       "      <th>2</th>\n",
       "      <td>2014-10-3</td>\n",
       "      <td>62.981117</td>\n",
       "    </tr>\n",
       "    <tr>\n",
       "      <th>3</th>\n",
       "      <td>2014-10-6</td>\n",
       "      <td>80.998269</td>\n",
       "    </tr>\n",
       "    <tr>\n",
       "      <th>4</th>\n",
       "      <td>2014-10-7</td>\n",
       "      <td>79.496839</td>\n",
       "    </tr>\n",
       "  </tbody>\n",
       "</table>\n",
       "</div>"
      ],
      "text/plain": [
       "           0          1\n",
       "0  2014-10-1  84.251365\n",
       "1  2014-10-2  74.992552\n",
       "2  2014-10-3  62.981117\n",
       "3  2014-10-6  80.998269\n",
       "4  2014-10-7  79.496839"
      ]
     },
     "execution_count": 18,
     "metadata": {},
     "output_type": "execute_result"
    }
   ],
   "source": [
    "sample.head()"
   ]
  },
  {
   "cell_type": "markdown",
   "metadata": {},
   "source": [
    "## sampleをファイルで書きだしましょう\n",
    "- to_csv関数を使います\n",
    "- オプションは３つあり、\"submit1.csv\", index=None, header=Noneを書きます"
   ]
  },
  {
   "cell_type": "code",
   "execution_count": 19,
   "metadata": {},
   "outputs": [],
   "source": [
    "sample.to_csv(\"submit1.csv\",index=None,header=None)"
   ]
  },
  {
   "cell_type": "markdown",
   "metadata": {},
   "source": [
    "# 実習\n",
    "1.説明変数をkcalとして、単回帰モデルを作ろう。まず、 trainとtestのkcalに欠損値があるかないか確認しよう\n",
    "- 本当に欠損があるかどうか、head関数を使って確認しよう"
   ]
  },
  {
   "cell_type": "code",
   "execution_count": 23,
   "metadata": {},
   "outputs": [
    {
     "data": {
      "text/plain": [
       "41"
      ]
     },
     "execution_count": 23,
     "metadata": {},
     "output_type": "execute_result"
    }
   ],
   "source": [
    "train[\"kcal\"].isnull().sum()"
   ]
  },
  {
   "cell_type": "code",
   "execution_count": 25,
   "metadata": {},
   "outputs": [
    {
     "data": {
      "text/plain": [
       "4"
      ]
     },
     "execution_count": 25,
     "metadata": {},
     "output_type": "execute_result"
    }
   ],
   "source": [
    "test[\"kcal\"].isnull().sum()"
   ]
  },
  {
   "cell_type": "markdown",
   "metadata": {},
   "source": [
    "2.trainのkcalの平均値を求め、変数avgに代入しよう"
   ]
  },
  {
   "cell_type": "code",
   "execution_count": 27,
   "metadata": {},
   "outputs": [
    {
     "data": {
      "text/plain": [
       "404.4096385542169"
      ]
     },
     "execution_count": 27,
     "metadata": {},
     "output_type": "execute_result"
    }
   ],
   "source": [
    "avg = train[\"kcal\"].mean()\n",
    "avg"
   ]
  },
  {
   "cell_type": "markdown",
   "metadata": {},
   "source": [
    "3.変数avgを使って、trainとtestのkcalの欠損値を補間し、それぞれを変数名trainXとtestXに代入してみよう"
   ]
  },
  {
   "cell_type": "raw",
   "metadata": {},
   "source": []
  },
  {
   "cell_type": "code",
   "execution_count": 45,
   "metadata": {},
   "outputs": [
    {
     "data": {
      "text/html": [
       "<div>\n",
       "<style scoped>\n",
       "    .dataframe tbody tr th:only-of-type {\n",
       "        vertical-align: middle;\n",
       "    }\n",
       "\n",
       "    .dataframe tbody tr th {\n",
       "        vertical-align: top;\n",
       "    }\n",
       "\n",
       "    .dataframe thead th {\n",
       "        text-align: right;\n",
       "    }\n",
       "</style>\n",
       "<table border=\"1\" class=\"dataframe\">\n",
       "  <thead>\n",
       "    <tr style=\"text-align: right;\">\n",
       "      <th></th>\n",
       "      <th>datetime</th>\n",
       "      <th>week</th>\n",
       "      <th>soldout</th>\n",
       "      <th>name</th>\n",
       "      <th>kcal</th>\n",
       "      <th>remarks</th>\n",
       "      <th>event</th>\n",
       "      <th>payday</th>\n",
       "      <th>weather</th>\n",
       "      <th>precipitation</th>\n",
       "      <th>temperature</th>\n",
       "    </tr>\n",
       "  </thead>\n",
       "  <tbody>\n",
       "    <tr>\n",
       "      <th>0</th>\n",
       "      <td>2014-10-1</td>\n",
       "      <td>水</td>\n",
       "      <td>1</td>\n",
       "      <td>メンチカツ</td>\n",
       "      <td>420.000000</td>\n",
       "      <td>404.41</td>\n",
       "      <td>404.41</td>\n",
       "      <td>404.409639</td>\n",
       "      <td>雨</td>\n",
       "      <td>0</td>\n",
       "      <td>20.2</td>\n",
       "    </tr>\n",
       "    <tr>\n",
       "      <th>1</th>\n",
       "      <td>2014-10-2</td>\n",
       "      <td>木</td>\n",
       "      <td>0</td>\n",
       "      <td>バーベキューチキン</td>\n",
       "      <td>415.000000</td>\n",
       "      <td>404.41</td>\n",
       "      <td>404.41</td>\n",
       "      <td>404.409639</td>\n",
       "      <td>曇</td>\n",
       "      <td>--</td>\n",
       "      <td>23.9</td>\n",
       "    </tr>\n",
       "    <tr>\n",
       "      <th>2</th>\n",
       "      <td>2014-10-3</td>\n",
       "      <td>金</td>\n",
       "      <td>0</td>\n",
       "      <td>豚肉のマスタード焼き</td>\n",
       "      <td>405.000000</td>\n",
       "      <td>404.41</td>\n",
       "      <td>404.41</td>\n",
       "      <td>404.409639</td>\n",
       "      <td>晴れ</td>\n",
       "      <td>--</td>\n",
       "      <td>28.7</td>\n",
       "    </tr>\n",
       "    <tr>\n",
       "      <th>3</th>\n",
       "      <td>2014-10-6</td>\n",
       "      <td>月</td>\n",
       "      <td>1</td>\n",
       "      <td>麻婆春雨</td>\n",
       "      <td>400.000000</td>\n",
       "      <td>404.41</td>\n",
       "      <td>404.41</td>\n",
       "      <td>404.409639</td>\n",
       "      <td>雨</td>\n",
       "      <td>0.5</td>\n",
       "      <td>21.5</td>\n",
       "    </tr>\n",
       "    <tr>\n",
       "      <th>4</th>\n",
       "      <td>2014-10-7</td>\n",
       "      <td>火</td>\n",
       "      <td>0</td>\n",
       "      <td>厚揚げ肉みそ炒め</td>\n",
       "      <td>430.000000</td>\n",
       "      <td>404.41</td>\n",
       "      <td>404.41</td>\n",
       "      <td>404.409639</td>\n",
       "      <td>晴れ</td>\n",
       "      <td>--</td>\n",
       "      <td>22.1</td>\n",
       "    </tr>\n",
       "    <tr>\n",
       "      <th>5</th>\n",
       "      <td>2014-10-8</td>\n",
       "      <td>水</td>\n",
       "      <td>0</td>\n",
       "      <td>完熟トマトのホットカレー</td>\n",
       "      <td>420.000000</td>\n",
       "      <td>404.41</td>\n",
       "      <td>404.41</td>\n",
       "      <td>404.409639</td>\n",
       "      <td>晴れ</td>\n",
       "      <td>--</td>\n",
       "      <td>23.3</td>\n",
       "    </tr>\n",
       "    <tr>\n",
       "      <th>6</th>\n",
       "      <td>2014-10-9</td>\n",
       "      <td>木</td>\n",
       "      <td>0</td>\n",
       "      <td>豚キムチ炒め</td>\n",
       "      <td>435.000000</td>\n",
       "      <td>404.41</td>\n",
       "      <td>キャリアアップ支援セミナー</td>\n",
       "      <td>404.409639</td>\n",
       "      <td>曇</td>\n",
       "      <td>--</td>\n",
       "      <td>22.5</td>\n",
       "    </tr>\n",
       "    <tr>\n",
       "      <th>7</th>\n",
       "      <td>2014-10-10</td>\n",
       "      <td>金</td>\n",
       "      <td>0</td>\n",
       "      <td>ポークカレー</td>\n",
       "      <td>404.409639</td>\n",
       "      <td>お楽しみメニュー</td>\n",
       "      <td>404.41</td>\n",
       "      <td>1.000000</td>\n",
       "      <td>薄曇</td>\n",
       "      <td>--</td>\n",
       "      <td>26.1</td>\n",
       "    </tr>\n",
       "    <tr>\n",
       "      <th>8</th>\n",
       "      <td>2014-10-14</td>\n",
       "      <td>火</td>\n",
       "      <td>0</td>\n",
       "      <td>若鶏梅肉包揚げ</td>\n",
       "      <td>408.000000</td>\n",
       "      <td>404.41</td>\n",
       "      <td>404.41</td>\n",
       "      <td>404.409639</td>\n",
       "      <td>快晴</td>\n",
       "      <td>--</td>\n",
       "      <td>26.8</td>\n",
       "    </tr>\n",
       "    <tr>\n",
       "      <th>9</th>\n",
       "      <td>2014-10-15</td>\n",
       "      <td>水</td>\n",
       "      <td>1</td>\n",
       "      <td>ミックスグリル</td>\n",
       "      <td>450.000000</td>\n",
       "      <td>料理長のこだわりメニュー</td>\n",
       "      <td>404.41</td>\n",
       "      <td>404.409639</td>\n",
       "      <td>雨</td>\n",
       "      <td>1.5</td>\n",
       "      <td>15.6</td>\n",
       "    </tr>\n",
       "    <tr>\n",
       "      <th>10</th>\n",
       "      <td>2014-10-16</td>\n",
       "      <td>木</td>\n",
       "      <td>0</td>\n",
       "      <td>豚肉と白菜の中華炒め</td>\n",
       "      <td>400.000000</td>\n",
       "      <td>404.41</td>\n",
       "      <td>404.41</td>\n",
       "      <td>404.409639</td>\n",
       "      <td>晴れ</td>\n",
       "      <td>--</td>\n",
       "      <td>18.6</td>\n",
       "    </tr>\n",
       "    <tr>\n",
       "      <th>11</th>\n",
       "      <td>2014-10-17</td>\n",
       "      <td>金</td>\n",
       "      <td>0</td>\n",
       "      <td>ヒレカツ</td>\n",
       "      <td>415.000000</td>\n",
       "      <td>404.41</td>\n",
       "      <td>ママの会</td>\n",
       "      <td>404.409639</td>\n",
       "      <td>快晴</td>\n",
       "      <td>--</td>\n",
       "      <td>23.0</td>\n",
       "    </tr>\n",
       "    <tr>\n",
       "      <th>12</th>\n",
       "      <td>2014-10-20</td>\n",
       "      <td>月</td>\n",
       "      <td>1</td>\n",
       "      <td>豚柳川</td>\n",
       "      <td>426.000000</td>\n",
       "      <td>404.41</td>\n",
       "      <td>404.41</td>\n",
       "      <td>404.409639</td>\n",
       "      <td>薄曇</td>\n",
       "      <td>--</td>\n",
       "      <td>23.9</td>\n",
       "    </tr>\n",
       "    <tr>\n",
       "      <th>13</th>\n",
       "      <td>2014-10-21</td>\n",
       "      <td>火</td>\n",
       "      <td>0</td>\n",
       "      <td>ポーク生姜焼き</td>\n",
       "      <td>410.000000</td>\n",
       "      <td>404.41</td>\n",
       "      <td>404.41</td>\n",
       "      <td>404.409639</td>\n",
       "      <td>雨</td>\n",
       "      <td>0</td>\n",
       "      <td>20.2</td>\n",
       "    </tr>\n",
       "    <tr>\n",
       "      <th>14</th>\n",
       "      <td>2014-10-22</td>\n",
       "      <td>水</td>\n",
       "      <td>1</td>\n",
       "      <td>麻婆豆腐</td>\n",
       "      <td>415.000000</td>\n",
       "      <td>404.41</td>\n",
       "      <td>404.41</td>\n",
       "      <td>404.409639</td>\n",
       "      <td>雨</td>\n",
       "      <td>0</td>\n",
       "      <td>15.5</td>\n",
       "    </tr>\n",
       "    <tr>\n",
       "      <th>15</th>\n",
       "      <td>2014-10-23</td>\n",
       "      <td>木</td>\n",
       "      <td>1</td>\n",
       "      <td>ビーフストロガノフ</td>\n",
       "      <td>428.000000</td>\n",
       "      <td>404.41</td>\n",
       "      <td>404.41</td>\n",
       "      <td>404.409639</td>\n",
       "      <td>雨</td>\n",
       "      <td>0.5</td>\n",
       "      <td>14.7</td>\n",
       "    </tr>\n",
       "    <tr>\n",
       "      <th>16</th>\n",
       "      <td>2014-10-24</td>\n",
       "      <td>金</td>\n",
       "      <td>0</td>\n",
       "      <td>唐揚げ丼</td>\n",
       "      <td>404.409639</td>\n",
       "      <td>お楽しみメニュー</td>\n",
       "      <td>404.41</td>\n",
       "      <td>404.409639</td>\n",
       "      <td>快晴</td>\n",
       "      <td>--</td>\n",
       "      <td>18.7</td>\n",
       "    </tr>\n",
       "    <tr>\n",
       "      <th>17</th>\n",
       "      <td>2014-10-27</td>\n",
       "      <td>月</td>\n",
       "      <td>1</td>\n",
       "      <td>マス塩焼き</td>\n",
       "      <td>407.000000</td>\n",
       "      <td>404.41</td>\n",
       "      <td>404.41</td>\n",
       "      <td>404.409639</td>\n",
       "      <td>薄曇</td>\n",
       "      <td>--</td>\n",
       "      <td>22.7</td>\n",
       "    </tr>\n",
       "    <tr>\n",
       "      <th>18</th>\n",
       "      <td>2014-10-28</td>\n",
       "      <td>火</td>\n",
       "      <td>1</td>\n",
       "      <td>チンジャオロース</td>\n",
       "      <td>425.000000</td>\n",
       "      <td>404.41</td>\n",
       "      <td>404.41</td>\n",
       "      <td>404.409639</td>\n",
       "      <td>快晴</td>\n",
       "      <td>--</td>\n",
       "      <td>19.1</td>\n",
       "    </tr>\n",
       "    <tr>\n",
       "      <th>19</th>\n",
       "      <td>2014-10-29</td>\n",
       "      <td>水</td>\n",
       "      <td>0</td>\n",
       "      <td>厚切イカフライ</td>\n",
       "      <td>430.000000</td>\n",
       "      <td>404.41</td>\n",
       "      <td>404.41</td>\n",
       "      <td>404.409639</td>\n",
       "      <td>快晴</td>\n",
       "      <td>--</td>\n",
       "      <td>19.6</td>\n",
       "    </tr>\n",
       "    <tr>\n",
       "      <th>20</th>\n",
       "      <td>2014-10-30</td>\n",
       "      <td>木</td>\n",
       "      <td>0</td>\n",
       "      <td>鶏肉と野菜の黒胡椒炒め</td>\n",
       "      <td>426.000000</td>\n",
       "      <td>404.41</td>\n",
       "      <td>404.41</td>\n",
       "      <td>404.409639</td>\n",
       "      <td>晴れ</td>\n",
       "      <td>--</td>\n",
       "      <td>19.6</td>\n",
       "    </tr>\n",
       "    <tr>\n",
       "      <th>21</th>\n",
       "      <td>2014-10-31</td>\n",
       "      <td>金</td>\n",
       "      <td>0</td>\n",
       "      <td>八宝菜</td>\n",
       "      <td>436.000000</td>\n",
       "      <td>404.41</td>\n",
       "      <td>404.41</td>\n",
       "      <td>404.409639</td>\n",
       "      <td>曇</td>\n",
       "      <td>--</td>\n",
       "      <td>18.8</td>\n",
       "    </tr>\n",
       "    <tr>\n",
       "      <th>22</th>\n",
       "      <td>2014-11-4</td>\n",
       "      <td>火</td>\n",
       "      <td>0</td>\n",
       "      <td>豚肉の生姜焼き</td>\n",
       "      <td>440.000000</td>\n",
       "      <td>404.41</td>\n",
       "      <td>404.41</td>\n",
       "      <td>404.409639</td>\n",
       "      <td>晴れ</td>\n",
       "      <td>--</td>\n",
       "      <td>18.9</td>\n",
       "    </tr>\n",
       "    <tr>\n",
       "      <th>23</th>\n",
       "      <td>2014-11-5</td>\n",
       "      <td>水</td>\n",
       "      <td>1</td>\n",
       "      <td>ハンバーグ</td>\n",
       "      <td>425.000000</td>\n",
       "      <td>404.41</td>\n",
       "      <td>404.41</td>\n",
       "      <td>404.409639</td>\n",
       "      <td>曇</td>\n",
       "      <td>--</td>\n",
       "      <td>16.0</td>\n",
       "    </tr>\n",
       "    <tr>\n",
       "      <th>24</th>\n",
       "      <td>2014-11-6</td>\n",
       "      <td>木</td>\n",
       "      <td>1</td>\n",
       "      <td>彩り野菜と鶏肉の黒酢あん</td>\n",
       "      <td>410.000000</td>\n",
       "      <td>404.41</td>\n",
       "      <td>404.41</td>\n",
       "      <td>404.409639</td>\n",
       "      <td>曇</td>\n",
       "      <td>--</td>\n",
       "      <td>19.2</td>\n",
       "    </tr>\n",
       "    <tr>\n",
       "      <th>25</th>\n",
       "      <td>2014-11-7</td>\n",
       "      <td>金</td>\n",
       "      <td>0</td>\n",
       "      <td>ポークカレー</td>\n",
       "      <td>404.409639</td>\n",
       "      <td>お楽しみメニュー</td>\n",
       "      <td>404.41</td>\n",
       "      <td>404.409639</td>\n",
       "      <td>晴れ</td>\n",
       "      <td>--</td>\n",
       "      <td>20.1</td>\n",
       "    </tr>\n",
       "    <tr>\n",
       "      <th>26</th>\n",
       "      <td>2014-11-10</td>\n",
       "      <td>月</td>\n",
       "      <td>0</td>\n",
       "      <td>親子煮</td>\n",
       "      <td>412.000000</td>\n",
       "      <td>404.41</td>\n",
       "      <td>404.41</td>\n",
       "      <td>1.000000</td>\n",
       "      <td>快晴</td>\n",
       "      <td>--</td>\n",
       "      <td>21.2</td>\n",
       "    </tr>\n",
       "    <tr>\n",
       "      <th>27</th>\n",
       "      <td>2014-11-11</td>\n",
       "      <td>火</td>\n",
       "      <td>0</td>\n",
       "      <td>ポークのバーベキューソテー</td>\n",
       "      <td>426.000000</td>\n",
       "      <td>404.41</td>\n",
       "      <td>404.41</td>\n",
       "      <td>404.409639</td>\n",
       "      <td>曇</td>\n",
       "      <td>0</td>\n",
       "      <td>14.7</td>\n",
       "    </tr>\n",
       "    <tr>\n",
       "      <th>28</th>\n",
       "      <td>2014-11-12</td>\n",
       "      <td>水</td>\n",
       "      <td>0</td>\n",
       "      <td>鶏肉の唐揚げ</td>\n",
       "      <td>418.000000</td>\n",
       "      <td>404.41</td>\n",
       "      <td>404.41</td>\n",
       "      <td>404.409639</td>\n",
       "      <td>曇</td>\n",
       "      <td>--</td>\n",
       "      <td>14.4</td>\n",
       "    </tr>\n",
       "    <tr>\n",
       "      <th>29</th>\n",
       "      <td>2014-11-13</td>\n",
       "      <td>木</td>\n",
       "      <td>1</td>\n",
       "      <td>白身魚味噌焼き</td>\n",
       "      <td>396.000000</td>\n",
       "      <td>近隣に飲食店複合ビルオープン</td>\n",
       "      <td>キャリアアップ支援セミナー</td>\n",
       "      <td>404.409639</td>\n",
       "      <td>快晴</td>\n",
       "      <td>--</td>\n",
       "      <td>19.5</td>\n",
       "    </tr>\n",
       "    <tr>\n",
       "      <th>30</th>\n",
       "      <td>2014-11-14</td>\n",
       "      <td>金</td>\n",
       "      <td>1</td>\n",
       "      <td>エビフライ・エビカツ</td>\n",
       "      <td>427.000000</td>\n",
       "      <td>404.41</td>\n",
       "      <td>404.41</td>\n",
       "      <td>404.409639</td>\n",
       "      <td>快晴</td>\n",
       "      <td>--</td>\n",
       "      <td>15.8</td>\n",
       "    </tr>\n",
       "    <tr>\n",
       "      <th>31</th>\n",
       "      <td>2014-11-17</td>\n",
       "      <td>月</td>\n",
       "      <td>1</td>\n",
       "      <td>野菜ごろごろシチュー</td>\n",
       "      <td>433.000000</td>\n",
       "      <td>404.41</td>\n",
       "      <td>404.41</td>\n",
       "      <td>404.409639</td>\n",
       "      <td>薄曇</td>\n",
       "      <td>--</td>\n",
       "      <td>14.3</td>\n",
       "    </tr>\n",
       "    <tr>\n",
       "      <th>32</th>\n",
       "      <td>2014-11-18</td>\n",
       "      <td>火</td>\n",
       "      <td>1</td>\n",
       "      <td>麻婆豆腐</td>\n",
       "      <td>409.000000</td>\n",
       "      <td>404.41</td>\n",
       "      <td>404.41</td>\n",
       "      <td>404.409639</td>\n",
       "      <td>快晴</td>\n",
       "      <td>--</td>\n",
       "      <td>16.1</td>\n",
       "    </tr>\n",
       "    <tr>\n",
       "      <th>33</th>\n",
       "      <td>2014-11-19</td>\n",
       "      <td>水</td>\n",
       "      <td>0</td>\n",
       "      <td>ベルギー風チキンのクリーム煮</td>\n",
       "      <td>430.000000</td>\n",
       "      <td>料理長のこだわりメニュー</td>\n",
       "      <td>404.41</td>\n",
       "      <td>404.409639</td>\n",
       "      <td>快晴</td>\n",
       "      <td>--</td>\n",
       "      <td>14.9</td>\n",
       "    </tr>\n",
       "    <tr>\n",
       "      <th>34</th>\n",
       "      <td>2014-11-20</td>\n",
       "      <td>木</td>\n",
       "      <td>1</td>\n",
       "      <td>スタミナ炒め</td>\n",
       "      <td>421.000000</td>\n",
       "      <td>404.41</td>\n",
       "      <td>404.41</td>\n",
       "      <td>404.409639</td>\n",
       "      <td>曇</td>\n",
       "      <td>--</td>\n",
       "      <td>10.5</td>\n",
       "    </tr>\n",
       "    <tr>\n",
       "      <th>35</th>\n",
       "      <td>2014-11-21</td>\n",
       "      <td>金</td>\n",
       "      <td>0</td>\n",
       "      <td>ロコモコ丼</td>\n",
       "      <td>404.409639</td>\n",
       "      <td>お楽しみメニュー</td>\n",
       "      <td>404.41</td>\n",
       "      <td>404.409639</td>\n",
       "      <td>快晴</td>\n",
       "      <td>--</td>\n",
       "      <td>14.9</td>\n",
       "    </tr>\n",
       "    <tr>\n",
       "      <th>36</th>\n",
       "      <td>2014-11-25</td>\n",
       "      <td>火</td>\n",
       "      <td>1</td>\n",
       "      <td>なすと挽肉のはさみ揚げ</td>\n",
       "      <td>460.000000</td>\n",
       "      <td>404.41</td>\n",
       "      <td>404.41</td>\n",
       "      <td>404.409639</td>\n",
       "      <td>雨</td>\n",
       "      <td>1.5</td>\n",
       "      <td>11.4</td>\n",
       "    </tr>\n",
       "    <tr>\n",
       "      <th>37</th>\n",
       "      <td>2014-11-26</td>\n",
       "      <td>水</td>\n",
       "      <td>1</td>\n",
       "      <td>鶏肉の治部煮風</td>\n",
       "      <td>415.000000</td>\n",
       "      <td>404.41</td>\n",
       "      <td>404.41</td>\n",
       "      <td>404.409639</td>\n",
       "      <td>雨</td>\n",
       "      <td>1</td>\n",
       "      <td>9.2</td>\n",
       "    </tr>\n",
       "    <tr>\n",
       "      <th>38</th>\n",
       "      <td>2014-11-27</td>\n",
       "      <td>木</td>\n",
       "      <td>0</td>\n",
       "      <td>牛丼風</td>\n",
       "      <td>420.000000</td>\n",
       "      <td>404.41</td>\n",
       "      <td>404.41</td>\n",
       "      <td>404.409639</td>\n",
       "      <td>快晴</td>\n",
       "      <td>--</td>\n",
       "      <td>15.1</td>\n",
       "    </tr>\n",
       "    <tr>\n",
       "      <th>39</th>\n",
       "      <td>2014-11-28</td>\n",
       "      <td>金</td>\n",
       "      <td>0</td>\n",
       "      <td>鶏肉のスイートチリソース</td>\n",
       "      <td>416.000000</td>\n",
       "      <td>404.41</td>\n",
       "      <td>404.41</td>\n",
       "      <td>404.409639</td>\n",
       "      <td>曇</td>\n",
       "      <td>--</td>\n",
       "      <td>15.3</td>\n",
       "    </tr>\n",
       "  </tbody>\n",
       "</table>\n",
       "</div>"
      ],
      "text/plain": [
       "      datetime week  soldout            name        kcal         remarks  \\\n",
       "0    2014-10-1    水        1           メンチカツ  420.000000          404.41   \n",
       "1    2014-10-2    木        0       バーベキューチキン  415.000000          404.41   \n",
       "2    2014-10-3    金        0      豚肉のマスタード焼き  405.000000          404.41   \n",
       "3    2014-10-6    月        1            麻婆春雨  400.000000          404.41   \n",
       "4    2014-10-7    火        0        厚揚げ肉みそ炒め  430.000000          404.41   \n",
       "5    2014-10-8    水        0    完熟トマトのホットカレー  420.000000          404.41   \n",
       "6    2014-10-9    木        0          豚キムチ炒め  435.000000          404.41   \n",
       "7   2014-10-10    金        0          ポークカレー  404.409639        お楽しみメニュー   \n",
       "8   2014-10-14    火        0         若鶏梅肉包揚げ  408.000000          404.41   \n",
       "9   2014-10-15    水        1         ミックスグリル  450.000000    料理長のこだわりメニュー   \n",
       "10  2014-10-16    木        0      豚肉と白菜の中華炒め  400.000000          404.41   \n",
       "11  2014-10-17    金        0            ヒレカツ  415.000000          404.41   \n",
       "12  2014-10-20    月        1             豚柳川  426.000000          404.41   \n",
       "13  2014-10-21    火        0         ポーク生姜焼き  410.000000          404.41   \n",
       "14  2014-10-22    水        1            麻婆豆腐  415.000000          404.41   \n",
       "15  2014-10-23    木        1       ビーフストロガノフ  428.000000          404.41   \n",
       "16  2014-10-24    金        0            唐揚げ丼  404.409639        お楽しみメニュー   \n",
       "17  2014-10-27    月        1           マス塩焼き  407.000000          404.41   \n",
       "18  2014-10-28    火        1        チンジャオロース  425.000000          404.41   \n",
       "19  2014-10-29    水        0         厚切イカフライ  430.000000          404.41   \n",
       "20  2014-10-30    木        0     鶏肉と野菜の黒胡椒炒め  426.000000          404.41   \n",
       "21  2014-10-31    金        0             八宝菜  436.000000          404.41   \n",
       "22   2014-11-4    火        0         豚肉の生姜焼き  440.000000          404.41   \n",
       "23   2014-11-5    水        1           ハンバーグ  425.000000          404.41   \n",
       "24   2014-11-6    木        1    彩り野菜と鶏肉の黒酢あん  410.000000          404.41   \n",
       "25   2014-11-7    金        0          ポークカレー  404.409639        お楽しみメニュー   \n",
       "26  2014-11-10    月        0             親子煮  412.000000          404.41   \n",
       "27  2014-11-11    火        0   ポークのバーベキューソテー  426.000000          404.41   \n",
       "28  2014-11-12    水        0          鶏肉の唐揚げ  418.000000          404.41   \n",
       "29  2014-11-13    木        1         白身魚味噌焼き  396.000000  近隣に飲食店複合ビルオープン   \n",
       "30  2014-11-14    金        1      エビフライ・エビカツ  427.000000          404.41   \n",
       "31  2014-11-17    月        1      野菜ごろごろシチュー  433.000000          404.41   \n",
       "32  2014-11-18    火        1            麻婆豆腐  409.000000          404.41   \n",
       "33  2014-11-19    水        0  ベルギー風チキンのクリーム煮  430.000000    料理長のこだわりメニュー   \n",
       "34  2014-11-20    木        1          スタミナ炒め  421.000000          404.41   \n",
       "35  2014-11-21    金        0           ロコモコ丼  404.409639        お楽しみメニュー   \n",
       "36  2014-11-25    火        1     なすと挽肉のはさみ揚げ  460.000000          404.41   \n",
       "37  2014-11-26    水        1         鶏肉の治部煮風  415.000000          404.41   \n",
       "38  2014-11-27    木        0             牛丼風  420.000000          404.41   \n",
       "39  2014-11-28    金        0    鶏肉のスイートチリソース  416.000000          404.41   \n",
       "\n",
       "            event      payday weather precipitation  temperature  \n",
       "0          404.41  404.409639       雨             0         20.2  \n",
       "1          404.41  404.409639       曇            --         23.9  \n",
       "2          404.41  404.409639      晴れ            --         28.7  \n",
       "3          404.41  404.409639       雨           0.5         21.5  \n",
       "4          404.41  404.409639      晴れ            --         22.1  \n",
       "5          404.41  404.409639      晴れ            --         23.3  \n",
       "6   キャリアアップ支援セミナー  404.409639       曇            --         22.5  \n",
       "7          404.41    1.000000      薄曇            --         26.1  \n",
       "8          404.41  404.409639      快晴            --         26.8  \n",
       "9          404.41  404.409639       雨           1.5         15.6  \n",
       "10         404.41  404.409639      晴れ            --         18.6  \n",
       "11           ママの会  404.409639      快晴            --         23.0  \n",
       "12         404.41  404.409639      薄曇            --         23.9  \n",
       "13         404.41  404.409639       雨             0         20.2  \n",
       "14         404.41  404.409639       雨             0         15.5  \n",
       "15         404.41  404.409639       雨           0.5         14.7  \n",
       "16         404.41  404.409639      快晴            --         18.7  \n",
       "17         404.41  404.409639      薄曇            --         22.7  \n",
       "18         404.41  404.409639      快晴            --         19.1  \n",
       "19         404.41  404.409639      快晴            --         19.6  \n",
       "20         404.41  404.409639      晴れ            --         19.6  \n",
       "21         404.41  404.409639       曇            --         18.8  \n",
       "22         404.41  404.409639      晴れ            --         18.9  \n",
       "23         404.41  404.409639       曇            --         16.0  \n",
       "24         404.41  404.409639       曇            --         19.2  \n",
       "25         404.41  404.409639      晴れ            --         20.1  \n",
       "26         404.41    1.000000      快晴            --         21.2  \n",
       "27         404.41  404.409639       曇             0         14.7  \n",
       "28         404.41  404.409639       曇            --         14.4  \n",
       "29  キャリアアップ支援セミナー  404.409639      快晴            --         19.5  \n",
       "30         404.41  404.409639      快晴            --         15.8  \n",
       "31         404.41  404.409639      薄曇            --         14.3  \n",
       "32         404.41  404.409639      快晴            --         16.1  \n",
       "33         404.41  404.409639      快晴            --         14.9  \n",
       "34         404.41  404.409639       曇            --         10.5  \n",
       "35         404.41  404.409639      快晴            --         14.9  \n",
       "36         404.41  404.409639       雨           1.5         11.4  \n",
       "37         404.41  404.409639       雨             1          9.2  \n",
       "38         404.41  404.409639      快晴            --         15.1  \n",
       "39         404.41  404.409639       曇            --         15.3  "
      ]
     },
     "execution_count": 45,
     "metadata": {},
     "output_type": "execute_result"
    }
   ],
   "source": [
    "train.fillna(avg)\n",
    "test.fillna(avg)\n"
   ]
  },
  {
   "cell_type": "code",
   "execution_count": 47,
   "metadata": {},
   "outputs": [
    {
     "data": {
      "text/html": [
       "<div>\n",
       "<style scoped>\n",
       "    .dataframe tbody tr th:only-of-type {\n",
       "        vertical-align: middle;\n",
       "    }\n",
       "\n",
       "    .dataframe tbody tr th {\n",
       "        vertical-align: top;\n",
       "    }\n",
       "\n",
       "    .dataframe thead th {\n",
       "        text-align: right;\n",
       "    }\n",
       "</style>\n",
       "<table border=\"1\" class=\"dataframe\">\n",
       "  <thead>\n",
       "    <tr style=\"text-align: right;\">\n",
       "      <th></th>\n",
       "      <th>datetime</th>\n",
       "      <th>y</th>\n",
       "      <th>week</th>\n",
       "      <th>soldout</th>\n",
       "      <th>name</th>\n",
       "      <th>kcal</th>\n",
       "      <th>remarks</th>\n",
       "      <th>event</th>\n",
       "      <th>payday</th>\n",
       "      <th>weather</th>\n",
       "      <th>precipitation</th>\n",
       "      <th>temperature</th>\n",
       "    </tr>\n",
       "  </thead>\n",
       "  <tbody>\n",
       "    <tr>\n",
       "      <th>0</th>\n",
       "      <td>2013-11-18</td>\n",
       "      <td>90</td>\n",
       "      <td>月</td>\n",
       "      <td>0</td>\n",
       "      <td>厚切りイカフライ</td>\n",
       "      <td>NaN</td>\n",
       "      <td>NaN</td>\n",
       "      <td>NaN</td>\n",
       "      <td>NaN</td>\n",
       "      <td>快晴</td>\n",
       "      <td>--</td>\n",
       "      <td>19.8</td>\n",
       "    </tr>\n",
       "    <tr>\n",
       "      <th>1</th>\n",
       "      <td>2013-11-19</td>\n",
       "      <td>101</td>\n",
       "      <td>火</td>\n",
       "      <td>1</td>\n",
       "      <td>手作りヒレカツ</td>\n",
       "      <td>NaN</td>\n",
       "      <td>NaN</td>\n",
       "      <td>NaN</td>\n",
       "      <td>NaN</td>\n",
       "      <td>快晴</td>\n",
       "      <td>--</td>\n",
       "      <td>17.0</td>\n",
       "    </tr>\n",
       "    <tr>\n",
       "      <th>2</th>\n",
       "      <td>2013-11-20</td>\n",
       "      <td>118</td>\n",
       "      <td>水</td>\n",
       "      <td>0</td>\n",
       "      <td>白身魚唐揚げ野菜あん</td>\n",
       "      <td>NaN</td>\n",
       "      <td>NaN</td>\n",
       "      <td>NaN</td>\n",
       "      <td>NaN</td>\n",
       "      <td>快晴</td>\n",
       "      <td>--</td>\n",
       "      <td>15.5</td>\n",
       "    </tr>\n",
       "    <tr>\n",
       "      <th>3</th>\n",
       "      <td>2013-11-21</td>\n",
       "      <td>120</td>\n",
       "      <td>木</td>\n",
       "      <td>1</td>\n",
       "      <td>若鶏ピリ辛焼</td>\n",
       "      <td>NaN</td>\n",
       "      <td>NaN</td>\n",
       "      <td>NaN</td>\n",
       "      <td>NaN</td>\n",
       "      <td>快晴</td>\n",
       "      <td>--</td>\n",
       "      <td>15.2</td>\n",
       "    </tr>\n",
       "    <tr>\n",
       "      <th>4</th>\n",
       "      <td>2013-11-22</td>\n",
       "      <td>130</td>\n",
       "      <td>金</td>\n",
       "      <td>1</td>\n",
       "      <td>ビッグメンチカツ</td>\n",
       "      <td>NaN</td>\n",
       "      <td>NaN</td>\n",
       "      <td>NaN</td>\n",
       "      <td>NaN</td>\n",
       "      <td>快晴</td>\n",
       "      <td>--</td>\n",
       "      <td>16.1</td>\n",
       "    </tr>\n",
       "  </tbody>\n",
       "</table>\n",
       "</div>"
      ],
      "text/plain": [
       "     datetime    y week  soldout        name  kcal remarks event  payday  \\\n",
       "0  2013-11-18   90    月        0    厚切りイカフライ   NaN     NaN   NaN     NaN   \n",
       "1  2013-11-19  101    火        1     手作りヒレカツ   NaN     NaN   NaN     NaN   \n",
       "2  2013-11-20  118    水        0  白身魚唐揚げ野菜あん   NaN     NaN   NaN     NaN   \n",
       "3  2013-11-21  120    木        1      若鶏ピリ辛焼   NaN     NaN   NaN     NaN   \n",
       "4  2013-11-22  130    金        1    ビッグメンチカツ   NaN     NaN   NaN     NaN   \n",
       "\n",
       "  weather precipitation  temperature  \n",
       "0      快晴            --         19.8  \n",
       "1      快晴            --         17.0  \n",
       "2      快晴            --         15.5  \n",
       "3      快晴            --         15.2  \n",
       "4      快晴            --         16.1  "
      ]
     },
     "execution_count": 47,
     "metadata": {},
     "output_type": "execute_result"
    }
   ],
   "source": [
    "trainX = train[\"kcal\"]\n",
    "testX = test[\"kcal\"]\n",
    "train.head()"
   ]
  },
  {
   "cell_type": "markdown",
   "metadata": {
    "collapsed": true
   },
   "source": [
    "4.trainXとtestXをvalues.reshape(-1,1)を使って形を整え、再びtrainX, testXへ代入しよう\n",
    "    1. 3番ではtrainXにはavgで補間されたtrain[\"kcal\"]が代入される\n",
    "    2. 4番では補間されたtrainXにおまじないをかけたものがtrainXに代入されることになる"
   ]
  },
  {
   "cell_type": "code",
   "execution_count": 29,
   "metadata": {},
   "outputs": [],
   "source": [
    "trainX = trainX.values.reshape(-1,1)\n",
    "testX = testX.values.reshape(-1,1)"
   ]
  },
  {
   "cell_type": "markdown",
   "metadata": {},
   "source": [
    "5.trainからyを取り出し、変数yに代入しよう"
   ]
  },
  {
   "cell_type": "code",
   "execution_count": 30,
   "metadata": {},
   "outputs": [],
   "source": [
    "y=train[\"y\"]"
   ]
  },
  {
   "cell_type": "markdown",
   "metadata": {
    "collapsed": true
   },
   "source": [
    "6.回帰モデルの箱を変数名model2として用意しよう"
   ]
  },
  {
   "cell_type": "code",
   "execution_count": 31,
   "metadata": {},
   "outputs": [],
   "source": [
    "model2 = LR()"
   ]
  },
  {
   "cell_type": "markdown",
   "metadata": {},
   "source": [
    "7.trainXとyを使って単回帰のモデルを作ろう"
   ]
  },
  {
   "cell_type": "code",
   "execution_count": 36,
   "metadata": {},
   "outputs": [
    {
     "ename": "ValueError",
     "evalue": "Expected 2D array, got 1D array instead:\narray=[404.40963855 404.40963855 404.40963855 404.40963855 404.40963855\n 404.40963855 404.40963855 404.40963855 404.40963855 404.40963855\n 404.40963855 404.40963855 404.40963855 404.40963855 404.40963855\n 404.40963855 404.40963855 404.40963855 404.40963855 404.40963855\n 404.40963855 404.40963855 404.40963855 404.40963855 404.40963855\n 404.40963855 404.40963855 404.40963855 404.         462.\n 435.         440.         376.         450.         415.\n 430.         375.         447.         426.         400.\n 418.         415.         445.         450.         448.\n 460.         445.         430.         420.         435.\n 425.         423.         415.         438.         432.\n 416.         426.         405.         426.         410.\n 408.         396.         384.         436.         428.\n 407.         413.         393.         409.         396.\n 385.         397.         370.         372.         360.\n 382.         400.         392.         372.         350.\n 407.         392.         315.         404.40963855 349.\n 377.         380.         390.         350.         387.\n 353.         376.         362.         404.40963855 340.\n 370.         330.         333.         325.         375.\n 382.         340.         360.         404.40963855 342.\n 368.         415.         420.         415.         405.\n 434.         400.         428.         430.         403.\n 404.40963855 406.         425.         430.         428.\n 400.         430.         423.         414.         438.\n 404.40963855 420.         418.         424.         405.\n 430.         417.         426.         413.         440.\n 404.40963855 440.         427.         426.         430.\n 407.         421.         430.         420.         414.\n 404.40963855 435.         362.         363.         412.\n 432.         354.         370.         388.         386.\n 404.40963855 418.         324.         434.         418.\n 401.         409.         355.         410.         404.40963855\n 432.         449.         441.         386.         380.\n 410.         400.         410.         415.         404.40963855\n 411.         400.         396.         385.         423.\n 405.         404.40963855 412.         400.         410.\n 396.         398.         380.         440.         408.\n 405.         380.         385.         460.         450.\n 385.         404.40963855 438.         430.         395.\n 400.         395.         408.         394.         404.40963855\n 404.         398.        ].\nReshape your data either using array.reshape(-1, 1) if your data has a single feature or array.reshape(1, -1) if it contains a single sample.",
     "output_type": "error",
     "traceback": [
      "\u001b[0;31m---------------------------------------------------------------------------\u001b[0m",
      "\u001b[0;31mValueError\u001b[0m                                Traceback (most recent call last)",
      "\u001b[0;32m<ipython-input-36-3e90cd16bdc0>\u001b[0m in \u001b[0;36m<module>\u001b[0;34m\u001b[0m\n\u001b[0;32m----> 1\u001b[0;31m \u001b[0mmodel2\u001b[0m\u001b[0;34m.\u001b[0m\u001b[0mfit\u001b[0m\u001b[0;34m(\u001b[0m\u001b[0mtrainX\u001b[0m\u001b[0;34m,\u001b[0m\u001b[0my\u001b[0m\u001b[0;34m)\u001b[0m\u001b[0;34m\u001b[0m\u001b[0;34m\u001b[0m\u001b[0m\n\u001b[0m",
      "\u001b[0;32m~/anaconda3/lib/python3.8/site-packages/sklearn/linear_model/_base.py\u001b[0m in \u001b[0;36mfit\u001b[0;34m(self, X, y, sample_weight)\u001b[0m\n\u001b[1;32m    503\u001b[0m \u001b[0;34m\u001b[0m\u001b[0m\n\u001b[1;32m    504\u001b[0m         \u001b[0mn_jobs_\u001b[0m \u001b[0;34m=\u001b[0m \u001b[0mself\u001b[0m\u001b[0;34m.\u001b[0m\u001b[0mn_jobs\u001b[0m\u001b[0;34m\u001b[0m\u001b[0;34m\u001b[0m\u001b[0m\n\u001b[0;32m--> 505\u001b[0;31m         X, y = self._validate_data(X, y, accept_sparse=['csr', 'csc', 'coo'],\n\u001b[0m\u001b[1;32m    506\u001b[0m                                    y_numeric=True, multi_output=True)\n\u001b[1;32m    507\u001b[0m \u001b[0;34m\u001b[0m\u001b[0m\n",
      "\u001b[0;32m~/anaconda3/lib/python3.8/site-packages/sklearn/base.py\u001b[0m in \u001b[0;36m_validate_data\u001b[0;34m(self, X, y, reset, validate_separately, **check_params)\u001b[0m\n\u001b[1;32m    430\u001b[0m                 \u001b[0my\u001b[0m \u001b[0;34m=\u001b[0m \u001b[0mcheck_array\u001b[0m\u001b[0;34m(\u001b[0m\u001b[0my\u001b[0m\u001b[0;34m,\u001b[0m \u001b[0;34m**\u001b[0m\u001b[0mcheck_y_params\u001b[0m\u001b[0;34m)\u001b[0m\u001b[0;34m\u001b[0m\u001b[0;34m\u001b[0m\u001b[0m\n\u001b[1;32m    431\u001b[0m             \u001b[0;32melse\u001b[0m\u001b[0;34m:\u001b[0m\u001b[0;34m\u001b[0m\u001b[0;34m\u001b[0m\u001b[0m\n\u001b[0;32m--> 432\u001b[0;31m                 \u001b[0mX\u001b[0m\u001b[0;34m,\u001b[0m \u001b[0my\u001b[0m \u001b[0;34m=\u001b[0m \u001b[0mcheck_X_y\u001b[0m\u001b[0;34m(\u001b[0m\u001b[0mX\u001b[0m\u001b[0;34m,\u001b[0m \u001b[0my\u001b[0m\u001b[0;34m,\u001b[0m \u001b[0;34m**\u001b[0m\u001b[0mcheck_params\u001b[0m\u001b[0;34m)\u001b[0m\u001b[0;34m\u001b[0m\u001b[0;34m\u001b[0m\u001b[0m\n\u001b[0m\u001b[1;32m    433\u001b[0m             \u001b[0mout\u001b[0m \u001b[0;34m=\u001b[0m \u001b[0mX\u001b[0m\u001b[0;34m,\u001b[0m \u001b[0my\u001b[0m\u001b[0;34m\u001b[0m\u001b[0;34m\u001b[0m\u001b[0m\n\u001b[1;32m    434\u001b[0m \u001b[0;34m\u001b[0m\u001b[0m\n",
      "\u001b[0;32m~/anaconda3/lib/python3.8/site-packages/sklearn/utils/validation.py\u001b[0m in \u001b[0;36minner_f\u001b[0;34m(*args, **kwargs)\u001b[0m\n\u001b[1;32m     70\u001b[0m                           FutureWarning)\n\u001b[1;32m     71\u001b[0m         \u001b[0mkwargs\u001b[0m\u001b[0;34m.\u001b[0m\u001b[0mupdate\u001b[0m\u001b[0;34m(\u001b[0m\u001b[0;34m{\u001b[0m\u001b[0mk\u001b[0m\u001b[0;34m:\u001b[0m \u001b[0marg\u001b[0m \u001b[0;32mfor\u001b[0m \u001b[0mk\u001b[0m\u001b[0;34m,\u001b[0m \u001b[0marg\u001b[0m \u001b[0;32min\u001b[0m \u001b[0mzip\u001b[0m\u001b[0;34m(\u001b[0m\u001b[0msig\u001b[0m\u001b[0;34m.\u001b[0m\u001b[0mparameters\u001b[0m\u001b[0;34m,\u001b[0m \u001b[0margs\u001b[0m\u001b[0;34m)\u001b[0m\u001b[0;34m}\u001b[0m\u001b[0;34m)\u001b[0m\u001b[0;34m\u001b[0m\u001b[0;34m\u001b[0m\u001b[0m\n\u001b[0;32m---> 72\u001b[0;31m         \u001b[0;32mreturn\u001b[0m \u001b[0mf\u001b[0m\u001b[0;34m(\u001b[0m\u001b[0;34m**\u001b[0m\u001b[0mkwargs\u001b[0m\u001b[0;34m)\u001b[0m\u001b[0;34m\u001b[0m\u001b[0;34m\u001b[0m\u001b[0m\n\u001b[0m\u001b[1;32m     73\u001b[0m     \u001b[0;32mreturn\u001b[0m \u001b[0minner_f\u001b[0m\u001b[0;34m\u001b[0m\u001b[0;34m\u001b[0m\u001b[0m\n\u001b[1;32m     74\u001b[0m \u001b[0;34m\u001b[0m\u001b[0m\n",
      "\u001b[0;32m~/anaconda3/lib/python3.8/site-packages/sklearn/utils/validation.py\u001b[0m in \u001b[0;36mcheck_X_y\u001b[0;34m(X, y, accept_sparse, accept_large_sparse, dtype, order, copy, force_all_finite, ensure_2d, allow_nd, multi_output, ensure_min_samples, ensure_min_features, y_numeric, estimator)\u001b[0m\n\u001b[1;32m    793\u001b[0m         \u001b[0;32mraise\u001b[0m \u001b[0mValueError\u001b[0m\u001b[0;34m(\u001b[0m\u001b[0;34m\"y cannot be None\"\u001b[0m\u001b[0;34m)\u001b[0m\u001b[0;34m\u001b[0m\u001b[0;34m\u001b[0m\u001b[0m\n\u001b[1;32m    794\u001b[0m \u001b[0;34m\u001b[0m\u001b[0m\n\u001b[0;32m--> 795\u001b[0;31m     X = check_array(X, accept_sparse=accept_sparse,\n\u001b[0m\u001b[1;32m    796\u001b[0m                     \u001b[0maccept_large_sparse\u001b[0m\u001b[0;34m=\u001b[0m\u001b[0maccept_large_sparse\u001b[0m\u001b[0;34m,\u001b[0m\u001b[0;34m\u001b[0m\u001b[0;34m\u001b[0m\u001b[0m\n\u001b[1;32m    797\u001b[0m                     \u001b[0mdtype\u001b[0m\u001b[0;34m=\u001b[0m\u001b[0mdtype\u001b[0m\u001b[0;34m,\u001b[0m \u001b[0morder\u001b[0m\u001b[0;34m=\u001b[0m\u001b[0morder\u001b[0m\u001b[0;34m,\u001b[0m \u001b[0mcopy\u001b[0m\u001b[0;34m=\u001b[0m\u001b[0mcopy\u001b[0m\u001b[0;34m,\u001b[0m\u001b[0;34m\u001b[0m\u001b[0;34m\u001b[0m\u001b[0m\n",
      "\u001b[0;32m~/anaconda3/lib/python3.8/site-packages/sklearn/utils/validation.py\u001b[0m in \u001b[0;36minner_f\u001b[0;34m(*args, **kwargs)\u001b[0m\n\u001b[1;32m     70\u001b[0m                           FutureWarning)\n\u001b[1;32m     71\u001b[0m         \u001b[0mkwargs\u001b[0m\u001b[0;34m.\u001b[0m\u001b[0mupdate\u001b[0m\u001b[0;34m(\u001b[0m\u001b[0;34m{\u001b[0m\u001b[0mk\u001b[0m\u001b[0;34m:\u001b[0m \u001b[0marg\u001b[0m \u001b[0;32mfor\u001b[0m \u001b[0mk\u001b[0m\u001b[0;34m,\u001b[0m \u001b[0marg\u001b[0m \u001b[0;32min\u001b[0m \u001b[0mzip\u001b[0m\u001b[0;34m(\u001b[0m\u001b[0msig\u001b[0m\u001b[0;34m.\u001b[0m\u001b[0mparameters\u001b[0m\u001b[0;34m,\u001b[0m \u001b[0margs\u001b[0m\u001b[0;34m)\u001b[0m\u001b[0;34m}\u001b[0m\u001b[0;34m)\u001b[0m\u001b[0;34m\u001b[0m\u001b[0;34m\u001b[0m\u001b[0m\n\u001b[0;32m---> 72\u001b[0;31m         \u001b[0;32mreturn\u001b[0m \u001b[0mf\u001b[0m\u001b[0;34m(\u001b[0m\u001b[0;34m**\u001b[0m\u001b[0mkwargs\u001b[0m\u001b[0;34m)\u001b[0m\u001b[0;34m\u001b[0m\u001b[0;34m\u001b[0m\u001b[0m\n\u001b[0m\u001b[1;32m     73\u001b[0m     \u001b[0;32mreturn\u001b[0m \u001b[0minner_f\u001b[0m\u001b[0;34m\u001b[0m\u001b[0;34m\u001b[0m\u001b[0m\n\u001b[1;32m     74\u001b[0m \u001b[0;34m\u001b[0m\u001b[0m\n",
      "\u001b[0;32m~/anaconda3/lib/python3.8/site-packages/sklearn/utils/validation.py\u001b[0m in \u001b[0;36mcheck_array\u001b[0;34m(array, accept_sparse, accept_large_sparse, dtype, order, copy, force_all_finite, ensure_2d, allow_nd, ensure_min_samples, ensure_min_features, estimator)\u001b[0m\n\u001b[1;32m    617\u001b[0m             \u001b[0;31m# If input is 1D raise error\u001b[0m\u001b[0;34m\u001b[0m\u001b[0;34m\u001b[0m\u001b[0;34m\u001b[0m\u001b[0m\n\u001b[1;32m    618\u001b[0m             \u001b[0;32mif\u001b[0m \u001b[0marray\u001b[0m\u001b[0;34m.\u001b[0m\u001b[0mndim\u001b[0m \u001b[0;34m==\u001b[0m \u001b[0;36m1\u001b[0m\u001b[0;34m:\u001b[0m\u001b[0;34m\u001b[0m\u001b[0;34m\u001b[0m\u001b[0m\n\u001b[0;32m--> 619\u001b[0;31m                 raise ValueError(\n\u001b[0m\u001b[1;32m    620\u001b[0m                     \u001b[0;34m\"Expected 2D array, got 1D array instead:\\narray={}.\\n\"\u001b[0m\u001b[0;34m\u001b[0m\u001b[0;34m\u001b[0m\u001b[0m\n\u001b[1;32m    621\u001b[0m                     \u001b[0;34m\"Reshape your data either using array.reshape(-1, 1) if \"\u001b[0m\u001b[0;34m\u001b[0m\u001b[0;34m\u001b[0m\u001b[0m\n",
      "\u001b[0;31mValueError\u001b[0m: Expected 2D array, got 1D array instead:\narray=[404.40963855 404.40963855 404.40963855 404.40963855 404.40963855\n 404.40963855 404.40963855 404.40963855 404.40963855 404.40963855\n 404.40963855 404.40963855 404.40963855 404.40963855 404.40963855\n 404.40963855 404.40963855 404.40963855 404.40963855 404.40963855\n 404.40963855 404.40963855 404.40963855 404.40963855 404.40963855\n 404.40963855 404.40963855 404.40963855 404.         462.\n 435.         440.         376.         450.         415.\n 430.         375.         447.         426.         400.\n 418.         415.         445.         450.         448.\n 460.         445.         430.         420.         435.\n 425.         423.         415.         438.         432.\n 416.         426.         405.         426.         410.\n 408.         396.         384.         436.         428.\n 407.         413.         393.         409.         396.\n 385.         397.         370.         372.         360.\n 382.         400.         392.         372.         350.\n 407.         392.         315.         404.40963855 349.\n 377.         380.         390.         350.         387.\n 353.         376.         362.         404.40963855 340.\n 370.         330.         333.         325.         375.\n 382.         340.         360.         404.40963855 342.\n 368.         415.         420.         415.         405.\n 434.         400.         428.         430.         403.\n 404.40963855 406.         425.         430.         428.\n 400.         430.         423.         414.         438.\n 404.40963855 420.         418.         424.         405.\n 430.         417.         426.         413.         440.\n 404.40963855 440.         427.         426.         430.\n 407.         421.         430.         420.         414.\n 404.40963855 435.         362.         363.         412.\n 432.         354.         370.         388.         386.\n 404.40963855 418.         324.         434.         418.\n 401.         409.         355.         410.         404.40963855\n 432.         449.         441.         386.         380.\n 410.         400.         410.         415.         404.40963855\n 411.         400.         396.         385.         423.\n 405.         404.40963855 412.         400.         410.\n 396.         398.         380.         440.         408.\n 405.         380.         385.         460.         450.\n 385.         404.40963855 438.         430.         395.\n 400.         395.         408.         394.         404.40963855\n 404.         398.        ].\nReshape your data either using array.reshape(-1, 1) if your data has a single feature or array.reshape(1, -1) if it contains a single sample."
     ]
    }
   ],
   "source": [
    "model2.fit(trainX,y)"
   ]
  },
  {
   "cell_type": "markdown",
   "metadata": {},
   "source": [
    "8.作ったモデルの傾きと切片を確認しよう"
   ]
  },
  {
   "cell_type": "code",
   "execution_count": null,
   "metadata": {
    "collapsed": true
   },
   "outputs": [],
   "source": []
  },
  {
   "cell_type": "code",
   "execution_count": null,
   "metadata": {
    "collapsed": true
   },
   "outputs": [],
   "source": []
  },
  {
   "cell_type": "markdown",
   "metadata": {},
   "source": [
    "9.testXを使って予測をし、予測値を変数pred2に代入しよう"
   ]
  },
  {
   "cell_type": "code",
   "execution_count": null,
   "metadata": {
    "collapsed": true
   },
   "outputs": [],
   "source": []
  },
  {
   "cell_type": "markdown",
   "metadata": {},
   "source": [
    "10.sample[1]にpred2を代入しよう"
   ]
  },
  {
   "cell_type": "code",
   "execution_count": null,
   "metadata": {
    "collapsed": true
   },
   "outputs": [],
   "source": []
  },
  {
   "cell_type": "markdown",
   "metadata": {},
   "source": [
    "11.to_csv関数のindex=Noneがある時とない時の違い、header=Noneがある時とない時の違いは何かを考えてみよう"
   ]
  },
  {
   "cell_type": "markdown",
   "metadata": {},
   "source": [
    "12.sampleをファイル出力し、submit2.csvという投稿用ファイルを作ろう"
   ]
  },
  {
   "cell_type": "code",
   "execution_count": null,
   "metadata": {
    "collapsed": true
   },
   "outputs": [],
   "source": []
  },
  {
   "cell_type": "markdown",
   "metadata": {},
   "source": [
    "13.submit2.csvをDeepAnalyticsに投稿して、submit1.csvのスコアを比較してみよう"
   ]
  }
 ],
 "metadata": {
  "kernelspec": {
   "display_name": "Python 3",
   "language": "python",
   "name": "python3"
  },
  "language_info": {
   "codemirror_mode": {
    "name": "ipython",
    "version": 3
   },
   "file_extension": ".py",
   "mimetype": "text/x-python",
   "name": "python",
   "nbconvert_exporter": "python",
   "pygments_lexer": "ipython3",
   "version": "3.8.5"
  }
 },
 "nbformat": 4,
 "nbformat_minor": 2
}
