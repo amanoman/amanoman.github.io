{
 "cells": [
  {
   "cell_type": "code",
   "execution_count": 1,
   "metadata": {},
   "outputs": [],
   "source": [
    "import numpy as np"
   ]
  },
  {
   "cell_type": "markdown",
   "metadata": {},
   "source": [
    "Numpyをつかってみる"
   ]
  },
  {
   "cell_type": "code",
   "execution_count": 2,
   "metadata": {},
   "outputs": [],
   "source": [
    "x = np.array([25,27,29])"
   ]
  },
  {
   "cell_type": "code",
   "execution_count": 3,
   "metadata": {},
   "outputs": [
    {
     "name": "stdout",
     "output_type": "stream",
     "text": [
      "[25 27 29]\n"
     ]
    }
   ],
   "source": [
    "print(x)"
   ]
  },
  {
   "cell_type": "code",
   "execution_count": 4,
   "metadata": {},
   "outputs": [],
   "source": [
    "y = np.array([5,21,25])"
   ]
  },
  {
   "cell_type": "code",
   "execution_count": 5,
   "metadata": {},
   "outputs": [
    {
     "ename": "NameError",
     "evalue": "name 'pritn' is not defined",
     "output_type": "error",
     "traceback": [
      "\u001b[1;31m---------------------------------------------------------------------------\u001b[0m",
      "\u001b[1;31mNameError\u001b[0m                                 Traceback (most recent call last)",
      "\u001b[1;32m<ipython-input-5-e8530b34c4f5>\u001b[0m in \u001b[0;36m<module>\u001b[1;34m\u001b[0m\n\u001b[1;32m----> 1\u001b[1;33m \u001b[0mpritn\u001b[0m\u001b[1;33m(\u001b[0m\u001b[0my\u001b[0m\u001b[1;33m)\u001b[0m\u001b[1;33m\u001b[0m\u001b[1;33m\u001b[0m\u001b[0m\n\u001b[0m",
      "\u001b[1;31mNameError\u001b[0m: name 'pritn' is not defined"
     ]
    }
   ],
   "source": [
    "pritn(y)"
   ]
  },
  {
   "cell_type": "code",
   "execution_count": 6,
   "metadata": {},
   "outputs": [
    {
     "name": "stdout",
     "output_type": "stream",
     "text": [
      "[ 5 21 25]\n"
     ]
    }
   ],
   "source": [
    "print(y)"
   ]
  },
  {
   "cell_type": "code",
   "execution_count": 7,
   "metadata": {},
   "outputs": [],
   "source": [
    "y = 5 * x -115"
   ]
  },
  {
   "cell_type": "code",
   "execution_count": 8,
   "metadata": {},
   "outputs": [],
   "source": [
    "y = np.array([5,21,25])"
   ]
  },
  {
   "cell_type": "code",
   "execution_count": 9,
   "metadata": {},
   "outputs": [],
   "source": [
    "y_orange = 5 * x -115"
   ]
  },
  {
   "cell_type": "code",
   "execution_count": 10,
   "metadata": {},
   "outputs": [
    {
     "name": "stdout",
     "output_type": "stream",
     "text": [
      "[10 20 30]\n"
     ]
    }
   ],
   "source": [
    "print(y_orange)"
   ]
  },
  {
   "cell_type": "code",
   "execution_count": 11,
   "metadata": {},
   "outputs": [],
   "source": [
    "y_green = 3 * x -63"
   ]
  },
  {
   "cell_type": "code",
   "execution_count": 12,
   "metadata": {},
   "outputs": [
    {
     "name": "stdout",
     "output_type": "stream",
     "text": [
      "[12 18 24]\n"
     ]
    }
   ],
   "source": [
    "print(y_green)"
   ]
  },
  {
   "cell_type": "markdown",
   "metadata": {},
   "source": [
    "# Matplotlibを使う"
   ]
  },
  {
   "cell_type": "code",
   "execution_count": 21,
   "metadata": {},
   "outputs": [],
   "source": [
    "import matplotlib.pyplot as plt\n",
    "import japanize_matplotlib"
   ]
  },
  {
   "cell_type": "code",
   "execution_count": 36,
   "metadata": {},
   "outputs": [
    {
     "data": {
      "image/png": "[encoded data removed]",
      "text/plain": [
       "<Figure size 432x288 with 1 Axes>"
      ]
     },
     "metadata": {
      "needs_background": "light"
     },
     "output_type": "display_data"
    }
   ],
   "source": [
    "plt.scatter(x,y,s=20,c='blue',label='実データ') #sはドットの大きさ、Cはカラー\n",
    "plt.legend(loc='upper left') #ラベルの位置\n",
    "plt.title('アイスクリームと気温の関係')\n",
    "plt.xlabel('最高気温(x)')\n",
    "plt.ylabel('売れた個数(y)')\n",
    "plt.plot(x,y_orange, lw = 1, c = 'orange') #plotは直線で結ぶ lwはline width？線の太さ、cはカラー\n",
    "plt.plot(x,y_green, lw = 1, c = 'green')\n",
    "plt.show()#表示する"
   ]
  },
  {
   "cell_type": "code",
   "execution_count": 38,
   "metadata": {},
   "outputs": [
    {
     "name": "stdout",
     "output_type": "stream",
     "text": [
      "[-5  1 -5]\n"
     ]
    }
   ],
   "source": [
    "#実データ(y)と直線(y_orange)の誤差\n",
    "y_orange_e = y - y_orange\n",
    "print(y_orange_e)"
   ]
  },
  {
   "cell_type": "code",
   "execution_count": 39,
   "metadata": {},
   "outputs": [
    {
     "name": "stdout",
     "output_type": "stream",
     "text": [
      "[-7  3  1]\n"
     ]
    }
   ],
   "source": [
    "#実データ(y)と直線(y_ogreen)の誤差\n",
    "y_green_e = y - y_green\n",
    "print(y_green_e)"
   ]
  },
  {
   "cell_type": "code",
   "execution_count": 43,
   "metadata": {},
   "outputs": [
    {
     "name": "stdout",
     "output_type": "stream",
     "text": [
      "[5 1 5]\n"
     ]
    }
   ],
   "source": [
    "#実データ(y)と直線(y_orange)の距離\n",
    "y_orange_d = abs(y - y_orange) #absは絶対値に変換\n",
    "print(y_orange_d)"
   ]
  },
  {
   "cell_type": "code",
   "execution_count": 42,
   "metadata": {},
   "outputs": [
    {
     "name": "stdout",
     "output_type": "stream",
     "text": [
      "[7 3 1]\n"
     ]
    }
   ],
   "source": [
    "#実データ(y)と直線(y_orange)の距離\n",
    "y_green_d = abs(y - y_green)\n",
    "print(y_green_d)"
   ]
  },
  {
   "cell_type": "code",
   "execution_count": 45,
   "metadata": {},
   "outputs": [
    {
     "name": "stdout",
     "output_type": "stream",
     "text": [
      "-9\n"
     ]
    }
   ],
   "source": [
    "#誤差の和 y_orange_e\n",
    "print(np.sum(y_orange_e))"
   ]
  },
  {
   "cell_type": "code",
   "execution_count": 47,
   "metadata": {},
   "outputs": [
    {
     "name": "stdout",
     "output_type": "stream",
     "text": [
      "-3\n"
     ]
    }
   ],
   "source": [
    "#誤差の和 y_green_e\n",
    "print(np.sum(y_green_e))"
   ]
  },
  {
   "cell_type": "code",
   "execution_count": 48,
   "metadata": {},
   "outputs": [
    {
     "name": "stdout",
     "output_type": "stream",
     "text": [
      "11\n"
     ]
    }
   ],
   "source": [
    "#距離の和 y_orange_d\n",
    "print(np.sum(y_orange_d))"
   ]
  },
  {
   "cell_type": "code",
   "execution_count": 50,
   "metadata": {},
   "outputs": [
    {
     "name": "stdout",
     "output_type": "stream",
     "text": [
      "11\n"
     ]
    }
   ],
   "source": [
    "#距離の和 y_green_d\n",
    "print(np.sum(y_green_d))"
   ]
  },
  {
   "cell_type": "markdown",
   "metadata": {},
   "source": [
    "# 直線の妥当性を距離や誤差で論じるのは典型的な間違い"
   ]
  },
  {
   "cell_type": "code",
   "execution_count": 53,
   "metadata": {},
   "outputs": [
    {
     "data": {
      "image/png": "[encoded data removed]",
      "text/plain": [
       "<Figure size 432x288 with 1 Axes>"
      ]
     },
     "metadata": {
      "needs_background": "light"
     },
     "output_type": "display_data"
    }
   ],
   "source": [
    "#xデータ\n",
    "x = np.array([25,25,27,27])\n",
    "\n",
    "#yデータ\n",
    "y = np.array([6,8,8,10])\n",
    "\n",
    "#赤直線\n",
    "y_red  = x - 18\n",
    "\n",
    "#グラフ描画\n",
    "plt.scatter(x,y,s=100,c='blue',label='実データ')\n",
    "plt.legend(loc='upper left')\n",
    "plt.title('アイスクリームと気温の関係')\n",
    "plt.xlabel('最高気温(x)')\n",
    "plt.ylabel('売れた個数(y)')\n",
    "plt.plot(x,y_red,lw=5,c='red')\n",
    "plt.show()\n",
    "\n"
   ]
  },
  {
   "cell_type": "code",
   "execution_count": 54,
   "metadata": {},
   "outputs": [
    {
     "data": {
      "image/png": "[encoded data removed]",
      "text/plain": [
       "<Figure size 432x288 with 1 Axes>"
      ]
     },
     "metadata": {
      "needs_background": "light"
     },
     "output_type": "display_data"
    }
   ],
   "source": [
    "#オレンジ\n",
    "y_orange = 2*x - 44\n",
    "\n",
    "#グラフ描画\n",
    "plt.scatter(x,y,s=100,c='blue',label= '実データ')\n",
    "plt.legend(loc='upper left')\n",
    "plt.title('アイスクリームと気温の関係')\n",
    "plt.xlabel('最高気温(x)')\n",
    "plt.ylabel('売れた個数(y)')\n",
    "plt.plot(x,y_red,lw=5, c= 'red')\n",
    "plt.plot(x,y_orange,lw=5, c= 'orange')\n",
    "plt.show()\n"
   ]
  },
  {
   "cell_type": "code",
   "execution_count": 55,
   "metadata": {},
   "outputs": [
    {
     "name": "stdout",
     "output_type": "stream",
     "text": [
      "[-1  1 -1  1]\n",
      "赤線の誤差和： 0\n"
     ]
    }
   ],
   "source": [
    "#赤線と実データの誤差\n",
    "y_red_e = y - y_red\n",
    "print (y_red_e)\n",
    "print('赤線の誤差和：', np.sum(y_red_e))\n",
    "\n"
   ]
  },
  {
   "cell_type": "code",
   "execution_count": 56,
   "metadata": {},
   "outputs": [
    {
     "name": "stdout",
     "output_type": "stream",
     "text": [
      "[ 0  2 -2  0]\n",
      "オレンジの誤差和： 0\n"
     ]
    }
   ],
   "source": [
    "#オレンジ線と実データの誤差\n",
    "y_orange_e = y - y_orange\n",
    "print (y_orange_e)\n",
    "print('オレンジの誤差和：', np.sum(y_orange_e))\n"
   ]
  },
  {
   "cell_type": "markdown",
   "metadata": {},
   "source": [
    "# 誤差の和だと偏りが評価されないのでダメ"
   ]
  },
  {
   "cell_type": "code",
   "execution_count": 58,
   "metadata": {},
   "outputs": [
    {
     "name": "stdout",
     "output_type": "stream",
     "text": [
      "4\n"
     ]
    }
   ],
   "source": [
    "#赤線\n",
    "print(np.sum(y_red_e ** 2))"
   ]
  },
  {
   "cell_type": "code",
   "execution_count": 59,
   "metadata": {},
   "outputs": [],
   "source": [
    "#オレンジ線"
   ]
  },
  {
   "cell_type": "code",
   "execution_count": 60,
   "metadata": {},
   "outputs": [
    {
     "name": "stdout",
     "output_type": "stream",
     "text": [
      "8\n"
     ]
    }
   ],
   "source": [
    "print(np.sum(y_orange_e **2))"
   ]
  },
  {
   "cell_type": "markdown",
   "metadata": {},
   "source": [
    "# 回帰分析では二乗誤差の和で比較する"
   ]
  },
  {
   "cell_type": "code",
   "execution_count": 61,
   "metadata": {},
   "outputs": [
    {
     "data": {
      "image/png": "[encoded data removed]",
      "text/plain": [
       "<Figure size 432x288 with 1 Axes>"
      ]
     },
     "metadata": {
      "needs_background": "light"
     },
     "output_type": "display_data"
    }
   ],
   "source": [
    "#実データ\n",
    "x = np.array([25,27,29])\n",
    "y = np.array([5,21,25])\n",
    "\n",
    "#直線\n",
    "y_orange = 5*x -115\n",
    "y_green = 3*x -63\n",
    "\n",
    "#グラフ描画\n",
    "plt.scatter(x,y,s=100,c='blue',label= '実データ')\n",
    "plt.legend(loc='upper left')\n",
    "plt.title('アイスクリームと気温の関係')\n",
    "plt.xlabel('最高気温(x)')\n",
    "plt.ylabel('売れた個数(y)')\n",
    "plt.plot(x,y_orange,lw=5, c= 'orange')\n",
    "plt.plot(x,y_green,lw=5,c='green')\n",
    "plt.show()"
   ]
  },
  {
   "cell_type": "code",
   "execution_count": 62,
   "metadata": {},
   "outputs": [],
   "source": [
    "#実データ（y）と直線（y_orange）の誤差\n",
    "y_orange_e = y - y_orange\n",
    "\n",
    "#実データ（y）と直線（y_green）の誤差\n",
    "y_green_e = y - y_green\n"
   ]
  },
  {
   "cell_type": "code",
   "execution_count": 64,
   "metadata": {},
   "outputs": [
    {
     "name": "stdout",
     "output_type": "stream",
     "text": [
      "[-5  1 -5]\n",
      "[-7  3  1]\n"
     ]
    }
   ],
   "source": [
    "print(y_orange_e)\n",
    "print(y_green_e)"
   ]
  },
  {
   "cell_type": "code",
   "execution_count": 65,
   "metadata": {},
   "outputs": [
    {
     "name": "stdout",
     "output_type": "stream",
     "text": [
      "51\n",
      "59\n"
     ]
    }
   ],
   "source": [
    "#オレンジ戦の二乗誤差\n",
    "print (np.sum((y_orange_e ** 2)))\n",
    "\n",
    "#グリーン戦の二乗誤差\n",
    "print (np.sum((y_green_e ** 2)))\n"
   ]
  },
  {
   "cell_type": "code",
   "execution_count": null,
   "metadata": {},
   "outputs": [],
   "source": []
  }
 ],
 "metadata": {
  "kernelspec": {
   "display_name": "Python 3",
   "language": "python",
   "name": "python3"
  },
  "language_info": {
   "codemirror_mode": {
    "name": "ipython",
    "version": 3
   },
   "file_extension": ".py",
   "mimetype": "text/x-python",
   "name": "python",
   "nbconvert_exporter": "python",
   "pygments_lexer": "ipython3",
   "version": "3.7.3"
  }
 },
 "nbformat": 4,
 "nbformat_minor": 2
}
