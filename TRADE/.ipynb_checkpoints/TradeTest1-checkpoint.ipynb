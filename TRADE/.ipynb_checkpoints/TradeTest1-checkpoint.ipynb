{
 "cells": [
  {
   "cell_type": "code",
   "execution_count": 1,
   "metadata": {},
   "outputs": [
    {
     "name": "stdout",
     "output_type": "stream",
     "text": [
      "Requirement already satisfied: PyQuery in c:\\users\\hks-s\\anaconda3\\lib\\site-packages (1.4.1)\n",
      "Requirement already satisfied: cssselect>0.7.9 in c:\\users\\hks-s\\anaconda3\\lib\\site-packages (from PyQuery) (1.1.0)\n",
      "Requirement already satisfied: lxml>=2.1 in c:\\users\\hks-s\\anaconda3\\lib\\site-packages (from PyQuery) (4.5.2)\n",
      "Note: you may need to restart the kernel to use updated packages.\n"
     ]
    }
   ],
   "source": [
    "pip install PyQuery"
   ]
  },
  {
   "cell_type": "markdown",
   "metadata": {},
   "source": [
    "data = pq('https://kabutan.jp/stock/?code=7203')\n",
    "print(data)"
   ]
  },
  {
   "cell_type": "markdown",
   "metadata": {},
   "source": [
    "https://qiita.com/omixin/items/d39b8af3c1c9cc14f648　参考URL"
   ]
  },
  {
   "cell_type": "code",
   "execution_count": 28,
   "metadata": {},
   "outputs": [],
   "source": [
    "from pyquery import PyQuery as pq"
   ]
  },
  {
   "cell_type": "code",
   "execution_count": 15,
   "metadata": {},
   "outputs": [
    {
     "name": "stdout",
     "output_type": "stream",
     "text": [
      "トヨタ自動車（トヨタ）【7203】株の基本情報｜株探（かぶたん）\n"
     ]
    }
   ],
   "source": [
    "print(data.find('title').text().split()[0])"
   ]
  },
  {
   "cell_type": "markdown",
   "metadata": {},
   "source": [
    "text()は<h1>テキスト</h1>などのタグ内のテキストを取り出す\n",
    "split()は文字を区切る？要調査"
   ]
  },
  {
   "cell_type": "code",
   "execution_count": 16,
   "metadata": {},
   "outputs": [
    {
     "name": "stdout",
     "output_type": "stream",
     "text": [
      "<div id=\"stockinfo_i2\">\n",
      "<dl>\n",
      "<dt>業績</dt>\n",
      "<dd><img src=\"/images/cmn/gyouseki_5.gif\" title=\"今期予想\"/></dd>\n",
      "</dl>\n",
      "\n",
      "<div>\n",
      "<a href=\"/themes/?industry=17&amp;market=1\">輸送用機器</a>\n",
      "</div>\n",
      "\n",
      "<dl>\n",
      "  <dt>単位</dt>\n",
      "  <dd>100株 </dd>\n",
      "</dl>\n",
      "</div>\n"
     ]
    }
   ],
   "source": [
    "print(data('#stockinfo_i2'))"
   ]
  },
  {
   "cell_type": "code",
   "execution_count": 26,
   "metadata": {},
   "outputs": [
    {
     "name": "stdout",
     "output_type": "stream",
     "text": [
      "100株\n"
     ]
    }
   ],
   "source": [
    "print(data('#stockinfo_i2')('dl').text().split()[2])"
   ]
  },
  {
   "cell_type": "code",
   "execution_count": null,
   "metadata": {},
   "outputs": [],
   "source": []
  }
 ],
 "metadata": {
  "kernelspec": {
   "display_name": "Python 3",
   "language": "python",
   "name": "python3"
  },
  "language_info": {
   "codemirror_mode": {
    "name": "ipython",
    "version": 3
   },
   "file_extension": ".py",
   "mimetype": "text/x-python",
   "name": "python",
   "nbconvert_exporter": "python",
   "pygments_lexer": "ipython3",
   "version": "3.8.3"
  }
 },
 "nbformat": 4,
 "nbformat_minor": 4
}
