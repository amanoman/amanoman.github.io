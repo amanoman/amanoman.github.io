{
 "cells": [
  {
   "cell_type": "code",
   "execution_count": 3,
   "metadata": {},
   "outputs": [
    {
     "name": "stdout",
     "output_type": "stream",
     "text": [
      "Requirement already satisfied: yfinance in c:\\users\\hks-s\\appdata\\local\\programs\\python\\python37-32\\lib\\site-packages (0.1.55)Note: you may need to restart the kernel to use updated packages.\n",
      "Requirement already satisfied: pandas>=0.24 in c:\\users\\hks-s\\appdata\\local\\programs\\python\\python37-32\\lib\\site-packages (from yfinance) (1.1.5)\n",
      "Requirement already satisfied: numpy>=1.15 in c:\\users\\hks-s\\appdata\\local\\programs\\python\\python37-32\\lib\\site-packages (from yfinance) (1.19.4)\n",
      "Requirement already satisfied: requests>=2.20 in c:\\users\\hks-s\\appdata\\local\\programs\\python\\python37-32\\lib\\site-packages (from yfinance) (2.25.0)\n",
      "Requirement already satisfied: multitasking>=0.0.7 in c:\\users\\hks-s\\appdata\\local\\programs\\python\\python37-32\\lib\\site-packages (from yfinance) (0.0.9)\n",
      "Requirement already satisfied: lxml>=4.5.1 in c:\\users\\hks-s\\appdata\\local\\programs\\python\\python37-32\\lib\\site-packages (from yfinance) (4.6.2)\n",
      "Requirement already satisfied: pytz>=2017.2 in c:\\users\\hks-s\\appdata\\local\\programs\\python\\python37-32\\lib\\site-packages (from pandas>=0.24->yfinance) (2020.4)\n",
      "Requirement already satisfied: python-dateutil>=2.7.3 in c:\\users\\hks-s\\appdata\\roaming\\python\\python37\\site-packages (from pandas>=0.24->yfinance) (2.8.1)\n",
      "Requirement already satisfied: chardet<4,>=3.0.2 in c:\\users\\hks-s\\appdata\\local\\programs\\python\\python37-32\\lib\\site-packages (from requests>=2.20->yfinance) (3.0.4)\n",
      "Requirement already satisfied: certifi>=2017.4.17 in c:\\users\\hks-s\\appdata\\local\\programs\\python\\python37-32\\lib\\site-packages (from requests>=2.20->yfinance) (2020.12.5)\n",
      "Requirement already satisfied: urllib3<1.27,>=1.21.1 in c:\\users\\hks-s\\appdata\\local\\programs\\python\\python37-32\\lib\\site-packages (from requests>=2.20->yfinance) (1.26.2)\n",
      "Requirement already satisfied: idna<3,>=2.5 in c:\\users\\hks-s\\appdata\\local\\programs\\python\\python37-32\\lib\\site-packages (from requests>=2.20->yfinance) (2.10)\n",
      "Requirement already satisfied: six>=1.5 in c:\\users\\hks-s\\appdata\\roaming\\python\\python37\\site-packages (from python-dateutil>=2.7.3->pandas>=0.24->yfinance) (1.12.0)\n",
      "\n"
     ]
    },
    {
     "name": "stderr",
     "output_type": "stream",
     "text": [
      "You are using pip version 19.0.3, however version 20.3.1 is available.\n",
      "You should consider upgrading via the 'python -m pip install --upgrade pip' command.\n"
     ]
    }
   ],
   "source": [
    "pip install yfinance"
   ]
  },
  {
   "cell_type": "code",
   "execution_count": 9,
   "metadata": {},
   "outputs": [
    {
     "name": "stdout",
     "output_type": "stream",
     "text": [
      "Collecting pip\n",
      "  Downloading https://files.pythonhosted.org/packages/ab/11/2dc62c5263d9eb322f2f028f7b56cd9d096bb8988fcf82d65fa2e4057afe/pip-20.3.1-py2.py3-none-any.whl (1.5MB)\n",
      "Installing collected packages: pip\n",
      "  Found existing installation: pip 19.0.3\n",
      "    Uninstalling pip-19.0.3:\n",
      "      Successfully uninstalled pip-19.0.3\n",
      "Successfully installed pip-20.3.1\n",
      "Note: you may need to restart the kernel to use updated packages.\n"
     ]
    }
   ],
   "source": [
    "pip install --upgrade pip"
   ]
  },
  {
   "cell_type": "code",
   "execution_count": 1,
   "metadata": {},
   "outputs": [
    {
     "name": "stdout",
     "output_type": "stream",
     "text": [
      "                   Open         High          Low        Close    Volume  \\\n",
      "Date                                                                       \n",
      "1999-05-06  2296.554421  2375.519043  2270.232880  2375.519043   3115000   \n",
      "1999-05-07  2362.359368  2368.939756  2270.233933  2289.975098   3033000   \n",
      "1999-05-10  2289.974429  2316.295974  2270.233270  2283.394043   1261000   \n",
      "1999-05-11  2303.135646  2316.296421  2263.653320  2263.653320   1686000   \n",
      "1999-05-12  2263.652215  2303.134521  2263.652215  2303.134521   2596000   \n",
      "...                 ...          ...          ...          ...       ...   \n",
      "2020-12-07  7250.000000  7263.000000  7168.000000  7204.000000   4520700   \n",
      "2020-12-08  7160.000000  7228.000000  7122.000000  7199.000000   4134400   \n",
      "2020-12-09  7247.000000  7365.000000  7233.000000  7349.000000   5707100   \n",
      "2020-12-10  7403.000000  7498.000000  7384.000000  7480.000000   6541600   \n",
      "2020-12-11  7602.000000  7813.000000  7583.000000  7803.000000  14075900   \n",
      "\n",
      "            Dividends  Stock Splits  \n",
      "Date                                 \n",
      "1999-05-06        0.0             0  \n",
      "1999-05-07        0.0             0  \n",
      "1999-05-10        0.0             0  \n",
      "1999-05-11        0.0             0  \n",
      "1999-05-12        0.0             0  \n",
      "...               ...           ...  \n",
      "2020-12-07        0.0             0  \n",
      "2020-12-08        0.0             0  \n",
      "2020-12-09        0.0             0  \n",
      "2020-12-10        0.0             0  \n",
      "2020-12-11        0.0             0  \n",
      "\n",
      "[5346 rows x 7 columns]\n"
     ]
    }
   ],
   "source": [
    "import yfinance as yf\n",
    "\n",
    "ticker = yf.Ticker(\"7203.T\")\n",
    "hist = ticker.history(period=\"max\")\n",
    "print(hist)\n",
    "\n",
    "#価格データ"
   ]
  },
  {
   "cell_type": "code",
   "execution_count": 2,
   "metadata": {},
   "outputs": [
    {
     "name": "stdout",
     "output_type": "stream",
     "text": [
      "Empty DataFrame\n",
      "Columns: [Open, High, Low, Close, Adj Close, Volume]\n",
      "Index: []\n"
     ]
    }
   ],
   "source": [
    "financials = ticker.financials\n",
    "print(financials)\n"
   ]
  },
  {
   "cell_type": "code",
   "execution_count": 7,
   "metadata": {},
   "outputs": [
    {
     "name": "stdout",
     "output_type": "stream",
     "text": [
      "Empty DataFrame\n",
      "Columns: [Open, High, Low, Close, Adj Close, Volume]\n",
      "Index: []\n"
     ]
    }
   ],
   "source": [
    "balance_sheet = ticker.balance_sheet\n",
    "print(balance_sheet)"
   ]
  },
  {
   "cell_type": "code",
   "execution_count": 5,
   "metadata": {},
   "outputs": [
    {
     "name": "stdout",
     "output_type": "stream",
     "text": [
      "{'zip': '471-8571', 'sector': 'Consumer Cyclical', 'fullTimeEmployees': 359542, 'longBusinessSummary': 'Toyota Motor Corporation designs, manufactures, assembles, and sells passenger vehicles, minivans and commercial vehicles, and related parts and accessories. It operates in Automotive, Financial Services, and All Other segments. The company offers hybrid cars under the Prius, Prius PHV, C-HR, LC HV, LS HV, Camry, JPN TAXI, Avalon, Crown, Century HV, UX HV, Corolla SD, Corolla Sport, and WG HV names; fuel cell vehicles under the MIRAI and SORA names; and conventional engine vehicles, including subcompact and compact cars under the Yaris, Aqua, Passo, Roomy, Tank, Etios, Vios, AGYA, Rush, GLANZA, and Raize names. It also provides mini-vehicles, passenger vehicles, commercial vehicles, and auto parts under the Toyota name; mid-size cars under the Camry and REIZ names; luxury cars under the Lexus, Avalon, and Crown names; Century limousines; sports cars under the LC and Supra names; and recreational and sport-utility vehicles under the Sequoia, 4Runner, RAV4, Highlander, and Land Cruiser names. In addition, the company offers pickup trucks under the Tacoma and Tundra names; Minivans, Cabwagons, and Semi-Bonnet Wagon under the Alphard, Vellfire, Noah/Voxy, Esquire, Calya, Estima, Sienta, and Sienna names; and trucks and buses. Further, it provides financial services, such as retail financing and leasing, wholesale financing, insurance, and credit cards; and designs, manufactures, and sells prefabricated housing. Additionally, the company operates GAZOO.com, a web portal for automobile information. It operates in Japan, North America, Europe, Asia, Central and South America, Oceania, Africa, and the Middle East. The company was founded in 1933 and is headquartered in Toyota, Japan.', 'city': 'Toyota', 'phone': '81 565 28 2121', 'country': 'Japan', 'companyOfficers': [], 'website': 'http://global.toyota/en', 'maxAge': 1, 'address1': '1 Toyota-cho', 'industry': 'Auto Manufacturers', 'previousClose': 7480, 'regularMarketOpen': 7602, 'twoHundredDayAverage': 6961.6714, 'trailingAnnualDividendYield': 0.01604278, 'payoutRatio': 0.4001, 'volume24Hr': None, 'regularMarketDayHigh': 7813, 'navPrice': None, 'averageDailyVolume10Day': 5996037, 'totalAssets': None, 'regularMarketPreviousClose': 7480, 'fiftyDayAverage': 7162.4707, 'trailingAnnualDividendRate': 120, 'open': 7602, 'toCurrency': None, 'averageVolume10days': 5996037, 'expireDate': None, 'yield': None, 'algorithm': None, 'dividendRate': 220, 'exDividendDate': 1601337600, 'beta': 0.669767, 'circulatingSupply': None, 'startDate': None, 'regularMarketDayLow': 7583, 'priceHint': 2, 'currency': 'JPY', 'trailingPE': 15.38031, 'regularMarketVolume': 14077600, 'lastMarket': None, 'maxSupply': None, 'openInterest': None, 'marketCap': 21819673280512, 'volumeAllCurrencies': None, 'strikePrice': None, 'averageVolume': 4853469, 'priceToSalesTrailing12Months': 0.8385854, 'dayLow': 7583, 'ask': 7804, 'ytdReturn': None, 'askSize': 0, 'volume': 14077600, 'fiftyTwoWeekHigh': 8026, 'forwardPE': 9.329683, 'fromCurrency': None, 'fiveYearAvgDividendYield': 3.26, 'fiftyTwoWeekLow': 5771, 'bid': 7803, 'tradeable': False, 'dividendYield': 0.0299, 'bidSize': 0, 'dayHigh': 7813, 'exchange': 'JPX', 'shortName': 'TOYOTA MOTOR CORP', 'longName': 'Toyota Motor Corporation', 'exchangeTimezoneName': 'Asia/Tokyo', 'exchangeTimezoneShortName': 'JST', 'isEsgPopulated': False, 'gmtOffSetMilliseconds': '32400000', 'quoteType': 'EQUITY', 'symbol': '7203.T', 'messageBoardId': 'finmb_319676', 'market': 'jp_market', 'annualHoldingsTurnover': None, 'enterpriseToRevenue': 1.406, 'beta3Year': None, 'profitMargins': 0.054980002, 'enterpriseToEbitda': 11.495, '52WeekChange': -0.036575794, 'morningStarRiskRating': None, 'forwardEps': 836.47, 'revenueQuarterlyGrowth': None, 'sharesOutstanding': 2795960064, 'fundInceptionDate': None, 'annualReportExpenseRatio': None, 'bookValue': 7514.668, 'sharesShort': None, 'sharesPercentSharesOut': None, 'fundFamily': None, 'lastFiscalYearEnd': 1585612800, 'heldPercentInstitutions': 0.22620001, 'netIncomeToCommon': 1421933019136, 'trailingEps': 507.402, 'lastDividendValue': 120, 'SandP52WeekChange': 0.15914118, 'priceToBook': 1.0385023, 'heldPercentInsiders': 0.23608999, 'nextFiscalYearEnd': 1648684800, 'mostRecentQuarter': 1601424000, 'shortRatio': None, 'sharesShortPreviousMonthDate': None, 'floatShares': 2129778798, 'enterpriseValue': 36576134430720, 'threeYearAverageReturn': None, 'lastSplitDate': None, 'lastSplitFactor': None, 'legalType': None, 'lastDividendDate': 1585526400, 'morningStarOverallRating': None, 'earningsQuarterlyGrowth': -0.205, 'dateShortInterest': None, 'pegRatio': None, 'lastCapGain': None, 'shortPercentOfFloat': None, 'sharesShortPriorMonth': None, 'impliedSharesOutstanding': None, 'category': None, 'fiveYearAverageReturn': None, 'regularMarketPrice': 7602, 'logo_url': 'https://logo.clearbit.com/global.toyota'}\n"
     ]
    }
   ],
   "source": [
    "info = ticker.info\n",
    "print(info)"
   ]
  },
  {
   "cell_type": "code",
   "execution_count": 12,
   "metadata": {},
   "outputs": [
    {
     "name": "stdout",
     "output_type": "stream",
     "text": [
      "Empty DataFrame\n",
      "Columns: [Open, High, Low, Close, Adj Close, Volume]\n",
      "Index: []\n"
     ]
    }
   ],
   "source": [
    "cashflow = ticker.cashflow\n",
    "print(cashflow)"
   ]
  },
  {
   "cell_type": "code",
   "execution_count": 4,
   "metadata": {},
   "outputs": [
    {
     "ename": "ModuleNotFoundError",
     "evalue": "No module named 'matplotlib'",
     "output_type": "error",
     "traceback": [
      "\u001b[1;31m---------------------------------------------------------------------------\u001b[0m",
      "\u001b[1;31mModuleNotFoundError\u001b[0m                       Traceback (most recent call last)",
      "\u001b[1;32m<ipython-input-4-9d4929553e19>\u001b[0m in \u001b[0;36m<module>\u001b[1;34m\u001b[0m\n\u001b[0;32m      3\u001b[0m \u001b[1;32mimport\u001b[0m \u001b[0mpandas\u001b[0m \u001b[1;32mas\u001b[0m \u001b[0mpd\u001b[0m\u001b[1;33m\u001b[0m\u001b[1;33m\u001b[0m\u001b[0m\n\u001b[0;32m      4\u001b[0m \u001b[1;32mimport\u001b[0m \u001b[0myfinance\u001b[0m \u001b[1;32mas\u001b[0m \u001b[0myf\u001b[0m\u001b[1;33m\u001b[0m\u001b[1;33m\u001b[0m\u001b[0m\n\u001b[1;32m----> 5\u001b[1;33m \u001b[1;32mimport\u001b[0m \u001b[0mmatplotlib\u001b[0m\u001b[1;33m.\u001b[0m\u001b[0mpyplot\u001b[0m \u001b[1;32mas\u001b[0m \u001b[0mplt\u001b[0m\u001b[1;33m\u001b[0m\u001b[1;33m\u001b[0m\u001b[0m\n\u001b[0m\u001b[0;32m      6\u001b[0m \u001b[1;33m\u001b[0m\u001b[0m\n\u001b[0;32m      7\u001b[0m \u001b[0mdata\u001b[0m \u001b[1;33m=\u001b[0m \u001b[0mpd\u001b[0m\u001b[1;33m.\u001b[0m\u001b[0mread_csv\u001b[0m\u001b[1;33m(\u001b[0m\u001b[1;34m\"topix500.csv\"\u001b[0m\u001b[1;33m)\u001b[0m\u001b[1;33m\u001b[0m\u001b[1;33m\u001b[0m\u001b[0m\n",
      "\u001b[1;31mModuleNotFoundError\u001b[0m: No module named 'matplotlib'"
     ]
    }
   ],
   "source": [
    "import datetime\n",
    "import numpy as np\n",
    "import pandas as pd\n",
    "import yfinance as yf\n",
    "import matplotlib.pyplot as plt\n",
    "\n",
    "data = pd.read_csv(\"topix500.csv\")\n",
    "print(data)"
   ]
  },
  {
   "cell_type": "code",
   "execution_count": null,
   "metadata": {},
   "outputs": [],
   "source": []
  }
 ],
 "metadata": {
  "kernelspec": {
   "display_name": "Python 3.7.3 32-bit",
   "language": "python",
   "name": "python37332bitdf500bd58b834d9c999f9e559f97c952"
  },
  "language_info": {
   "codemirror_mode": {
    "name": "ipython",
    "version": 3
   },
   "file_extension": ".py",
   "mimetype": "text/x-python",
   "name": "python",
   "nbconvert_exporter": "python",
   "pygments_lexer": "ipython3",
   "version": "3.7.3"
  }
 },
 "nbformat": 4,
 "nbformat_minor": 4
}
